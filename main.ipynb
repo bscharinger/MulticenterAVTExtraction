{
 "nbformat": 4,
 "nbformat_minor": 0,
 "metadata": {
  "kernel_info": {
   "name": "azureml_py38_tensorflow"
  },
  "kernelspec": {
   "display_name": "Python 3 (ipykernel)",
   "language": "python",
   "name": "python3"
  },
  "language_info": {
   "codemirror_mode": {
    "name": "ipython",
    "version": 3
   },
   "file_extension": ".py",
   "mimetype": "text/x-python",
   "name": "python",
   "nbconvert_exporter": "python",
   "pygments_lexer": "ipython3",
   "version": "3.9.7"
  },
  "microsoft": {
   "host": {
    "AzureML": {
     "notebookHasBeenCompleted": true
    }
   }
  },
  "nteract": {
   "version": "nteract-front-end@1.0.0"
  },
  "colab": {
   "name": "main (1).ipynb",
   "provenance": [],
   "collapsed_sections": []
  },
  "accelerator": "GPU"
 },
 "cells": [
  {
   "cell_type": "code",
   "metadata": {
    "gather": {
     "logged": 1635980540292
    },
    "jupyter": {
     "outputs_hidden": false,
     "source_hidden": false
    },
    "nteract": {
     "transient": {
      "deleting": false
     }
    },
    "id": "vo77MIgCU3bW"
   },
   "source": [
    "from __future__ import division\n",
    "from glob import glob\n",
    "import tensorflow as tf\n",
    "from tensorflow import keras\n",
    "import random\n",
    "import nrrd\n",
    "import numpy as np\n",
    "\n",
    "import helper_funcs\n",
    "from data_gen import CTA\n",
    "from tensorflow.python.client import device_lib\n",
    "from Networks import model_unet_2\n",
    "from helper_funcs import dice_coef_loss"
   ],
   "execution_count": 4,
   "outputs": []
  },
  {
   "cell_type": "code",
   "metadata": {
    "colab": {
     "base_uri": "https://localhost:8080/"
    },
    "id": "7ECBhMooU3bY",
    "outputId": "9e2cc2b4-34f9-4eca-9437-20698b5638a7"
   },
   "source": [
    "print(\"Num GPUs Available: \", len(tf.config.list_physical_devices('GPU')))\n",
    "device_lib.list_local_devices()\n",
    "\n",
    "training_dir = \"./training_data/train_cyl_grey_im/\"\n",
    "label_dir = \"./training_data/train_cyl_grey_la/\"\n",
    "data_list =glob('{}/*.nrrd'.format(training_dir))\n",
    "label_list=glob('{}/*.nrrd'.format(label_dir))\n",
    "\n",
    "policy = keras.mixed_precision.Policy('mixed_float16')\n",
    "keras.mixed_precision.set_global_policy(policy)\n",
    "\n",
    "keras.backend.clear_session()\n",
    "\n",
    "img_size = (512, 512, 40)\n",
    "model = model_unet_2.get_model(img_size)\n",
    "a=model.summary(line_length=150)\n",
    "\n"
   ],
   "execution_count": 6,
   "outputs": [
    {
     "name": "stdout",
     "output_type": "stream",
     "text": [
      "Num GPUs Available:  1\n",
      "(None, 512, 512, 40, 1)\n",
      "Model: \"model\"\n",
      "______________________________________________________________________________________________________________________________________________________\n",
      "Layer (type)                                     Output Shape                     Param #           Connected to                                      \n",
      "======================================================================================================================================================\n",
      "input_1 (InputLayer)                             [(None, 512, 512, 40, 1)]        0                                                                   \n",
      "______________________________________________________________________________________________________________________________________________________\n",
      "conv3d (Conv3D)                                  (None, 512, 512, 40, 16)         448               input_1[0][0]                                     \n",
      "______________________________________________________________________________________________________________________________________________________\n",
      "batch_normalization (BatchNormalization)         (None, 512, 512, 40, 16)         64                conv3d[0][0]                                      \n",
      "______________________________________________________________________________________________________________________________________________________\n",
      "activation (Activation)                          (None, 512, 512, 40, 16)         0                 batch_normalization[0][0]                         \n",
      "______________________________________________________________________________________________________________________________________________________\n",
      "conv3d_1 (Conv3D)                                (None, 512, 512, 40, 16)         6928              activation[0][0]                                  \n",
      "______________________________________________________________________________________________________________________________________________________\n",
      "batch_normalization_1 (BatchNormalization)       (None, 512, 512, 40, 16)         64                conv3d_1[0][0]                                    \n",
      "______________________________________________________________________________________________________________________________________________________\n",
      "activation_1 (Activation)                        (None, 512, 512, 40, 16)         0                 batch_normalization_1[0][0]                       \n",
      "______________________________________________________________________________________________________________________________________________________\n",
      "max_pooling3d (MaxPooling3D)                     (None, 256, 256, 20, 16)         0                 activation_1[0][0]                                \n",
      "______________________________________________________________________________________________________________________________________________________\n",
      "conv3d_2 (Conv3D)                                (None, 256, 256, 20, 16)         6928              max_pooling3d[0][0]                               \n",
      "______________________________________________________________________________________________________________________________________________________\n",
      "batch_normalization_2 (BatchNormalization)       (None, 256, 256, 20, 16)         64                conv3d_2[0][0]                                    \n",
      "______________________________________________________________________________________________________________________________________________________\n",
      "activation_2 (Activation)                        (None, 256, 256, 20, 16)         0                 batch_normalization_2[0][0]                       \n",
      "______________________________________________________________________________________________________________________________________________________\n",
      "conv3d_3 (Conv3D)                                (None, 256, 256, 20, 16)         6928              activation_2[0][0]                                \n",
      "______________________________________________________________________________________________________________________________________________________\n",
      "batch_normalization_3 (BatchNormalization)       (None, 256, 256, 20, 16)         64                conv3d_3[0][0]                                    \n",
      "______________________________________________________________________________________________________________________________________________________\n",
      "activation_3 (Activation)                        (None, 256, 256, 20, 16)         0                 batch_normalization_3[0][0]                       \n",
      "______________________________________________________________________________________________________________________________________________________\n",
      "max_pooling3d_1 (MaxPooling3D)                   (None, 128, 128, 10, 16)         0                 activation_3[0][0]                                \n",
      "______________________________________________________________________________________________________________________________________________________\n",
      "conv3d_4 (Conv3D)                                (None, 128, 128, 10, 16)         6928              max_pooling3d_1[0][0]                             \n",
      "______________________________________________________________________________________________________________________________________________________\n",
      "batch_normalization_4 (BatchNormalization)       (None, 128, 128, 10, 16)         64                conv3d_4[0][0]                                    \n",
      "______________________________________________________________________________________________________________________________________________________\n",
      "activation_4 (Activation)                        (None, 128, 128, 10, 16)         0                 batch_normalization_4[0][0]                       \n",
      "______________________________________________________________________________________________________________________________________________________\n",
      "conv3d_5 (Conv3D)                                (None, 128, 128, 10, 16)         6928              activation_4[0][0]                                \n",
      "______________________________________________________________________________________________________________________________________________________\n",
      "batch_normalization_5 (BatchNormalization)       (None, 128, 128, 10, 16)         64                conv3d_5[0][0]                                    \n",
      "______________________________________________________________________________________________________________________________________________________\n",
      "activation_5 (Activation)                        (None, 128, 128, 10, 16)         0                 batch_normalization_5[0][0]                       \n",
      "______________________________________________________________________________________________________________________________________________________\n",
      "max_pooling3d_2 (MaxPooling3D)                   (None, 64, 64, 5, 16)            0                 activation_5[0][0]                                \n",
      "______________________________________________________________________________________________________________________________________________________\n",
      "conv3d_6 (Conv3D)                                (None, 64, 64, 5, 16)            6928              max_pooling3d_2[0][0]                             \n",
      "______________________________________________________________________________________________________________________________________________________\n",
      "batch_normalization_6 (BatchNormalization)       (None, 64, 64, 5, 16)            64                conv3d_6[0][0]                                    \n",
      "______________________________________________________________________________________________________________________________________________________\n",
      "activation_6 (Activation)                        (None, 64, 64, 5, 16)            0                 batch_normalization_6[0][0]                       \n",
      "______________________________________________________________________________________________________________________________________________________\n",
      "conv3d_7 (Conv3D)                                (None, 64, 64, 5, 16)            6928              activation_6[0][0]                                \n",
      "______________________________________________________________________________________________________________________________________________________\n",
      "batch_normalization_7 (BatchNormalization)       (None, 64, 64, 5, 16)            64                conv3d_7[0][0]                                    \n",
      "______________________________________________________________________________________________________________________________________________________\n",
      "activation_7 (Activation)                        (None, 64, 64, 5, 16)            0                 batch_normalization_7[0][0]                       \n",
      "______________________________________________________________________________________________________________________________________________________\n",
      "up_sampling3d (UpSampling3D)                     (None, 128, 128, 10, 16)         0                 activation_7[0][0]                                \n",
      "______________________________________________________________________________________________________________________________________________________\n",
      "concatenate (Concatenate)                        (None, 128, 128, 10, 32)         0                 up_sampling3d[0][0]                               \n",
      "                                                                                                    activation_5[0][0]                                \n",
      "______________________________________________________________________________________________________________________________________________________\n",
      "conv3d_8 (Conv3D)                                (None, 128, 128, 10, 16)         13840             concatenate[0][0]                                 \n",
      "______________________________________________________________________________________________________________________________________________________\n",
      "batch_normalization_8 (BatchNormalization)       (None, 128, 128, 10, 16)         64                conv3d_8[0][0]                                    \n",
      "______________________________________________________________________________________________________________________________________________________\n",
      "activation_8 (Activation)                        (None, 128, 128, 10, 16)         0                 batch_normalization_8[0][0]                       \n",
      "______________________________________________________________________________________________________________________________________________________\n",
      "conv3d_9 (Conv3D)                                (None, 128, 128, 10, 16)         6928              activation_8[0][0]                                \n",
      "______________________________________________________________________________________________________________________________________________________\n",
      "batch_normalization_9 (BatchNormalization)       (None, 128, 128, 10, 16)         64                conv3d_9[0][0]                                    \n",
      "______________________________________________________________________________________________________________________________________________________\n",
      "activation_9 (Activation)                        (None, 128, 128, 10, 16)         0                 batch_normalization_9[0][0]                       \n",
      "______________________________________________________________________________________________________________________________________________________\n",
      "up_sampling3d_1 (UpSampling3D)                   (None, 256, 256, 20, 16)         0                 activation_9[0][0]                                \n",
      "______________________________________________________________________________________________________________________________________________________\n",
      "concatenate_1 (Concatenate)                      (None, 256, 256, 20, 32)         0                 up_sampling3d_1[0][0]                             \n",
      "                                                                                                    activation_3[0][0]                                \n",
      "______________________________________________________________________________________________________________________________________________________\n",
      "conv3d_10 (Conv3D)                               (None, 256, 256, 20, 16)         13840             concatenate_1[0][0]                               \n",
      "______________________________________________________________________________________________________________________________________________________\n",
      "batch_normalization_10 (BatchNormalization)      (None, 256, 256, 20, 16)         64                conv3d_10[0][0]                                   \n",
      "______________________________________________________________________________________________________________________________________________________\n",
      "activation_10 (Activation)                       (None, 256, 256, 20, 16)         0                 batch_normalization_10[0][0]                      \n",
      "______________________________________________________________________________________________________________________________________________________\n",
      "conv3d_11 (Conv3D)                               (None, 256, 256, 20, 16)         6928              activation_10[0][0]                               \n",
      "______________________________________________________________________________________________________________________________________________________\n",
      "batch_normalization_11 (BatchNormalization)      (None, 256, 256, 20, 16)         64                conv3d_11[0][0]                                   \n",
      "______________________________________________________________________________________________________________________________________________________\n",
      "activation_11 (Activation)                       (None, 256, 256, 20, 16)         0                 batch_normalization_11[0][0]                      \n",
      "______________________________________________________________________________________________________________________________________________________\n",
      "up_sampling3d_2 (UpSampling3D)                   (None, 512, 512, 40, 16)         0                 activation_11[0][0]                               \n",
      "______________________________________________________________________________________________________________________________________________________\n",
      "concatenate_2 (Concatenate)                      (None, 512, 512, 40, 32)         0                 up_sampling3d_2[0][0]                             \n",
      "                                                                                                    activation_1[0][0]                                \n",
      "______________________________________________________________________________________________________________________________________________________\n",
      "conv3d_12 (Conv3D)                               (None, 512, 512, 40, 16)         13840             concatenate_2[0][0]                               \n",
      "______________________________________________________________________________________________________________________________________________________\n",
      "batch_normalization_12 (BatchNormalization)      (None, 512, 512, 40, 16)         64                conv3d_12[0][0]                                   \n",
      "______________________________________________________________________________________________________________________________________________________\n",
      "activation_12 (Activation)                       (None, 512, 512, 40, 16)         0                 batch_normalization_12[0][0]                      \n",
      "______________________________________________________________________________________________________________________________________________________\n",
      "conv3d_13 (Conv3D)                               (None, 512, 512, 40, 16)         6928              activation_12[0][0]                               \n",
      "______________________________________________________________________________________________________________________________________________________\n",
      "batch_normalization_13 (BatchNormalization)      (None, 512, 512, 40, 16)         64                conv3d_13[0][0]                                   \n",
      "______________________________________________________________________________________________________________________________________________________\n",
      "activation_13 (Activation)                       (None, 512, 512, 40, 16)         0                 batch_normalization_13[0][0]                      \n",
      "______________________________________________________________________________________________________________________________________________________\n",
      "conv3d_14 (Conv3D)                               (None, 512, 512, 40, 1)          17                activation_13[0][0]                               \n",
      "______________________________________________________________________________________________________________________________________________________\n",
      "activation_14 (Activation)                       (None, 512, 512, 40, 1)          0                 conv3d_14[0][0]                                   \n",
      "======================================================================================================================================================\n",
      "Total params: 112,161\n",
      "Trainable params: 111,713\n",
      "Non-trainable params: 448\n",
      "______________________________________________________________________________________________________________________________________________________\n"
     ]
    }
   ]
  },
  {
   "cell_type": "markdown",
   "source": [
    "\n"
   ],
   "metadata": {
    "collapsed": false,
    "pycharm": {
     "name": "#%% md\n"
    }
   }
  },
  {
   "cell_type": "code",
   "metadata": {
    "gather": {
     "logged": 1633709498961
    },
    "jupyter": {
     "outputs_hidden": false,
     "source_hidden": false
    },
    "nteract": {
     "transient": {
      "deleting": false
     }
    },
    "scrolled": true,
    "id": "UJWnfZpZU3bb"
   },
   "source": [
    "val_samples = int(np.floor(len(data_list)*0.2))\n",
    "random.Random(7331).shuffle(data_list)\n",
    "random.Random(7331).shuffle(label_list)\n",
    "\n",
    "train_img_paths = data_list[:-val_samples]\n",
    "train_lab_paths = label_list[:-val_samples]\n",
    "\n",
    "val_img_paths = data_list[-val_samples:]\n",
    "val_lab_paths = label_list[-val_samples:]\n",
    "\n",
    "train_gen = CTA(train_img_paths, train_lab_paths,1)\n",
    "valid_gen = CTA(val_img_paths, val_lab_paths,1)"
   ],
   "execution_count": 7,
   "outputs": []
  },
  {
   "cell_type": "code",
   "source": [
    "from tensorflow.compat.v1 import ConfigProto\n",
    "from tensorflow.compat.v1 import InteractiveSession\n",
    "\n",
    "config = ConfigProto()\n",
    "config.gpu_options.per_process_gpu_memory_fraction = 0.6\n",
    "config.gpu_options.allow_growth = True\n",
    "session = InteractiveSession(config=config)"
   ],
   "metadata": {
    "id": "0zcH4AMACF9-"
   },
   "execution_count": 8,
   "outputs": []
  },
  {
   "cell_type": "code",
   "execution_count": 9,
   "outputs": [],
   "source": [
    "import time"
   ],
   "metadata": {
    "collapsed": false,
    "pycharm": {
     "name": "#%%\n"
    }
   }
  },
  {
   "cell_type": "code",
   "metadata": {
    "jupyter": {
     "outputs_hidden": false,
     "source_hidden": false
    },
    "nteract": {
     "transient": {
      "deleting": false
     }
    },
    "scrolled": false,
    "colab": {
     "base_uri": "https://localhost:8080/"
    },
    "id": "FxFe6hDqU3bc",
    "outputId": "376caa2e-5f02-4a0f-dc64-f01c4ba267f8"
   },
   "source": [
    "model.compile(optimizer=tf.keras.optimizers.Adam(learning_rate=0.001, epsilon=0.01), loss=[dice_coef_loss], metrics=[tf.keras.losses.BinaryCrossentropy()])\n",
    "epochs = 200\n",
    "\n",
    "class BatchHistories(keras.callbacks.Callback):\n",
    "\n",
    "    def on_train_begin(self,logs={}):\n",
    "        self.losses = []\n",
    "\n",
    "    def on_batch_end(self, batch, logs={}):\n",
    "        self.losses.append(logs.get('loss'))\n",
    "batch_loss = BatchHistories()\n",
    "\n",
    "callbacks = [\n",
    "    keras.callbacks.EarlyStopping(patience=10, verbose=1),\n",
    "    keras.callbacks.ReduceLROnPlateau(factor=0.1, patience=5, min_lr=0.000001, verbose=1),\n",
    "    keras.callbacks.ModelCheckpoint(\"unet2_toy_train_z40_grey.h5\", verbose=1, save_best_only=True),\n",
    "    batch_loss\n",
    "]\n",
    "start = time.time()\n",
    "history = model.fit(train_gen, epochs=epochs, validation_data=valid_gen, callbacks=callbacks,shuffle=True)\n",
    "end = time.time()\n",
    "print('Training time: ', end-start)"
   ],
   "execution_count": 10,
   "outputs": [
    {
     "name": "stdout",
     "output_type": "stream",
     "text": [
      "Epoch 1/200\n",
      "806/806 [==============================] - 1018s 1s/step - loss: 0.0517 - binary_crossentropy: 0.3114 - val_loss: 0.0180 - val_binary_crossentropy: 0.1759\n",
      "\n",
      "Epoch 00001: val_loss improved from inf to 0.01799, saving model to unet2_toy_train_z40_grey.h5\n",
      "Epoch 2/200\n",
      "806/806 [==============================] - 929s 1s/step - loss: 0.0087 - binary_crossentropy: 0.0989 - val_loss: 0.0015 - val_binary_crossentropy: 0.0380\n",
      "\n",
      "Epoch 00002: val_loss improved from 0.01799 to 0.00148, saving model to unet2_toy_train_z40_grey.h5\n",
      "Epoch 3/200\n",
      "806/806 [==============================] - 926s 1s/step - loss: 8.8603e-04 - binary_crossentropy: 0.0286 - val_loss: 6.1031e-04 - val_binary_crossentropy: 0.0236\n",
      "\n",
      "Epoch 00003: val_loss improved from 0.00148 to 0.00061, saving model to unet2_toy_train_z40_grey.h5\n",
      "Epoch 4/200\n",
      "806/806 [==============================] - 917s 1s/step - loss: 4.5929e-04 - binary_crossentropy: 0.0201 - val_loss: 3.6143e-04 - val_binary_crossentropy: 0.0177\n",
      "\n",
      "Epoch 00004: val_loss improved from 0.00061 to 0.00036, saving model to unet2_toy_train_z40_grey.h5\n",
      "Epoch 5/200\n",
      "806/806 [==============================] - 919s 1s/step - loss: 2.9756e-04 - binary_crossentropy: 0.0157 - val_loss: 2.4403e-04 - val_binary_crossentropy: 0.0142\n",
      "\n",
      "Epoch 00005: val_loss improved from 0.00036 to 0.00024, saving model to unet2_toy_train_z40_grey.h5\n",
      "Epoch 6/200\n",
      "806/806 [==============================] - 936s 1s/step - loss: 2.1585e-04 - binary_crossentropy: 0.0131 - val_loss: 1.8539e-04 - val_binary_crossentropy: 0.0121\n",
      "\n",
      "Epoch 00006: val_loss improved from 0.00024 to 0.00019, saving model to unet2_toy_train_z40_grey.h5\n",
      "Epoch 7/200\n",
      "806/806 [==============================] - 923s 1s/step - loss: 1.6804e-04 - binary_crossentropy: 0.0112 - val_loss: 1.4564e-04 - val_binary_crossentropy: 0.0104\n",
      "\n",
      "Epoch 00007: val_loss improved from 0.00019 to 0.00015, saving model to unet2_toy_train_z40_grey.h5\n",
      "Epoch 8/200\n",
      "806/806 [==============================] - 936s 1s/step - loss: 1.3770e-04 - binary_crossentropy: 0.0099 - val_loss: 1.2105e-04 - val_binary_crossentropy: 0.0093\n",
      "\n",
      "Epoch 00008: val_loss improved from 0.00015 to 0.00012, saving model to unet2_toy_train_z40_grey.h5\n",
      "Epoch 9/200\n",
      "806/806 [==============================] - 946s 1s/step - loss: 1.1776e-04 - binary_crossentropy: 0.0089 - val_loss: 1.0498e-04 - val_binary_crossentropy: 0.0084\n",
      "\n",
      "Epoch 00009: val_loss improved from 0.00012 to 0.00010, saving model to unet2_toy_train_z40_grey.h5\n",
      "Epoch 10/200\n",
      "806/806 [==============================] - 933s 1s/step - loss: 1.0360e-04 - binary_crossentropy: 0.0082 - val_loss: 9.2181e-05 - val_binary_crossentropy: 0.0077\n",
      "\n",
      "Epoch 00010: val_loss improved from 0.00010 to 0.00009, saving model to unet2_toy_train_z40_grey.h5\n",
      "Epoch 11/200\n",
      "806/806 [==============================] - 931s 1s/step - loss: 9.3195e-05 - binary_crossentropy: 0.0076 - val_loss: 8.5040e-05 - val_binary_crossentropy: 0.0073\n",
      "\n",
      "Epoch 00011: val_loss improved from 0.00009 to 0.00009, saving model to unet2_toy_train_z40_grey.h5\n",
      "Epoch 12/200\n",
      "806/806 [==============================] - 1147s 1s/step - loss: 8.4996e-05 - binary_crossentropy: 0.0071 - val_loss: 7.7253e-05 - val_binary_crossentropy: 0.0068\n",
      "\n",
      "Epoch 00012: val_loss improved from 0.00009 to 0.00008, saving model to unet2_toy_train_z40_grey.h5\n",
      "Epoch 13/200\n",
      "806/806 [==============================] - 1521s 2s/step - loss: 7.8413e-05 - binary_crossentropy: 0.0067 - val_loss: 6.9975e-05 - val_binary_crossentropy: 0.0064\n",
      "\n",
      "Epoch 00013: ReduceLROnPlateau reducing learning rate to 0.00010000000474974513.\n",
      "\n",
      "Epoch 00013: val_loss improved from 0.00008 to 0.00007, saving model to unet2_toy_train_z40_grey.h5\n",
      "Epoch 14/200\n",
      "806/806 [==============================] - 1539s 2s/step - loss: 7.5205e-05 - binary_crossentropy: 0.0065 - val_loss: 7.0057e-05 - val_binary_crossentropy: 0.0064\n",
      "\n",
      "Epoch 00014: val_loss did not improve from 0.00007\n",
      "Epoch 15/200\n",
      "806/806 [==============================] - 1539s 2s/step - loss: 7.4557e-05 - binary_crossentropy: 0.0064 - val_loss: 6.9587e-05 - val_binary_crossentropy: 0.0064\n",
      "\n",
      "Epoch 00015: val_loss improved from 0.00007 to 0.00007, saving model to unet2_toy_train_z40_grey.h5\n",
      "Epoch 16/200\n",
      "806/806 [==============================] - 1539s 2s/step - loss: 7.4087e-05 - binary_crossentropy: 0.0064 - val_loss: 6.9165e-05 - val_binary_crossentropy: 0.0063\n",
      "\n",
      "Epoch 00016: val_loss improved from 0.00007 to 0.00007, saving model to unet2_toy_train_z40_grey.h5\n",
      "Epoch 17/200\n",
      "806/806 [==============================] - 1541s 2s/step - loss: 7.3623e-05 - binary_crossentropy: 0.0064 - val_loss: 6.8748e-05 - val_binary_crossentropy: 0.0063\n",
      "\n",
      "Epoch 00017: val_loss improved from 0.00007 to 0.00007, saving model to unet2_toy_train_z40_grey.h5\n",
      "Epoch 18/200\n",
      "806/806 [==============================] - 1520s 2s/step - loss: 7.3153e-05 - binary_crossentropy: 0.0063 - val_loss: 6.8202e-05 - val_binary_crossentropy: 0.0063\n",
      "\n",
      "Epoch 00018: ReduceLROnPlateau reducing learning rate to 1.0000000474974514e-05.\n",
      "\n",
      "Epoch 00018: val_loss improved from 0.00007 to 0.00007, saving model to unet2_toy_train_z40_grey.h5\n",
      "Epoch 19/200\n",
      "806/806 [==============================] - 1516s 2s/step - loss: 7.2897e-05 - binary_crossentropy: 0.0063 - val_loss: 6.8222e-05 - val_binary_crossentropy: 0.0063\n",
      "\n",
      "Epoch 00019: val_loss did not improve from 0.00007\n",
      "Epoch 20/200\n",
      "806/806 [==============================] - 1539s 2s/step - loss: 7.2872e-05 - binary_crossentropy: 0.0063 - val_loss: 6.8237e-05 - val_binary_crossentropy: 0.0063\n",
      "\n",
      "Epoch 00020: val_loss did not improve from 0.00007\n",
      "Epoch 21/200\n",
      "806/806 [==============================] - 1539s 2s/step - loss: 7.2826e-05 - binary_crossentropy: 0.0063 - val_loss: 6.8113e-05 - val_binary_crossentropy: 0.0063\n",
      "\n",
      "Epoch 00021: val_loss improved from 0.00007 to 0.00007, saving model to unet2_toy_train_z40_grey.h5\n",
      "Epoch 22/200\n",
      "806/806 [==============================] - 1540s 2s/step - loss: 7.2795e-05 - binary_crossentropy: 0.0063 - val_loss: 6.8170e-05 - val_binary_crossentropy: 0.0063\n",
      "\n",
      "Epoch 00022: val_loss did not improve from 0.00007\n",
      "Epoch 23/200\n",
      "806/806 [==============================] - 1538s 2s/step - loss: 7.2773e-05 - binary_crossentropy: 0.0063 - val_loss: 6.8118e-05 - val_binary_crossentropy: 0.0063\n",
      "\n",
      "Epoch 00023: ReduceLROnPlateau reducing learning rate to 1.0000000656873453e-06.\n",
      "\n",
      "Epoch 00023: val_loss did not improve from 0.00007\n",
      "Epoch 24/200\n",
      "806/806 [==============================] - 1537s 2s/step - loss: 7.2763e-05 - binary_crossentropy: 0.0063 - val_loss: 6.8190e-05 - val_binary_crossentropy: 0.0063\n",
      "\n",
      "Epoch 00024: val_loss did not improve from 0.00007\n",
      "Epoch 25/200\n",
      "806/806 [==============================] - 1539s 2s/step - loss: 7.2763e-05 - binary_crossentropy: 0.0063 - val_loss: 6.8110e-05 - val_binary_crossentropy: 0.0063\n",
      "\n",
      "Epoch 00025: val_loss improved from 0.00007 to 0.00007, saving model to unet2_toy_train_z40_grey.h5\n",
      "Epoch 26/200\n",
      "806/806 [==============================] - 1538s 2s/step - loss: 7.2762e-05 - binary_crossentropy: 0.0063 - val_loss: 6.8181e-05 - val_binary_crossentropy: 0.0063\n",
      "\n",
      "Epoch 00026: val_loss did not improve from 0.00007\n",
      "Epoch 27/200\n",
      "806/806 [==============================] - 1539s 2s/step - loss: 7.2762e-05 - binary_crossentropy: 0.0063 - val_loss: 6.8105e-05 - val_binary_crossentropy: 0.0063\n",
      "\n",
      "Epoch 00027: val_loss improved from 0.00007 to 0.00007, saving model to unet2_toy_train_z40_grey.h5\n",
      "Epoch 28/200\n",
      "806/806 [==============================] - 1537s 2s/step - loss: 7.2762e-05 - binary_crossentropy: 0.0063 - val_loss: 6.8070e-05 - val_binary_crossentropy: 0.0063\n",
      "\n",
      "Epoch 00028: ReduceLROnPlateau reducing learning rate to 1e-06.\n",
      "\n",
      "Epoch 00028: val_loss improved from 0.00007 to 0.00007, saving model to unet2_toy_train_z40_grey.h5\n",
      "Epoch 29/200\n",
      "806/806 [==============================] - 1557s 2s/step - loss: 7.2762e-05 - binary_crossentropy: 0.0063 - val_loss: 6.8116e-05 - val_binary_crossentropy: 0.0063\n",
      "\n",
      "Epoch 00029: val_loss did not improve from 0.00007\n",
      "Epoch 30/200\n",
      "806/806 [==============================] - 1514s 2s/step - loss: 7.2761e-05 - binary_crossentropy: 0.0063 - val_loss: 6.8149e-05 - val_binary_crossentropy: 0.0063\n",
      "\n",
      "Epoch 00030: val_loss did not improve from 0.00007\n",
      "Epoch 31/200\n",
      "806/806 [==============================] - 1538s 2s/step - loss: 7.2761e-05 - binary_crossentropy: 0.0063 - val_loss: 6.8158e-05 - val_binary_crossentropy: 0.0063\n",
      "\n",
      "Epoch 00031: val_loss did not improve from 0.00007\n",
      "Epoch 32/200\n",
      "806/806 [==============================] - 1537s 2s/step - loss: 7.2762e-05 - binary_crossentropy: 0.0063 - val_loss: 6.8214e-05 - val_binary_crossentropy: 0.0063\n",
      "\n",
      "Epoch 00032: val_loss did not improve from 0.00007\n",
      "Epoch 33/200\n",
      "806/806 [==============================] - 1540s 2s/step - loss: 7.2762e-05 - binary_crossentropy: 0.0063 - val_loss: 6.8165e-05 - val_binary_crossentropy: 0.0063\n",
      "\n",
      "Epoch 00033: val_loss did not improve from 0.00007\n",
      "Epoch 34/200\n",
      "806/806 [==============================] - 1539s 2s/step - loss: 7.2762e-05 - binary_crossentropy: 0.0063 - val_loss: 6.8206e-05 - val_binary_crossentropy: 0.0063\n",
      "\n",
      "Epoch 00034: val_loss did not improve from 0.00007\n",
      "Epoch 35/200\n",
      "806/806 [==============================] - 1538s 2s/step - loss: 7.2762e-05 - binary_crossentropy: 0.0063 - val_loss: 6.8172e-05 - val_binary_crossentropy: 0.0063\n",
      "\n",
      "Epoch 00035: val_loss did not improve from 0.00007\n",
      "Epoch 36/200\n",
      "806/806 [==============================] - 1536s 2s/step - loss: 7.2762e-05 - binary_crossentropy: 0.0063 - val_loss: 6.8110e-05 - val_binary_crossentropy: 0.0063\n",
      "\n",
      "Epoch 00036: val_loss did not improve from 0.00007\n",
      "Epoch 37/200\n",
      "806/806 [==============================] - 1538s 2s/step - loss: 7.2761e-05 - binary_crossentropy: 0.0063 - val_loss: 6.8187e-05 - val_binary_crossentropy: 0.0063\n",
      "\n",
      "Epoch 00037: val_loss did not improve from 0.00007\n",
      "Epoch 38/200\n",
      "806/806 [==============================] - 1540s 2s/step - loss: 7.2761e-05 - binary_crossentropy: 0.0063 - val_loss: 6.8149e-05 - val_binary_crossentropy: 0.0063\n",
      "\n",
      "Epoch 00038: val_loss did not improve from 0.00007\n",
      "Epoch 00038: early stopping\n",
      "Training time:  51403.73484945297\n"
     ]
    }
   ]
  },
  {
   "cell_type": "code",
   "execution_count": 7,
   "outputs": [
    {
     "name": "stdout",
     "output_type": "stream",
     "text": [
      "INFO:tensorflow:Assets written to: Model_pretrained_cyl_z40_new\\assets\n"
     ]
    }
   ],
   "source": [
    "model.save('Model_pretrained_cyl_z40_new')\n",
    "model.save('Model_pretrained_cyl_z40_new.h5')"
   ],
   "metadata": {
    "collapsed": false,
    "pycharm": {
     "name": "#%%\n"
    }
   }
  },
  {
   "cell_type": "code",
   "execution_count": 12,
   "outputs": [
    {
     "data": {
      "text/plain": "Text(0, 0.5, 'Dice loss')"
     },
     "execution_count": 12,
     "metadata": {},
     "output_type": "execute_result"
    },
    {
     "data": {
      "text/plain": "<Figure size 432x288 with 1 Axes>",
      "image/png": "[encoded data removed]"
     },
     "metadata": {
      "needs_background": "light"
     },
     "output_type": "display_data"
    }
   ],
   "source": [
    "import matplotlib.pyplot as plt\n",
    "plt.figure()\n",
    "plt.plot(history.history['val_loss'], label='Validation Dice Loss')\n",
    "plt.plot(history.history['loss'], label='Train Dice Loss')\n",
    "#plt.plot(batch_loss.losses)\n",
    "plt.legend()\n",
    "plt.xlabel('Iterations')\n",
    "plt.ylabel('Dice loss')"
   ],
   "metadata": {
    "collapsed": false,
    "pycharm": {
     "name": "#%%\n"
    }
   }
  },
  {
   "cell_type": "code",
   "execution_count": 13,
   "outputs": [],
   "source": [
    "training_dir = \"./training_data/train_patch_z40_dnep_im\"\n",
    "label_dir = \"./training_data/train_patch_z40_dnep_la\"\n",
    "data_list =glob('{}/*.nrrd'.format(training_dir))\n",
    "label_list=glob('{}/*.nrrd'.format(label_dir))\n",
    "val_samples = int(np.floor(len(data_list)*0.2))\n",
    "random.Random(7331).shuffle(data_list)\n",
    "random.Random(7331).shuffle(label_list)\n",
    "\n",
    "train_img_paths = data_list[:-val_samples]\n",
    "train_lab_paths = label_list[:-val_samples]\n",
    "\n",
    "val_img_paths = data_list[-val_samples:]\n",
    "val_lab_paths = label_list[-val_samples:]\n",
    "\n",
    "train_gen = TOY(train_img_paths, train_lab_paths,1)\n",
    "valid_gen = TOY(val_img_paths, val_lab_paths,1)"
   ],
   "metadata": {
    "collapsed": false,
    "pycharm": {
     "name": "#%%\n"
    }
   }
  },
  {
   "cell_type": "code",
   "execution_count": 34,
   "outputs": [],
   "source": [
    "model_pret = keras.models.load_model('unet2_toy_train_z40_grey.h5', compile=False)\n",
    "#for layer in model_pret.layers[:23]:\n",
    "\t#layer.trainable = False\n",
    "model_pret.compile(optimizer=tf.keras.optimizers.Adam(learning_rate=0.001, epsilon=0.01), loss=[dice_coef_loss], metrics=[tf.keras.losses.BinaryCrossentropy()])\n",
    "epochs = 200"
   ],
   "metadata": {
    "collapsed": false,
    "pycharm": {
     "name": "#%%\n"
    }
   }
  },
  {
   "cell_type": "code",
   "execution_count": 35,
   "outputs": [
    {
     "name": "stdout",
     "output_type": "stream",
     "text": [
      "Epoch 1/200\n",
      "372/372 [==============================] - 414s 1s/step - loss: 0.0025 - binary_crossentropy: 0.0313 - val_loss: 0.0019 - val_binary_crossentropy: 0.0267\n",
      "\n",
      "Epoch 00001: val_loss improved from inf to 0.00195, saving model to unet2_train_z40_grey_normal_lr.h5\n",
      "Epoch 2/200\n",
      "372/372 [==============================] - 388s 1s/step - loss: 0.0020 - binary_crossentropy: 0.0272 - val_loss: 0.0019 - val_binary_crossentropy: 0.0249\n",
      "\n",
      "Epoch 00002: val_loss improved from 0.00195 to 0.00186, saving model to unet2_train_z40_grey_normal_lr.h5\n",
      "Epoch 3/200\n",
      "372/372 [==============================] - 386s 1s/step - loss: 0.0019 - binary_crossentropy: 0.0254 - val_loss: 0.0018 - val_binary_crossentropy: 0.0237\n",
      "\n",
      "Epoch 00003: val_loss improved from 0.00186 to 0.00182, saving model to unet2_train_z40_grey_normal_lr.h5\n",
      "Epoch 4/200\n",
      "372/372 [==============================] - 388s 1s/step - loss: 0.0019 - binary_crossentropy: 0.0242 - val_loss: 0.0018 - val_binary_crossentropy: 0.0226\n",
      "\n",
      "Epoch 00004: val_loss improved from 0.00182 to 0.00179, saving model to unet2_train_z40_grey_normal_lr.h5\n",
      "Epoch 5/200\n",
      "372/372 [==============================] - 388s 1s/step - loss: 0.0019 - binary_crossentropy: 0.0235 - val_loss: 0.0018 - val_binary_crossentropy: 0.0218\n",
      "\n",
      "Epoch 00005: val_loss improved from 0.00179 to 0.00178, saving model to unet2_train_z40_grey_normal_lr.h5\n",
      "Epoch 6/200\n",
      "372/372 [==============================] - 387s 1s/step - loss: 0.0019 - binary_crossentropy: 0.0227 - val_loss: 0.0018 - val_binary_crossentropy: 0.0212\n",
      "\n",
      "Epoch 00006: val_loss improved from 0.00178 to 0.00176, saving model to unet2_train_z40_grey_normal_lr.h5\n",
      "Epoch 7/200\n",
      "372/372 [==============================] - 388s 1s/step - loss: 0.0018 - binary_crossentropy: 0.0221 - val_loss: 0.0018 - val_binary_crossentropy: 0.0209\n",
      "\n",
      "Epoch 00007: val_loss improved from 0.00176 to 0.00175, saving model to unet2_train_z40_grey_normal_lr.h5\n",
      "Epoch 8/200\n",
      "372/372 [==============================] - 388s 1s/step - loss: 0.0018 - binary_crossentropy: 0.0218 - val_loss: 0.0017 - val_binary_crossentropy: 0.0205\n",
      "\n",
      "Epoch 00008: val_loss improved from 0.00175 to 0.00175, saving model to unet2_train_z40_grey_normal_lr.h5\n",
      "Epoch 9/200\n",
      "372/372 [==============================] - 388s 1s/step - loss: 0.0018 - binary_crossentropy: 0.0214 - val_loss: 0.0017 - val_binary_crossentropy: 0.0201\n",
      "\n",
      "Epoch 00009: val_loss improved from 0.00175 to 0.00174, saving model to unet2_train_z40_grey_normal_lr.h5\n",
      "Epoch 10/200\n",
      "372/372 [==============================] - 392s 1s/step - loss: 0.0018 - binary_crossentropy: 0.0211 - val_loss: 0.0017 - val_binary_crossentropy: 0.0199\n",
      "\n",
      "Epoch 00010: val_loss improved from 0.00174 to 0.00174, saving model to unet2_train_z40_grey_normal_lr.h5\n",
      "Epoch 11/200\n",
      "372/372 [==============================] - 379s 1s/step - loss: 0.0018 - binary_crossentropy: 0.0208 - val_loss: 0.0017 - val_binary_crossentropy: 0.0198\n",
      "\n",
      "Epoch 00011: val_loss improved from 0.00174 to 0.00174, saving model to unet2_train_z40_grey_normal_lr.h5\n",
      "Epoch 12/200\n",
      "372/372 [==============================] - 380s 1s/step - loss: 0.0018 - binary_crossentropy: 0.0206 - val_loss: 0.0018 - val_binary_crossentropy: 0.0196\n",
      "\n",
      "Epoch 00012: val_loss did not improve from 0.00174\n",
      "Epoch 13/200\n",
      "372/372 [==============================] - 380s 1s/step - loss: 0.0018 - binary_crossentropy: 0.0203 - val_loss: 0.0018 - val_binary_crossentropy: 0.0193\n",
      "\n",
      "Epoch 00013: ReduceLROnPlateau reducing learning rate to 0.00010000000474974513.\n",
      "\n",
      "Epoch 00013: val_loss did not improve from 0.00174\n",
      "Epoch 14/200\n",
      "372/372 [==============================] - 380s 1s/step - loss: 0.0018 - binary_crossentropy: 0.0202 - val_loss: 0.0017 - val_binary_crossentropy: 0.0192\n",
      "\n",
      "Epoch 00014: val_loss did not improve from 0.00174\n",
      "Epoch 15/200\n",
      "372/372 [==============================] - 388s 1s/step - loss: 0.0018 - binary_crossentropy: 0.0201 - val_loss: 0.0017 - val_binary_crossentropy: 0.0192\n",
      "\n",
      "Epoch 00015: val_loss did not improve from 0.00174\n",
      "Epoch 16/200\n",
      "372/372 [==============================] - 487s 1s/step - loss: 0.0018 - binary_crossentropy: 0.0201 - val_loss: 0.0017 - val_binary_crossentropy: 0.0193\n",
      "\n",
      "Epoch 00016: val_loss did not improve from 0.00174\n",
      "Epoch 17/200\n",
      "372/372 [==============================] - 585s 2s/step - loss: 0.0018 - binary_crossentropy: 0.0201 - val_loss: 0.0018 - val_binary_crossentropy: 0.0193\n",
      "\n",
      "Epoch 00017: val_loss did not improve from 0.00174\n",
      "Epoch 18/200\n",
      "372/372 [==============================] - 550s 1s/step - loss: 0.0018 - binary_crossentropy: 0.0201 - val_loss: 0.0017 - val_binary_crossentropy: 0.0192\n",
      "\n",
      "Epoch 00018: val_loss did not improve from 0.00174\n",
      "Epoch 19/200\n",
      "372/372 [==============================] - 499s 1s/step - loss: 0.0018 - binary_crossentropy: 0.0201 - val_loss: 0.0017 - val_binary_crossentropy: 0.0192\n",
      "\n",
      "Epoch 00019: val_loss did not improve from 0.00174\n",
      "Epoch 20/200\n",
      "372/372 [==============================] - 501s 1s/step - loss: 0.0018 - binary_crossentropy: 0.0201 - val_loss: 0.0017 - val_binary_crossentropy: 0.0192\n",
      "\n",
      "Epoch 00020: val_loss did not improve from 0.00174\n",
      "Epoch 21/200\n",
      "372/372 [==============================] - 468s 1s/step - loss: 0.0018 - binary_crossentropy: 0.0200 - val_loss: 0.0017 - val_binary_crossentropy: 0.0191\n",
      "\n",
      "Epoch 00021: val_loss did not improve from 0.00174\n",
      "Epoch 22/200\n",
      "372/372 [==============================] - 464s 1s/step - loss: 0.0018 - binary_crossentropy: 0.0200 - val_loss: 0.0018 - val_binary_crossentropy: 0.0193\n",
      "\n",
      "Epoch 00022: val_loss did not improve from 0.00174\n",
      "Epoch 23/200\n",
      "372/372 [==============================] - 451s 1s/step - loss: 0.0018 - binary_crossentropy: 0.0200 - val_loss: 0.0017 - val_binary_crossentropy: 0.0191\n",
      "\n",
      "Epoch 00023: ReduceLROnPlateau reducing learning rate to 1.0000000474974514e-05.\n",
      "\n",
      "Epoch 00023: val_loss did not improve from 0.00174\n",
      "Epoch 24/200\n",
      "372/372 [==============================] - 448s 1s/step - loss: 0.0018 - binary_crossentropy: 0.0200 - val_loss: 0.0018 - val_binary_crossentropy: 0.0193\n",
      "\n",
      "Epoch 00024: val_loss did not improve from 0.00174\n",
      "Epoch 25/200\n",
      "372/372 [==============================] - 450s 1s/step - loss: 0.0018 - binary_crossentropy: 0.0200 - val_loss: 0.0017 - val_binary_crossentropy: 0.0191\n",
      "\n",
      "Epoch 00025: val_loss improved from 0.00174 to 0.00174, saving model to unet2_train_z40_grey_normal_lr.h5\n",
      "Epoch 26/200\n",
      "372/372 [==============================] - 448s 1s/step - loss: 0.0018 - binary_crossentropy: 0.0200 - val_loss: 0.0017 - val_binary_crossentropy: 0.0191\n",
      "\n",
      "Epoch 00026: val_loss did not improve from 0.00174\n",
      "Epoch 27/200\n",
      "372/372 [==============================] - 450s 1s/step - loss: 0.0018 - binary_crossentropy: 0.0200 - val_loss: 0.0017 - val_binary_crossentropy: 0.0191\n",
      "\n",
      "Epoch 00027: val_loss did not improve from 0.00174\n",
      "Epoch 28/200\n",
      "372/372 [==============================] - 440s 1s/step - loss: 0.0018 - binary_crossentropy: 0.0200 - val_loss: 0.0017 - val_binary_crossentropy: 0.0191\n",
      "\n",
      "Epoch 00028: val_loss did not improve from 0.00174\n",
      "Epoch 29/200\n",
      "372/372 [==============================] - 433s 1s/step - loss: 0.0018 - binary_crossentropy: 0.0200 - val_loss: 0.0017 - val_binary_crossentropy: 0.0191\n",
      "\n",
      "Epoch 00029: val_loss did not improve from 0.00174\n",
      "Epoch 30/200\n",
      "372/372 [==============================] - 416s 1s/step - loss: 0.0018 - binary_crossentropy: 0.0200 - val_loss: 0.0018 - val_binary_crossentropy: 0.0192\n",
      "\n",
      "Epoch 00030: val_loss did not improve from 0.00174\n",
      "Epoch 31/200\n",
      "372/372 [==============================] - 407s 1s/step - loss: 0.0018 - binary_crossentropy: 0.0200 - val_loss: 0.0018 - val_binary_crossentropy: 0.0192\n",
      "\n",
      "Epoch 00031: val_loss did not improve from 0.00174\n",
      "Epoch 32/200\n",
      "372/372 [==============================] - 404s 1s/step - loss: 0.0018 - binary_crossentropy: 0.0200 - val_loss: 0.0018 - val_binary_crossentropy: 0.0192\n",
      "\n",
      "Epoch 00032: val_loss did not improve from 0.00174\n",
      "Epoch 33/200\n",
      "372/372 [==============================] - 398s 1s/step - loss: 0.0018 - binary_crossentropy: 0.0200 - val_loss: 0.0018 - val_binary_crossentropy: 0.0192\n",
      "\n",
      "Epoch 00033: ReduceLROnPlateau reducing learning rate to 1.0000000656873453e-06.\n",
      "\n",
      "Epoch 00033: val_loss did not improve from 0.00174\n",
      "Epoch 34/200\n",
      "372/372 [==============================] - 396s 1s/step - loss: 0.0018 - binary_crossentropy: 0.0200 - val_loss: 0.0017 - val_binary_crossentropy: 0.0191\n",
      "\n",
      "Epoch 00034: val_loss did not improve from 0.00174\n",
      "Epoch 35/200\n",
      "372/372 [==============================] - 394s 1s/step - loss: 0.0018 - binary_crossentropy: 0.0200 - val_loss: 0.0018 - val_binary_crossentropy: 0.0192\n",
      "\n",
      "Epoch 00035: val_loss did not improve from 0.00174\n",
      "Epoch 36/200\n",
      "372/372 [==============================] - 395s 1s/step - loss: 0.0018 - binary_crossentropy: 0.0200 - val_loss: 0.0018 - val_binary_crossentropy: 0.0192\n",
      "\n",
      "Epoch 00036: val_loss did not improve from 0.00174\n",
      "Epoch 37/200\n",
      "372/372 [==============================] - 394s 1s/step - loss: 0.0018 - binary_crossentropy: 0.0200 - val_loss: 0.0018 - val_binary_crossentropy: 0.0193\n",
      "\n",
      "Epoch 00037: val_loss did not improve from 0.00174\n",
      "Epoch 38/200\n",
      "372/372 [==============================] - 393s 1s/step - loss: 0.0018 - binary_crossentropy: 0.0200 - val_loss: 0.0017 - val_binary_crossentropy: 0.0191\n",
      "\n",
      "Epoch 00038: val_loss did not improve from 0.00174\n",
      "Epoch 39/200\n",
      "372/372 [==============================] - 391s 1s/step - loss: 0.0018 - binary_crossentropy: 0.0200 - val_loss: 0.0017 - val_binary_crossentropy: 0.0191\n",
      "\n",
      "Epoch 00039: val_loss did not improve from 0.00174\n",
      "Epoch 40/200\n",
      "372/372 [==============================] - 392s 1s/step - loss: 0.0018 - binary_crossentropy: 0.0200 - val_loss: 0.0017 - val_binary_crossentropy: 0.0191\n",
      "\n",
      "Epoch 00040: val_loss did not improve from 0.00174\n",
      "Epoch 41/200\n",
      "372/372 [==============================] - 390s 1s/step - loss: 0.0018 - binary_crossentropy: 0.0200 - val_loss: 0.0017 - val_binary_crossentropy: 0.0191\n",
      "\n",
      "Epoch 00041: val_loss did not improve from 0.00174\n",
      "Epoch 42/200\n",
      "372/372 [==============================] - 389s 1s/step - loss: 0.0018 - binary_crossentropy: 0.0200 - val_loss: 0.0017 - val_binary_crossentropy: 0.0191\n",
      "\n",
      "Epoch 00042: val_loss did not improve from 0.00174\n",
      "Epoch 43/200\n",
      "372/372 [==============================] - 389s 1s/step - loss: 0.0018 - binary_crossentropy: 0.0200 - val_loss: 0.0018 - val_binary_crossentropy: 0.0194\n",
      "\n",
      "Epoch 00043: ReduceLROnPlateau reducing learning rate to 1.0000001111620805e-07.\n",
      "\n",
      "Epoch 00043: val_loss did not improve from 0.00174\n",
      "Epoch 44/200\n",
      "372/372 [==============================] - 388s 1s/step - loss: 0.0018 - binary_crossentropy: 0.0200 - val_loss: 0.0018 - val_binary_crossentropy: 0.0193\n",
      "\n",
      "Epoch 00044: val_loss did not improve from 0.00174\n",
      "Epoch 45/200\n",
      "372/372 [==============================] - 387s 1s/step - loss: 0.0018 - binary_crossentropy: 0.0200 - val_loss: 0.0017 - val_binary_crossentropy: 0.0191\n",
      "\n",
      "Epoch 00045: val_loss did not improve from 0.00174\n",
      "Epoch 00045: early stopping\n",
      "Training time:  18816.93893623352\n"
     ]
    }
   ],
   "source": [
    "\n",
    "\n",
    "class BatchHistories(keras.callbacks.Callback):\n",
    "\n",
    "    def on_train_begin(self,logs={}):\n",
    "        self.losses = []\n",
    "\n",
    "    def on_batch_end(self, batch, logs={}):\n",
    "        self.losses.append(logs.get('loss'))\n",
    "batch_loss_fine = BatchHistories()\n",
    "\n",
    "callbacks = [\n",
    "    keras.callbacks.EarlyStopping(patience=20, verbose=1),\n",
    "    keras.callbacks.ReduceLROnPlateau(factor=0.1, patience=10, min_lr=0.00000001, verbose=1),\n",
    "    keras.callbacks.ModelCheckpoint(\"unet2_train_z40_grey_normal_lr.h5\", verbose=1, save_best_only=True),\n",
    "    batch_loss_fine\n",
    "]\n",
    "start = time.time()\n",
    "history_fine = model_pret.fit(train_gen, epochs=epochs, validation_data=valid_gen, callbacks=callbacks,shuffle=True)\n",
    "end = time.time()\n",
    "print('Training time: ', end-start)"
   ],
   "metadata": {
    "collapsed": false,
    "pycharm": {
     "name": "#%%\n"
    }
   }
  },
  {
   "cell_type": "code",
   "execution_count": 31,
   "outputs": [],
   "source": [
    "model_fertig = keras.models.load_model('unet2_toy_train_z40_grey.h5', compile=False)"
   ],
   "metadata": {
    "collapsed": false,
    "pycharm": {
     "name": "#%%\n"
    }
   }
  },
  {
   "cell_type": "code",
   "execution_count": 3,
   "outputs": [
    {
     "name": "stdout",
     "output_type": "stream",
     "text": [
      "INFO:tensorflow:Mixed precision compatibility check (mixed_float16): OK\n",
      "Your GPU will likely run quickly with dtype policy mixed_float16 as it has compute capability of at least 7.0. Your GPU: NVIDIA GeForce RTX 2070, compute capability 7.5\n"
     ]
    }
   ],
   "source": [
    "#import ndpatch\n",
    "#model = keras.models.load_model('unet2_z32_bs1_ol0_good.h5', compile=False)"
   ],
   "metadata": {
    "collapsed": false,
    "pycharm": {
     "name": "#%%\n"
    }
   }
  },
  {
   "cell_type": "code",
   "execution_count": 17,
   "outputs": [],
   "source": [
    "import skimage"
   ],
   "metadata": {
    "collapsed": false,
    "pycharm": {
     "name": "#%%\n"
    }
   }
  },
  {
   "cell_type": "code",
   "execution_count": 18,
   "outputs": [],
   "source": [
    "import patchify\n",
    "def z_padding(input):\n",
    "    if input.shape[:2] == (512,512):\n",
    "        pass\n",
    "    else:\n",
    "        input=input[:512,:512,:]\n",
    "    z_size = 40-input.shape[2]%40\n",
    "    pad = np.zeros(input.shape[0:2]+ (z_size,))\n",
    "    return np.append(input, pad, axis=-1)"
   ],
   "metadata": {
    "collapsed": false,
    "pycharm": {
     "name": "#%%\n"
    }
   }
  },
  {
   "cell_type": "code",
   "execution_count": 20,
   "outputs": [
    {
     "name": "stdout",
     "output_type": "stream",
     "text": [
      "(29, 512, 512, 40, 1)\n",
      "1/1 [==============================] - 0s 468ms/step\n",
      "1/1 [==============================] - 0s 38ms/step\n",
      "1/1 [==============================] - 0s 38ms/step\n",
      "1/1 [==============================] - 0s 39ms/step\n",
      "1/1 [==============================] - 0s 39ms/step\n",
      "1/1 [==============================] - 0s 41ms/step\n",
      "1/1 [==============================] - 0s 39ms/step\n",
      "1/1 [==============================] - 0s 38ms/step\n",
      "1/1 [==============================] - 0s 42ms/step\n",
      "1/1 [==============================] - 0s 39ms/step\n",
      "1/1 [==============================] - 0s 39ms/step\n",
      "1/1 [==============================] - 0s 39ms/step\n",
      "1/1 [==============================] - 0s 38ms/step\n",
      "1/1 [==============================] - 0s 39ms/step\n",
      "1/1 [==============================] - 0s 38ms/step\n",
      "1/1 [==============================] - 0s 39ms/step\n",
      "1/1 [==============================] - 0s 38ms/step\n",
      "1/1 [==============================] - 0s 38ms/step\n",
      "1/1 [==============================] - 0s 39ms/step\n",
      "1/1 [==============================] - 0s 39ms/step\n",
      "1/1 [==============================] - 0s 43ms/step\n",
      "1/1 [==============================] - 0s 38ms/step\n",
      "1/1 [==============================] - 0s 38ms/step\n",
      "1/1 [==============================] - 0s 40ms/step\n",
      "1/1 [==============================] - 0s 40ms/step\n",
      "1/1 [==============================] - 0s 39ms/step\n",
      "1/1 [==============================] - 0s 39ms/step\n",
      "1/1 [==============================] - 0s 38ms/step\n",
      "1/1 [==============================] - 0s 42ms/step\n"
     ]
    }
   ],
   "source": [
    "import ndpatch\n",
    "from scipy import ndimage\n",
    "test_img, header = nrrd.read('./test_data/R3.nrrd')\n",
    "im_deno = ndimage.median_filter(test_img, size=2)\n",
    "img_ad_eq = skimage.exposure.equalize_adapthist(im_deno, clip_limit=0.03)\n",
    "\n",
    "\n",
    "image_norm = (img_ad_eq - np.min(img_ad_eq))/(np.max(img_ad_eq)-np.min(img_ad_eq))\n",
    "patch_shape =(512, 512, 40)\n",
    "image_pad = z_padding(image_norm)\n",
    "test_patches=patchify.patchify(image_pad, (512,512,40), step=40)\n",
    "pat_size = test_patches.shape\n",
    "test_patches = test_patches.squeeze()\n",
    "test_patches = np.expand_dims(test_patches, -1)\n",
    "pred_patches = np.empty(shape=test_patches.shape)\n",
    "print(test_patches.shape)\n",
    "for i in np.arange(test_patches.shape[0]):\n",
    "    pred = model_pret.predict(np.expand_dims(test_patches[i,:,:,:,0],axis=0),batch_size=1, verbose=1)\n",
    "    pred = (pred > 0.05).astype(np.uint8)\n",
    "    pred = np.squeeze(pred)\n",
    "    pred_patches[i,:,:,:,0] =  pred\n",
    "#\n",
    "#predictions = model.predict(test_patches)"
   ],
   "metadata": {
    "collapsed": false,
    "pycharm": {
     "name": "#%%\n"
    }
   }
  },
  {
   "cell_type": "code",
   "execution_count": 21,
   "outputs": [
    {
     "name": "stdout",
     "output_type": "stream",
     "text": [
      "(1, 1, 29, 512, 512, 40)\n"
     ]
    }
   ],
   "source": [
    "pred_patches=pred_patches.squeeze()\n",
    "pred_patches = np.expand_dims(np.expand_dims(pred_patches, axis=0),axis=0)\n",
    "print(pred_patches.shape)\n"
   ],
   "metadata": {
    "collapsed": false,
    "pycharm": {
     "name": "#%%\n"
    }
   }
  },
  {
   "cell_type": "code",
   "execution_count": 22,
   "outputs": [],
   "source": [
    "reconstructed = patchify.unpatchify(pred_patches,image_pad.shape)"
   ],
   "metadata": {
    "collapsed": false,
    "pycharm": {
     "name": "#%%\n"
    }
   }
  },
  {
   "cell_type": "code",
   "execution_count": 23,
   "outputs": [
    {
     "name": "stdout",
     "output_type": "stream",
     "text": [
      "1.0\n"
     ]
    }
   ],
   "source": [
    "print(np.max(reconstructed))"
   ],
   "metadata": {
    "collapsed": false,
    "pycharm": {
     "name": "#%%\n"
    }
   }
  },
  {
   "cell_type": "code",
   "execution_count": 24,
   "outputs": [],
   "source": [
    "from scipy import ndimage\n",
    "recon_opened = ndimage.binary_opening(reconstructed, iterations=5).astype(int)\n",
    "recon_closed = ndimage.binary_closing(reconstructed, iterations=10).astype(int)\n",
    "recon_co = ndimage.binary_opening(recon_closed, iterations=5).astype(int)\n",
    "recon_oc = ndimage.binary_closing(recon_closed, iterations=10).astype(int)"
   ],
   "metadata": {
    "collapsed": false,
    "pycharm": {
     "name": "#%%\n"
    }
   }
  },
  {
   "cell_type": "code",
   "execution_count": 25,
   "outputs": [],
   "source": [
    "def skull_id(labels_out):\n",
    "\tlabels_out=labels_out.reshape((1,-1))\n",
    "\tlabels_out=labels_out[0,:]\n",
    "\tlabel=np.unique(labels_out)\n",
    "\thist, bin_edges=np.histogram(labels_out,bins=label)\n",
    "\thist=np.ndarray.tolist(hist)\n",
    "\thist_=hist\n",
    "\thist_=np.array(hist_)\n",
    "\thist.sort(reverse = True)\n",
    "\tidx=(hist_==hist[1])\n",
    "\tidx=idx+1-1\n",
    "\tidx_=np.sum(idx*label[0:len(idx)])\n",
    "\tprint('idx',idx_)\n",
    "\treturn idx_"
   ],
   "metadata": {
    "collapsed": false,
    "pycharm": {
     "name": "#%%\n"
    }
   }
  },
  {
   "cell_type": "code",
   "execution_count": 26,
   "outputs": [],
   "source": [
    "import cc3d\n",
    "import nrrd\n",
    "import numpy as np\n",
    "labels_out, N = cc3d.connected_components(recon_oc, return_N=True)"
   ],
   "metadata": {
    "collapsed": false,
    "pycharm": {
     "name": "#%%\n"
    }
   }
  },
  {
   "cell_type": "code",
   "execution_count": 27,
   "outputs": [
    {
     "name": "stdout",
     "output_type": "stream",
     "text": [
      "idx 143\n"
     ]
    }
   ],
   "source": [
    "aorta_label = skull_id(labels_out)"
   ],
   "metadata": {
    "collapsed": false,
    "pycharm": {
     "name": "#%%\n"
    }
   }
  },
  {
   "cell_type": "code",
   "execution_count": 28,
   "outputs": [],
   "source": [
    "labels_big = labels_out * (labels_out == aorta_label)"
   ],
   "metadata": {
    "collapsed": false,
    "pycharm": {
     "name": "#%%\n"
    }
   }
  },
  {
   "cell_type": "code",
   "execution_count": 19,
   "outputs": [],
   "source": [
    "#labels_big_op = ndimage.binary_opening(labels_big, iterations=2).astype(int)"
   ],
   "metadata": {
    "collapsed": false,
    "pycharm": {
     "name": "#%%\n"
    }
   }
  },
  {
   "cell_type": "code",
   "execution_count": 29,
   "outputs": [],
   "source": [
    "nrrd.write('R3_pred_z40_cc_t005_pretrained.seg.nrrd', labels_big)"
   ],
   "metadata": {
    "collapsed": false,
    "pycharm": {
     "name": "#%%\n"
    }
   }
  },
  {
   "cell_type": "code",
   "execution_count": 30,
   "outputs": [],
   "source": [
    "nrrd.write('R3_oc_pred_z40_cc_t005_pretrained.seg.nrrd', recon_oc)\n",
    "nrrd.write('R3_co_pred_z40_cc_t005_pretrained.seg.nrrd', recon_co)\n",
    "nrrd.write('R3_re_pred_z40_cc_t005_pretrained.seg.nrrd', reconstructed)"
   ],
   "metadata": {
    "collapsed": false,
    "pycharm": {
     "name": "#%%\n"
    }
   }
  },
  {
   "cell_type": "code",
   "execution_count": 14,
   "outputs": [
    {
     "name": "stdout",
     "output_type": "stream",
     "text": [
      "1.0\n"
     ]
    }
   ],
   "source": [
    "print(np.max(reconstructed))"
   ],
   "metadata": {
    "collapsed": false,
    "pycharm": {
     "name": "#%%\n"
    }
   }
  },
  {
   "cell_type": "code",
   "execution_count": 16,
   "outputs": [],
   "source": [
    "def predict(test_dir, model):\n",
    "    test_list=glob('{}/*.nrrd'.format(test_dir))\n",
    "    image_list = []\n",
    "    i=0\n",
    "    for im in test_list:\n",
    "        ima, header = nrrd.read(test_list[i])\n",
    "        image_list.append(ima)\n",
    "    image_list = np.array(image_list)\n",
    "    predictions =  model.predict(image_list)\n",
    "    return predictions"
   ],
   "metadata": {
    "collapsed": false,
    "pycharm": {
     "name": "#%%\n"
    }
   }
  },
  {
   "cell_type": "code",
   "execution_count": 12,
   "outputs": [],
   "source": [
    "pred = predict('toy_test', model)\n",
    "pred = np.squeeze(pred)\n",
    "#np.squeeze(pred)\n",
    "pred = (pred > 0.2).astype(np.uint8)"
   ],
   "metadata": {
    "collapsed": false,
    "pycharm": {
     "name": "#%%\n"
    }
   }
  },
  {
   "cell_type": "code",
   "execution_count": 13,
   "outputs": [
    {
     "name": "stdout",
     "output_type": "stream",
     "text": [
      "1\n"
     ]
    }
   ],
   "source": [
    "print(np.max(pred))"
   ],
   "metadata": {
    "collapsed": false,
    "pycharm": {
     "name": "#%%\n"
    }
   }
  },
  {
   "cell_type": "code",
   "execution_count": 14,
   "outputs": [],
   "source": [
    "\n",
    "filename = 'toy_test_97' + '.seg.nrrd'\n",
    "nrrd.write(filename, pred)"
   ],
   "metadata": {
    "collapsed": false,
    "pycharm": {
     "name": "#%%\n"
    }
   }
  },
  {
   "cell_type": "code",
   "metadata": {
    "id": "jjXrYcjJU3bc",
    "colab": {
     "base_uri": "https://localhost:8080/"
    },
    "outputId": "d6b0799a-71c0-4e15-ee88-ee5a14e7d028"
   },
   "source": [
    "\n",
    "#print(test_list)\n",
    "test_img1, hered = nrrd.read(test_list[0])\n",
    "a,b,c=test_img1.shape\n",
    "test_img1 = resizing(test_img1)\n",
    "test_img_1=np.expand_dims(test_img1,axis=3)\n",
    "test_img_1=np.expand_dims(test_img_1,axis=0)\n",
    "print(test_img_1.shape)\n",
    "print(a,b,c)"
   ],
   "execution_count": 41,
   "outputs": [
    {
     "ename": "NameError",
     "evalue": "name 'test_list' is not defined",
     "output_type": "error",
     "traceback": [
      "\u001B[1;31m---------------------------------------------------------------------------\u001B[0m",
      "\u001B[1;31mNameError\u001B[0m                                 Traceback (most recent call last)",
      "Input \u001B[1;32mIn [41]\u001B[0m, in \u001B[0;36m<module>\u001B[1;34m\u001B[0m\n\u001B[0;32m      1\u001B[0m \u001B[38;5;66;03m#print(test_list)\u001B[39;00m\n\u001B[1;32m----> 2\u001B[0m test_img1, hered \u001B[38;5;241m=\u001B[39m nrrd\u001B[38;5;241m.\u001B[39mread(\u001B[43mtest_list\u001B[49m[\u001B[38;5;241m0\u001B[39m])\n\u001B[0;32m      3\u001B[0m a,b,c\u001B[38;5;241m=\u001B[39mtest_img1\u001B[38;5;241m.\u001B[39mshape\n\u001B[0;32m      4\u001B[0m test_img1 \u001B[38;5;241m=\u001B[39m resizing(test_img1)\n",
      "\u001B[1;31mNameError\u001B[0m: name 'test_list' is not defined"
     ]
    }
   ]
  },
  {
   "cell_type": "code",
   "metadata": {
    "colab": {
     "base_uri": "https://localhost:8080/",
     "height": 717
    },
    "id": "_GLhR1QnyiTO",
    "outputId": "ac8978b6-f442-469b-ac2b-2f610f0855ad"
   },
   "source": [
    "test_pred1 = model.predict(test_img_1)\n",
    "pred_R1 = (test_pred1 > 0.2).astype(np.uint8)\n",
    "print(pred_R1.shape)\n",
    "pred=np.squeeze(pred_R1,axis=0)\n",
    "pred=np.squeeze(pred,axis=-1)"
   ],
   "execution_count": 44,
   "outputs": [
    {
     "name": "stdout",
     "output_type": "stream",
     "text": [
      "(1, 256, 256, 128, 1)\n"
     ]
    }
   ]
  },
  {
   "cell_type": "code",
   "execution_count": 3,
   "outputs": [
    {
     "name": "stdout",
     "output_type": "stream",
     "text": [
      "min:  0.00042735042735042735 max: 0.9999389499389499\n",
      "1.0\n",
      "Pre-processing time:  142.01910758018494\n"
     ]
    }
   ],
   "source": [
    "import time\n",
    "import skimage\n",
    "import numpy as np\n",
    "from scipy import ndimage\n",
    "import nrrd\n",
    "import SimpleITK as sitk\n",
    "start = time.time()\n",
    "test, h = nrrd.read('./test/R1.nrrd')\n",
    "test = skimage.exposure.equalize_adapthist(test, clip_limit=0.03)\n",
    "test = ndimage.median_filter(test, size=2)\n",
    "\n",
    "print('min: ', np.min(test), 'max:', np.max(test))\n",
    "#test_vessel = skimage.filters.frangi(test)\n",
    "test_norm = (test - np.min(test))/(np.max(test)-np.min(test))\n",
    "print(np.max(test_norm))\n",
    "nrrd.write('test_denoised.nrrd', test_norm)\n",
    "end = time.time()\n",
    "print('Pre-processing time: ', end-start)"
   ],
   "metadata": {
    "collapsed": false,
    "pycharm": {
     "name": "#%%\n"
    }
   }
  },
  {
   "cell_type": "code",
   "execution_count": 5,
   "outputs": [
    {
     "name": "stdout",
     "output_type": "stream",
     "text": [
      "13.136792404745481\n"
     ]
    }
   ],
   "source": [
    "sigma_est = skimage.restoration.estimate_sigma(test)\n",
    "print(sigma_est)"
   ],
   "metadata": {
    "collapsed": false,
    "pycharm": {
     "name": "#%%\n"
    }
   }
  },
  {
   "cell_type": "code",
   "execution_count": 4,
   "outputs": [],
   "source": [
    "test_denoised = ndimage.median_filter(test, size=2)"
   ],
   "metadata": {
    "collapsed": false,
    "pycharm": {
     "name": "#%%\n"
    }
   }
  },
  {
   "cell_type": "code",
   "execution_count": 33,
   "outputs": [
    {
     "name": "stdout",
     "output_type": "stream",
     "text": [
      "1.0\n"
     ]
    }
   ],
   "source": [],
   "metadata": {
    "collapsed": false,
    "pycharm": {
     "name": "#%%\n"
    }
   }
  },
  {
   "cell_type": "code",
   "execution_count": 20,
   "outputs": [
    {
     "data": {
      "text/plain": "(array([5.9341408e+07, 0.0000000e+00, 0.0000000e+00, 0.0000000e+00,\n        0.0000000e+00, 0.0000000e+00, 0.0000000e+00, 0.0000000e+00,\n        0.0000000e+00, 0.0000000e+00, 0.0000000e+00, 0.0000000e+00,\n        0.0000000e+00, 0.0000000e+00, 0.0000000e+00, 0.0000000e+00,\n        0.0000000e+00, 0.0000000e+00, 0.0000000e+00, 0.0000000e+00,\n        0.0000000e+00, 0.0000000e+00, 0.0000000e+00, 0.0000000e+00,\n        0.0000000e+00, 0.0000000e+00, 0.0000000e+00, 0.0000000e+00,\n        0.0000000e+00, 0.0000000e+00, 0.0000000e+00, 0.0000000e+00,\n        0.0000000e+00, 0.0000000e+00, 0.0000000e+00, 0.0000000e+00,\n        0.0000000e+00, 0.0000000e+00, 0.0000000e+00, 0.0000000e+00,\n        0.0000000e+00, 0.0000000e+00, 0.0000000e+00, 0.0000000e+00,\n        0.0000000e+00, 0.0000000e+00, 0.0000000e+00, 0.0000000e+00,\n        0.0000000e+00, 0.0000000e+00, 0.0000000e+00, 0.0000000e+00,\n        0.0000000e+00, 0.0000000e+00, 0.0000000e+00, 0.0000000e+00,\n        0.0000000e+00, 0.0000000e+00, 0.0000000e+00, 0.0000000e+00,\n        0.0000000e+00, 0.0000000e+00, 0.0000000e+00, 0.0000000e+00,\n        0.0000000e+00, 0.0000000e+00, 0.0000000e+00, 0.0000000e+00,\n        0.0000000e+00, 0.0000000e+00, 0.0000000e+00, 0.0000000e+00,\n        0.0000000e+00, 0.0000000e+00, 0.0000000e+00, 0.0000000e+00,\n        0.0000000e+00, 0.0000000e+00, 0.0000000e+00, 0.0000000e+00,\n        0.0000000e+00, 0.0000000e+00, 0.0000000e+00, 0.0000000e+00,\n        5.6663110e+06, 3.8245950e+06, 2.7039820e+06, 1.6935380e+06,\n        1.3229800e+06, 1.6184710e+06, 2.0784540e+06, 2.4485500e+06,\n        2.5405410e+06, 2.3542690e+06, 1.9361680e+06, 1.6392870e+06,\n        1.2863100e+06, 9.9248600e+05, 7.6907900e+05, 5.7882600e+05,\n        4.8314700e+05, 3.9182400e+05, 3.2676600e+05, 2.7909600e+05,\n        2.3347300e+05, 2.1698000e+05, 1.9629500e+05, 1.7993000e+05,\n        1.6825800e+05, 1.5405000e+05, 1.5756700e+05, 1.6191400e+05,\n        1.8083100e+05, 2.3020100e+05, 3.2300500e+05, 5.6071200e+05,\n        1.0081810e+06, 1.8331140e+06, 3.2535680e+06, 5.4629750e+06,\n        7.9666790e+06, 1.1312746e+07, 1.3651708e+07, 1.4724064e+07,\n        1.4678042e+07, 1.3589977e+07, 1.3673371e+07, 1.3201631e+07,\n        1.2490068e+07, 1.1298419e+07, 9.2434880e+06, 7.7369650e+06,\n        5.8781080e+06, 4.3346030e+06, 3.1984930e+06, 2.3045120e+06,\n        1.8332550e+06, 1.3919440e+06, 1.0557260e+06, 7.9597900e+05,\n        6.0924100e+05, 4.6298800e+05, 4.0040000e+05, 3.4384000e+05,\n        3.0521000e+05, 2.7788500e+05, 2.4537500e+05, 2.3743700e+05,\n        2.2115700e+05, 2.0555600e+05, 1.9218300e+05, 1.7183200e+05,\n        1.6864000e+05, 1.5744700e+05, 1.4797800e+05, 1.3927500e+05,\n        1.2663100e+05, 1.2681700e+05, 1.2123600e+05, 1.1672100e+05,\n        1.1207700e+05, 1.0341200e+05, 1.0211500e+05, 9.6276000e+04,\n        8.7779000e+04, 8.0689000e+04, 7.2724000e+04, 6.3969000e+04,\n        5.9546000e+04, 5.4276000e+04, 4.8773000e+04, 4.3779000e+04,\n        3.6964000e+04, 3.3889000e+04, 2.9497000e+04, 2.4727000e+04,\n        2.0622000e+04, 1.6683000e+04, 1.3702000e+04, 1.0999000e+04,\n        8.9470000e+03, 7.1870000e+03, 5.7560000e+03, 4.8770000e+03,\n        3.9040000e+03, 3.2910000e+03, 2.5830000e+03, 2.1420000e+03,\n        1.6370000e+03, 1.3780000e+03, 1.1630000e+03, 1.0490000e+03,\n        9.3000000e+02, 7.7300000e+02, 8.1000000e+02, 7.2600000e+02,\n        7.4600000e+02, 7.2200000e+02, 6.6300000e+02, 6.6100000e+02,\n        7.0200000e+02, 6.0700000e+02, 6.1000000e+02, 5.7600000e+02,\n        6.1400000e+02, 5.5500000e+02, 5.4200000e+02, 5.9200000e+02,\n        5.1900000e+02, 5.0300000e+02, 5.2500000e+02, 4.5300000e+02,\n        5.0300000e+02, 4.5500000e+02, 4.2100000e+02, 4.4400000e+02,\n        4.6100000e+02, 3.9600000e+02, 3.6900000e+02, 3.6100000e+02,\n        3.9300000e+02, 3.8000000e+02, 3.7900000e+02, 3.5400000e+02,\n        3.2800000e+02, 3.4900000e+02, 3.0700000e+02, 2.9700000e+02,\n        3.0700000e+02, 2.5800000e+02, 2.8900000e+02, 2.8500000e+02,\n        2.5400000e+02, 2.4600000e+02, 2.6600000e+02, 2.4600000e+02,\n        2.4600000e+02, 2.3900000e+02, 2.2200000e+02, 2.0400000e+02,\n        1.8200000e+02, 2.1600000e+02, 2.0200000e+02, 1.7800000e+02,\n        1.8000000e+02, 1.7000000e+02, 1.3700000e+02, 1.5800000e+02,\n        1.6500000e+02, 1.3200000e+02, 1.3600000e+02, 1.0200000e+02,\n        1.1700000e+02, 1.0500000e+02, 1.1600000e+02, 5.6510000e+03]),\n array([0.        , 0.00390625, 0.0078125 , 0.01171875, 0.015625  ,\n        0.01953125, 0.0234375 , 0.02734375, 0.03125   , 0.03515625,\n        0.0390625 , 0.04296875, 0.046875  , 0.05078125, 0.0546875 ,\n        0.05859375, 0.0625    , 0.06640625, 0.0703125 , 0.07421875,\n        0.078125  , 0.08203125, 0.0859375 , 0.08984375, 0.09375   ,\n        0.09765625, 0.1015625 , 0.10546875, 0.109375  , 0.11328125,\n        0.1171875 , 0.12109375, 0.125     , 0.12890625, 0.1328125 ,\n        0.13671875, 0.140625  , 0.14453125, 0.1484375 , 0.15234375,\n        0.15625   , 0.16015625, 0.1640625 , 0.16796875, 0.171875  ,\n        0.17578125, 0.1796875 , 0.18359375, 0.1875    , 0.19140625,\n        0.1953125 , 0.19921875, 0.203125  , 0.20703125, 0.2109375 ,\n        0.21484375, 0.21875   , 0.22265625, 0.2265625 , 0.23046875,\n        0.234375  , 0.23828125, 0.2421875 , 0.24609375, 0.25      ,\n        0.25390625, 0.2578125 , 0.26171875, 0.265625  , 0.26953125,\n        0.2734375 , 0.27734375, 0.28125   , 0.28515625, 0.2890625 ,\n        0.29296875, 0.296875  , 0.30078125, 0.3046875 , 0.30859375,\n        0.3125    , 0.31640625, 0.3203125 , 0.32421875, 0.328125  ,\n        0.33203125, 0.3359375 , 0.33984375, 0.34375   , 0.34765625,\n        0.3515625 , 0.35546875, 0.359375  , 0.36328125, 0.3671875 ,\n        0.37109375, 0.375     , 0.37890625, 0.3828125 , 0.38671875,\n        0.390625  , 0.39453125, 0.3984375 , 0.40234375, 0.40625   ,\n        0.41015625, 0.4140625 , 0.41796875, 0.421875  , 0.42578125,\n        0.4296875 , 0.43359375, 0.4375    , 0.44140625, 0.4453125 ,\n        0.44921875, 0.453125  , 0.45703125, 0.4609375 , 0.46484375,\n        0.46875   , 0.47265625, 0.4765625 , 0.48046875, 0.484375  ,\n        0.48828125, 0.4921875 , 0.49609375, 0.5       , 0.50390625,\n        0.5078125 , 0.51171875, 0.515625  , 0.51953125, 0.5234375 ,\n        0.52734375, 0.53125   , 0.53515625, 0.5390625 , 0.54296875,\n        0.546875  , 0.55078125, 0.5546875 , 0.55859375, 0.5625    ,\n        0.56640625, 0.5703125 , 0.57421875, 0.578125  , 0.58203125,\n        0.5859375 , 0.58984375, 0.59375   , 0.59765625, 0.6015625 ,\n        0.60546875, 0.609375  , 0.61328125, 0.6171875 , 0.62109375,\n        0.625     , 0.62890625, 0.6328125 , 0.63671875, 0.640625  ,\n        0.64453125, 0.6484375 , 0.65234375, 0.65625   , 0.66015625,\n        0.6640625 , 0.66796875, 0.671875  , 0.67578125, 0.6796875 ,\n        0.68359375, 0.6875    , 0.69140625, 0.6953125 , 0.69921875,\n        0.703125  , 0.70703125, 0.7109375 , 0.71484375, 0.71875   ,\n        0.72265625, 0.7265625 , 0.73046875, 0.734375  , 0.73828125,\n        0.7421875 , 0.74609375, 0.75      , 0.75390625, 0.7578125 ,\n        0.76171875, 0.765625  , 0.76953125, 0.7734375 , 0.77734375,\n        0.78125   , 0.78515625, 0.7890625 , 0.79296875, 0.796875  ,\n        0.80078125, 0.8046875 , 0.80859375, 0.8125    , 0.81640625,\n        0.8203125 , 0.82421875, 0.828125  , 0.83203125, 0.8359375 ,\n        0.83984375, 0.84375   , 0.84765625, 0.8515625 , 0.85546875,\n        0.859375  , 0.86328125, 0.8671875 , 0.87109375, 0.875     ,\n        0.87890625, 0.8828125 , 0.88671875, 0.890625  , 0.89453125,\n        0.8984375 , 0.90234375, 0.90625   , 0.91015625, 0.9140625 ,\n        0.91796875, 0.921875  , 0.92578125, 0.9296875 , 0.93359375,\n        0.9375    , 0.94140625, 0.9453125 , 0.94921875, 0.953125  ,\n        0.95703125, 0.9609375 , 0.96484375, 0.96875   , 0.97265625,\n        0.9765625 , 0.98046875, 0.984375  , 0.98828125, 0.9921875 ,\n        0.99609375, 1.        ]),\n <BarContainer object of 256 artists>)"
     },
     "execution_count": 20,
     "metadata": {},
     "output_type": "execute_result"
    },
    {
     "data": {
      "text/plain": "<Figure size 432x288 with 1 Axes>",
      "image/png": "[encoded data removed]"
     },
     "metadata": {
      "needs_background": "light"
     },
     "output_type": "display_data"
    }
   ],
   "source": [
    "plt.hist(test_norm.ravel(), bins=256, range=(0.0, 1.0), fc='k', ec='k')"
   ],
   "metadata": {
    "collapsed": false,
    "pycharm": {
     "name": "#%%\n"
    }
   }
  },
  {
   "cell_type": "code",
   "execution_count": 23,
   "outputs": [
    {
     "data": {
      "text/plain": "(array([59341408.,        0.,        0.,        0.,        0.,        0.,\n               0.,        0.,        0.,        0.,        0.,        0.,\n               0.,        0.,        0.,        0.,        0.,        0.,\n               0.,        0.,        0.,        0.,        0.,        0.,\n               0.,        0.,        0.,        0.,        0.,        0.,\n               0.,        0.,        0.,        0.,        0.,        0.,\n               0.,        0.,        0.,        0.,        0.,        0.,\n               0.,        0.,        0.,        0.,        0.,        0.,\n               0.,        0.,        0.,        0.,        0.,        0.,\n               0.,        0.,        0.,        0.,        0.,        0.,\n               0.,        0.,        0.,        0.,        0.,        0.,\n               0.,        0.,        0.,        0.,        0.,        0.,\n               0.,        0.,        0.,        0.,        0.,        0.,\n               0.,        0.,        0.,        0.,        0.,        0.,\n               0.,        0.,        0.,        0.,        0.,        0.,\n               0.,        0.,        0.,        0.,        0.,        0.,\n               0.,        0.,        0.,        0.,        0.,        0.,\n               0.,        0.,        0.,        0.,        0.,        0.,\n               0.,        0.,        0.,        0.,        0.,        0.,\n               0.,        0.,        0.,        0.,        0.,        0.,\n               0.,        0.,        0.,        0.,        0.,        0.,\n               0.,        0.,        0.,        0.,        0.,        0.,\n               0.,        0.,        0.,        0.,        0.,        0.,\n               0.,        0.,        0.,        0.,        0.,        0.,\n               0.,        0.,        0.,        0.,        0.,        0.,\n               0.,        0.,  2546313.,  1764742.,  2135857.,  2029353.,\n         1808573.,  1449024.,  1106072.,   867938.,   754981.,   748553.,\n          824295.,   948623.,  1090798.,  1222767.,  1425747.,  1378017.,\n         1377885.,  1333856.,  1254250.,  1153966.,  1042756.,   926519.,\n          815662.,   713943.,   622215.,   539088.,   469071.,   438322.,\n          353883.,   310778.,   274508.,   244196.,   218091.,   196061.,\n          179106.,   163564.,   150441.,   139605.,   129545.,   130772.,\n          113944.,   108013.,   103004.,    98014.,    94632.,    90994.,\n           88632.,    86720.,    85744.,    85207.,    86580.,    89023.,\n          102076.,   105178.,   121245.,   146969.,   184002.,   241822.,\n          326773.,   447899.,   619870.,   858143.,  1182236.,  1613557.,\n         2168585.,  3110109.,  3738685.,  4641928.,  5567129.,  6422623.,\n         7136581.,  7641813.,  7944328.,  8028924.,  7982571.,  7842937.,\n         7684507.,  7521963.,  7939098.,  7234091.,  7088067.,  6881379.,\n         6603465.,  6247289.,  5785178.,  5271200.,  4701805.,  4125612.,\n         3558906.,  3045627.,  2578879.,  2335387.,  1828054.,  1554388.,\n         1331074.,  1142301.,   985455.,   848405.,   732221.,   630958.,\n          539876.,   463571.,   399136.,  5935690.]),\n array([0.        , 0.00390625, 0.0078125 , 0.01171875, 0.015625  ,\n        0.01953125, 0.0234375 , 0.02734375, 0.03125   , 0.03515625,\n        0.0390625 , 0.04296875, 0.046875  , 0.05078125, 0.0546875 ,\n        0.05859375, 0.0625    , 0.06640625, 0.0703125 , 0.07421875,\n        0.078125  , 0.08203125, 0.0859375 , 0.08984375, 0.09375   ,\n        0.09765625, 0.1015625 , 0.10546875, 0.109375  , 0.11328125,\n        0.1171875 , 0.12109375, 0.125     , 0.12890625, 0.1328125 ,\n        0.13671875, 0.140625  , 0.14453125, 0.1484375 , 0.15234375,\n        0.15625   , 0.16015625, 0.1640625 , 0.16796875, 0.171875  ,\n        0.17578125, 0.1796875 , 0.18359375, 0.1875    , 0.19140625,\n        0.1953125 , 0.19921875, 0.203125  , 0.20703125, 0.2109375 ,\n        0.21484375, 0.21875   , 0.22265625, 0.2265625 , 0.23046875,\n        0.234375  , 0.23828125, 0.2421875 , 0.24609375, 0.25      ,\n        0.25390625, 0.2578125 , 0.26171875, 0.265625  , 0.26953125,\n        0.2734375 , 0.27734375, 0.28125   , 0.28515625, 0.2890625 ,\n        0.29296875, 0.296875  , 0.30078125, 0.3046875 , 0.30859375,\n        0.3125    , 0.31640625, 0.3203125 , 0.32421875, 0.328125  ,\n        0.33203125, 0.3359375 , 0.33984375, 0.34375   , 0.34765625,\n        0.3515625 , 0.35546875, 0.359375  , 0.36328125, 0.3671875 ,\n        0.37109375, 0.375     , 0.37890625, 0.3828125 , 0.38671875,\n        0.390625  , 0.39453125, 0.3984375 , 0.40234375, 0.40625   ,\n        0.41015625, 0.4140625 , 0.41796875, 0.421875  , 0.42578125,\n        0.4296875 , 0.43359375, 0.4375    , 0.44140625, 0.4453125 ,\n        0.44921875, 0.453125  , 0.45703125, 0.4609375 , 0.46484375,\n        0.46875   , 0.47265625, 0.4765625 , 0.48046875, 0.484375  ,\n        0.48828125, 0.4921875 , 0.49609375, 0.5       , 0.50390625,\n        0.5078125 , 0.51171875, 0.515625  , 0.51953125, 0.5234375 ,\n        0.52734375, 0.53125   , 0.53515625, 0.5390625 , 0.54296875,\n        0.546875  , 0.55078125, 0.5546875 , 0.55859375, 0.5625    ,\n        0.56640625, 0.5703125 , 0.57421875, 0.578125  , 0.58203125,\n        0.5859375 , 0.58984375, 0.59375   , 0.59765625, 0.6015625 ,\n        0.60546875, 0.609375  , 0.61328125, 0.6171875 , 0.62109375,\n        0.625     , 0.62890625, 0.6328125 , 0.63671875, 0.640625  ,\n        0.64453125, 0.6484375 , 0.65234375, 0.65625   , 0.66015625,\n        0.6640625 , 0.66796875, 0.671875  , 0.67578125, 0.6796875 ,\n        0.68359375, 0.6875    , 0.69140625, 0.6953125 , 0.69921875,\n        0.703125  , 0.70703125, 0.7109375 , 0.71484375, 0.71875   ,\n        0.72265625, 0.7265625 , 0.73046875, 0.734375  , 0.73828125,\n        0.7421875 , 0.74609375, 0.75      , 0.75390625, 0.7578125 ,\n        0.76171875, 0.765625  , 0.76953125, 0.7734375 , 0.77734375,\n        0.78125   , 0.78515625, 0.7890625 , 0.79296875, 0.796875  ,\n        0.80078125, 0.8046875 , 0.80859375, 0.8125    , 0.81640625,\n        0.8203125 , 0.82421875, 0.828125  , 0.83203125, 0.8359375 ,\n        0.83984375, 0.84375   , 0.84765625, 0.8515625 , 0.85546875,\n        0.859375  , 0.86328125, 0.8671875 , 0.87109375, 0.875     ,\n        0.87890625, 0.8828125 , 0.88671875, 0.890625  , 0.89453125,\n        0.8984375 , 0.90234375, 0.90625   , 0.91015625, 0.9140625 ,\n        0.91796875, 0.921875  , 0.92578125, 0.9296875 , 0.93359375,\n        0.9375    , 0.94140625, 0.9453125 , 0.94921875, 0.953125  ,\n        0.95703125, 0.9609375 , 0.96484375, 0.96875   , 0.97265625,\n        0.9765625 , 0.98046875, 0.984375  , 0.98828125, 0.9921875 ,\n        0.99609375, 1.        ]),\n <BarContainer object of 256 artists>)"
     },
     "execution_count": 23,
     "metadata": {},
     "output_type": "execute_result"
    },
    {
     "data": {
      "text/plain": "<Figure size 432x288 with 1 Axes>",
      "image/png": "[encoded data removed]"
     },
     "metadata": {
      "needs_background": "light"
     },
     "output_type": "display_data"
    }
   ],
   "source": [
    "import skimage\n",
    "p2, p98 = np.percentile(test_norm, (2, 98))\n",
    "img_contrast_streched = skimage.exposure.rescale_intensity(test_norm, in_range=(p2, p98))\n",
    "plt.hist(img_contrast_streched.ravel(), bins=256, range=(0.0, 1.0), fc='k', ec='k')"
   ],
   "metadata": {
    "collapsed": false,
    "pycharm": {
     "name": "#%%\n"
    }
   }
  },
  {
   "cell_type": "code",
   "execution_count": 25,
   "outputs": [],
   "source": [
    "nrrd.write('test_contrast_streched.nrrd', img_contrast_streched)"
   ],
   "metadata": {
    "collapsed": false,
    "pycharm": {
     "name": "#%%\n"
    }
   }
  },
  {
   "cell_type": "code",
   "execution_count": null,
   "outputs": [],
   "source": [],
   "metadata": {
    "collapsed": false,
    "pycharm": {
     "name": "#%%\n"
    }
   }
  },
  {
   "cell_type": "code",
   "execution_count": 28,
   "outputs": [
    {
     "data": {
      "text/plain": "<Figure size 432x288 with 1 Axes>",
      "image/png": "[encoded data removed]"
     },
     "metadata": {
      "needs_background": "light"
     },
     "output_type": "display_data"
    }
   ],
   "source": [
    "img_eq = skimage.exposure.equalize_hist(test_norm)\n",
    "plt.hist(img_eq.ravel(), bins=256, range=(0.0, 1.0), fc='k', ec='k')\n",
    "nrrd.write('test_equalized.nrrd', img_eq)"
   ],
   "metadata": {
    "collapsed": false,
    "pycharm": {
     "name": "#%%\n"
    }
   }
  },
  {
   "cell_type": "code",
   "execution_count": 30,
   "outputs": [
    {
     "data": {
      "text/plain": "<Figure size 432x288 with 1 Axes>",
      "image/png": "[encoded data removed]"
     },
     "metadata": {
      "needs_background": "light"
     },
     "output_type": "display_data"
    }
   ],
   "source": [
    "img_ad_eq = skimage.exposure.equalize_adapthist(test_norm, clip_limit=0.03)\n",
    "plt.hist(img_ad_eq.ravel(), bins=256, range=(0.0, 1.0), fc='k', ec='k')\n",
    "nrrd.write('test_ad_equalized.nrrd', img_ad_eq)"
   ],
   "metadata": {
    "collapsed": false,
    "pycharm": {
     "name": "#%%\n"
    }
   }
  },
  {
   "cell_type": "code",
   "execution_count": 25,
   "outputs": [],
   "source": [
    "r1, h = nrrd.read('./Rider/Rider/R1 (AD)/R1.seg.nrrd')"
   ],
   "metadata": {
    "collapsed": false,
    "pycharm": {
     "name": "#%%\n"
    }
   }
  },
  {
   "cell_type": "code",
   "execution_count": 26,
   "outputs": [],
   "source": [
    "nrrd.write('R1_label.nrrd',r1)"
   ],
   "metadata": {
    "collapsed": false,
    "pycharm": {
     "name": "#%%\n"
    }
   }
  },
  {
   "cell_type": "code",
   "execution_count": 27,
   "outputs": [],
   "source": [
    "from scipy import spatial"
   ],
   "metadata": {
    "collapsed": false,
    "pycharm": {
     "name": "#%%\n"
    }
   }
  },
  {
   "cell_type": "code",
   "execution_count": 85,
   "outputs": [
    {
     "ename": "InvalidArgumentError",
     "evalue": "required broadcastable shapes [Op:Mul]",
     "output_type": "error",
     "traceback": [
      "\u001B[1;31m---------------------------------------------------------------------------\u001B[0m",
      "\u001B[1;31mInvalidArgumentError\u001B[0m                      Traceback (most recent call last)",
      "Input \u001B[1;32mIn [85]\u001B[0m, in \u001B[0;36m<module>\u001B[1;34m\u001B[0m\n\u001B[0;32m      2\u001B[0m r1_label_orig \u001B[38;5;241m=\u001B[39m z_padding(r1_label_orig)\u001B[38;5;241m.\u001B[39mastype(\u001B[38;5;124m'\u001B[39m\u001B[38;5;124muint32\u001B[39m\u001B[38;5;124m'\u001B[39m)\n\u001B[0;32m      3\u001B[0m r1_label_test, h \u001B[38;5;241m=\u001B[39mnrrd\u001B[38;5;241m.\u001B[39mread(\u001B[38;5;124m'\u001B[39m\u001B[38;5;124m./labels_big.seg.nrrd\u001B[39m\u001B[38;5;124m'\u001B[39m)\n\u001B[1;32m----> 4\u001B[0m dice_score \u001B[38;5;241m=\u001B[39m \u001B[38;5;241m1\u001B[39m \u001B[38;5;241m-\u001B[39m \u001B[43mhelper_funcs\u001B[49m\u001B[38;5;241;43m.\u001B[39;49m\u001B[43mdice_loss\u001B[49m\u001B[43m(\u001B[49m\u001B[43mr1_label_orig\u001B[49m\u001B[43m,\u001B[49m\u001B[43m \u001B[49m\u001B[43mr1_label_test\u001B[49m\u001B[43m)\u001B[49m\n\u001B[0;32m      5\u001B[0m \u001B[38;5;28mprint\u001B[39m(\u001B[38;5;124m'\u001B[39m\u001B[38;5;124mDice score: \u001B[39m\u001B[38;5;124m'\u001B[39m, dice_score)\n",
      "File \u001B[1;32mE:\\Uni\\Thesis\\helper_funcs.py:33\u001B[0m, in \u001B[0;36mdice_loss\u001B[1;34m(y_true, y_pred)\u001B[0m\n\u001B[0;32m     31\u001B[0m y_true \u001B[38;5;241m=\u001B[39m tf\u001B[38;5;241m.\u001B[39mcast(y_true, tf\u001B[38;5;241m.\u001B[39mfloat32)\n\u001B[0;32m     32\u001B[0m y_pred \u001B[38;5;241m=\u001B[39m tf\u001B[38;5;241m.\u001B[39mmath\u001B[38;5;241m.\u001B[39msigmoid(tf\u001B[38;5;241m.\u001B[39mcast(y_pred, tf\u001B[38;5;241m.\u001B[39mfloat32))\n\u001B[1;32m---> 33\u001B[0m numerator \u001B[38;5;241m=\u001B[39m \u001B[38;5;241m2\u001B[39m \u001B[38;5;241m*\u001B[39m tf\u001B[38;5;241m.\u001B[39mreduce_sum(\u001B[43my_true\u001B[49m\u001B[43m \u001B[49m\u001B[38;5;241;43m*\u001B[39;49m\u001B[43m \u001B[49m\u001B[43my_pred\u001B[49m)\n\u001B[0;32m     34\u001B[0m denominator \u001B[38;5;241m=\u001B[39m tf\u001B[38;5;241m.\u001B[39mreduce_sum(y_true \u001B[38;5;241m+\u001B[39m y_pred)\n\u001B[0;32m     35\u001B[0m \u001B[38;5;28;01mreturn\u001B[39;00m \u001B[38;5;241m1\u001B[39m \u001B[38;5;241m-\u001B[39m numerator \u001B[38;5;241m/\u001B[39m denominator\n",
      "File \u001B[1;32m~\\anaconda3\\envs\\tf_gpu\\lib\\site-packages\\tensorflow\\python\\ops\\math_ops.py:1367\u001B[0m, in \u001B[0;36m_OverrideBinaryOperatorHelper.<locals>.binary_op_wrapper\u001B[1;34m(x, y)\u001B[0m\n\u001B[0;32m   1362\u001B[0m \u001B[38;5;28;01mtry\u001B[39;00m:\n\u001B[0;32m   1363\u001B[0m   \u001B[38;5;66;03m# force_same_dtype=False to preserve existing TF behavior\u001B[39;00m\n\u001B[0;32m   1364\u001B[0m   \u001B[38;5;66;03m# TODO(b/178860388): Figure out why binary_op_wrapper and\u001B[39;00m\n\u001B[0;32m   1365\u001B[0m   \u001B[38;5;66;03m#   r_binary_op_wrapper use different force_same_dtype values.\u001B[39;00m\n\u001B[0;32m   1366\u001B[0m   x, y \u001B[38;5;241m=\u001B[39m maybe_promote_tensors(x, y, force_same_dtype\u001B[38;5;241m=\u001B[39m\u001B[38;5;28;01mFalse\u001B[39;00m)\n\u001B[1;32m-> 1367\u001B[0m   \u001B[38;5;28;01mreturn\u001B[39;00m \u001B[43mfunc\u001B[49m\u001B[43m(\u001B[49m\u001B[43mx\u001B[49m\u001B[43m,\u001B[49m\u001B[43m \u001B[49m\u001B[43my\u001B[49m\u001B[43m,\u001B[49m\u001B[43m \u001B[49m\u001B[43mname\u001B[49m\u001B[38;5;241;43m=\u001B[39;49m\u001B[43mname\u001B[49m\u001B[43m)\u001B[49m\n\u001B[0;32m   1368\u001B[0m \u001B[38;5;28;01mexcept\u001B[39;00m (\u001B[38;5;167;01mTypeError\u001B[39;00m, \u001B[38;5;167;01mValueError\u001B[39;00m) \u001B[38;5;28;01mas\u001B[39;00m e:\n\u001B[0;32m   1369\u001B[0m   \u001B[38;5;66;03m# Even if dispatching the op failed, the RHS may be a tensor aware\u001B[39;00m\n\u001B[0;32m   1370\u001B[0m   \u001B[38;5;66;03m# object that can implement the operator with knowledge of itself\u001B[39;00m\n\u001B[1;32m   (...)\u001B[0m\n\u001B[0;32m   1373\u001B[0m   \u001B[38;5;66;03m# original error from the LHS, because it may be more\u001B[39;00m\n\u001B[0;32m   1374\u001B[0m   \u001B[38;5;66;03m# informative.\u001B[39;00m\n\u001B[0;32m   1375\u001B[0m   \u001B[38;5;28;01mif\u001B[39;00m \u001B[38;5;28mhasattr\u001B[39m(\u001B[38;5;28mtype\u001B[39m(y), \u001B[38;5;124m\"\u001B[39m\u001B[38;5;124m__r\u001B[39m\u001B[38;5;132;01m%s\u001B[39;00m\u001B[38;5;124m__\u001B[39m\u001B[38;5;124m\"\u001B[39m \u001B[38;5;241m%\u001B[39m op_name):\n",
      "File \u001B[1;32m~\\anaconda3\\envs\\tf_gpu\\lib\\site-packages\\tensorflow\\python\\ops\\math_ops.py:1710\u001B[0m, in \u001B[0;36m_mul_dispatch\u001B[1;34m(x, y, name)\u001B[0m\n\u001B[0;32m   1708\u001B[0m   \u001B[38;5;28;01mreturn\u001B[39;00m sparse_tensor\u001B[38;5;241m.\u001B[39mSparseTensor(y\u001B[38;5;241m.\u001B[39mindices, new_vals, y\u001B[38;5;241m.\u001B[39mdense_shape)\n\u001B[0;32m   1709\u001B[0m \u001B[38;5;28;01melse\u001B[39;00m:\n\u001B[1;32m-> 1710\u001B[0m   \u001B[38;5;28;01mreturn\u001B[39;00m \u001B[43mmultiply\u001B[49m\u001B[43m(\u001B[49m\u001B[43mx\u001B[49m\u001B[43m,\u001B[49m\u001B[43m \u001B[49m\u001B[43my\u001B[49m\u001B[43m,\u001B[49m\u001B[43m \u001B[49m\u001B[43mname\u001B[49m\u001B[38;5;241;43m=\u001B[39;49m\u001B[43mname\u001B[49m\u001B[43m)\u001B[49m\n",
      "File \u001B[1;32m~\\anaconda3\\envs\\tf_gpu\\lib\\site-packages\\tensorflow\\python\\util\\dispatch.py:206\u001B[0m, in \u001B[0;36madd_dispatch_support.<locals>.wrapper\u001B[1;34m(*args, **kwargs)\u001B[0m\n\u001B[0;32m    204\u001B[0m \u001B[38;5;124;03m\"\"\"Call target, and fall back on dispatchers if there is a TypeError.\"\"\"\u001B[39;00m\n\u001B[0;32m    205\u001B[0m \u001B[38;5;28;01mtry\u001B[39;00m:\n\u001B[1;32m--> 206\u001B[0m   \u001B[38;5;28;01mreturn\u001B[39;00m target(\u001B[38;5;241m*\u001B[39margs, \u001B[38;5;241m*\u001B[39m\u001B[38;5;241m*\u001B[39mkwargs)\n\u001B[0;32m    207\u001B[0m \u001B[38;5;28;01mexcept\u001B[39;00m (\u001B[38;5;167;01mTypeError\u001B[39;00m, \u001B[38;5;167;01mValueError\u001B[39;00m):\n\u001B[0;32m    208\u001B[0m   \u001B[38;5;66;03m# Note: convert_to_eager_tensor currently raises a ValueError, not a\u001B[39;00m\n\u001B[0;32m    209\u001B[0m   \u001B[38;5;66;03m# TypeError, when given unexpected types.  So we need to catch both.\u001B[39;00m\n\u001B[0;32m    210\u001B[0m   result \u001B[38;5;241m=\u001B[39m dispatch(wrapper, args, kwargs)\n",
      "File \u001B[1;32m~\\anaconda3\\envs\\tf_gpu\\lib\\site-packages\\tensorflow\\python\\ops\\math_ops.py:530\u001B[0m, in \u001B[0;36mmultiply\u001B[1;34m(x, y, name)\u001B[0m\n\u001B[0;32m    482\u001B[0m \u001B[38;5;129m@tf_export\u001B[39m(\u001B[38;5;124m\"\u001B[39m\u001B[38;5;124mmath.multiply\u001B[39m\u001B[38;5;124m\"\u001B[39m, \u001B[38;5;124m\"\u001B[39m\u001B[38;5;124mmultiply\u001B[39m\u001B[38;5;124m\"\u001B[39m)\n\u001B[0;32m    483\u001B[0m \u001B[38;5;129m@dispatch\u001B[39m\u001B[38;5;241m.\u001B[39madd_dispatch_support\n\u001B[0;32m    484\u001B[0m \u001B[38;5;28;01mdef\u001B[39;00m \u001B[38;5;21mmultiply\u001B[39m(x, y, name\u001B[38;5;241m=\u001B[39m\u001B[38;5;28;01mNone\u001B[39;00m):\n\u001B[0;32m    485\u001B[0m   \u001B[38;5;124;03m\"\"\"Returns an element-wise x * y.\u001B[39;00m\n\u001B[0;32m    486\u001B[0m \n\u001B[0;32m    487\u001B[0m \u001B[38;5;124;03m  For example:\u001B[39;00m\n\u001B[1;32m   (...)\u001B[0m\n\u001B[0;32m    527\u001B[0m \u001B[38;5;124;03m   * InvalidArgumentError: When `x` and `y` have incompatible shapes or types.\u001B[39;00m\n\u001B[0;32m    528\u001B[0m \u001B[38;5;124;03m  \"\"\"\u001B[39;00m\n\u001B[1;32m--> 530\u001B[0m   \u001B[38;5;28;01mreturn\u001B[39;00m \u001B[43mgen_math_ops\u001B[49m\u001B[38;5;241;43m.\u001B[39;49m\u001B[43mmul\u001B[49m\u001B[43m(\u001B[49m\u001B[43mx\u001B[49m\u001B[43m,\u001B[49m\u001B[43m \u001B[49m\u001B[43my\u001B[49m\u001B[43m,\u001B[49m\u001B[43m \u001B[49m\u001B[43mname\u001B[49m\u001B[43m)\u001B[49m\n",
      "File \u001B[1;32m~\\anaconda3\\envs\\tf_gpu\\lib\\site-packages\\tensorflow\\python\\ops\\gen_math_ops.py:6235\u001B[0m, in \u001B[0;36mmul\u001B[1;34m(x, y, name)\u001B[0m\n\u001B[0;32m   6233\u001B[0m   \u001B[38;5;28;01mreturn\u001B[39;00m _result\n\u001B[0;32m   6234\u001B[0m \u001B[38;5;28;01mexcept\u001B[39;00m _core\u001B[38;5;241m.\u001B[39m_NotOkStatusException \u001B[38;5;28;01mas\u001B[39;00m e:\n\u001B[1;32m-> 6235\u001B[0m   \u001B[43m_ops\u001B[49m\u001B[38;5;241;43m.\u001B[39;49m\u001B[43mraise_from_not_ok_status\u001B[49m\u001B[43m(\u001B[49m\u001B[43me\u001B[49m\u001B[43m,\u001B[49m\u001B[43m \u001B[49m\u001B[43mname\u001B[49m\u001B[43m)\u001B[49m\n\u001B[0;32m   6236\u001B[0m \u001B[38;5;28;01mexcept\u001B[39;00m _core\u001B[38;5;241m.\u001B[39m_FallbackException:\n\u001B[0;32m   6237\u001B[0m   \u001B[38;5;28;01mpass\u001B[39;00m\n",
      "File \u001B[1;32m~\\anaconda3\\envs\\tf_gpu\\lib\\site-packages\\tensorflow\\python\\framework\\ops.py:6941\u001B[0m, in \u001B[0;36mraise_from_not_ok_status\u001B[1;34m(e, name)\u001B[0m\n\u001B[0;32m   6939\u001B[0m message \u001B[38;5;241m=\u001B[39m e\u001B[38;5;241m.\u001B[39mmessage \u001B[38;5;241m+\u001B[39m (\u001B[38;5;124m\"\u001B[39m\u001B[38;5;124m name: \u001B[39m\u001B[38;5;124m\"\u001B[39m \u001B[38;5;241m+\u001B[39m name \u001B[38;5;28;01mif\u001B[39;00m name \u001B[38;5;129;01mis\u001B[39;00m \u001B[38;5;129;01mnot\u001B[39;00m \u001B[38;5;28;01mNone\u001B[39;00m \u001B[38;5;28;01melse\u001B[39;00m \u001B[38;5;124m\"\u001B[39m\u001B[38;5;124m\"\u001B[39m)\n\u001B[0;32m   6940\u001B[0m \u001B[38;5;66;03m# pylint: disable=protected-access\u001B[39;00m\n\u001B[1;32m-> 6941\u001B[0m \u001B[43msix\u001B[49m\u001B[38;5;241;43m.\u001B[39;49m\u001B[43mraise_from\u001B[49m\u001B[43m(\u001B[49m\u001B[43mcore\u001B[49m\u001B[38;5;241;43m.\u001B[39;49m\u001B[43m_status_to_exception\u001B[49m\u001B[43m(\u001B[49m\u001B[43me\u001B[49m\u001B[38;5;241;43m.\u001B[39;49m\u001B[43mcode\u001B[49m\u001B[43m,\u001B[49m\u001B[43m \u001B[49m\u001B[43mmessage\u001B[49m\u001B[43m)\u001B[49m\u001B[43m,\u001B[49m\u001B[43m \u001B[49m\u001B[38;5;28;43;01mNone\u001B[39;49;00m\u001B[43m)\u001B[49m\n",
      "File \u001B[1;32m<string>:3\u001B[0m, in \u001B[0;36mraise_from\u001B[1;34m(value, from_value)\u001B[0m\n",
      "\u001B[1;31mInvalidArgumentError\u001B[0m: required broadcastable shapes [Op:Mul]"
     ]
    }
   ],
   "source": [
    "r1_label_orig, h = nrrd.read('./Rider/Rider/R3/R3.seg.nrrd')\n",
    "r1_label_orig = z_padding(r1_label_orig).astype('uint32')\n",
    "r1_label_test, h =nrrd.read('./labels_big.seg.nrrd')\n",
    "dice_score = 1 - helper_funcs.dice_loss(r1_label_orig, r1_label_test)\n",
    "print('Dice score: ', dice_score)"
   ],
   "metadata": {
    "collapsed": false,
    "pycharm": {
     "name": "#%%\n"
    }
   }
  },
  {
   "cell_type": "code",
   "execution_count": 37,
   "outputs": [
    {
     "name": "stdout",
     "output_type": "stream",
     "text": [
      "uint32\n"
     ]
    }
   ],
   "source": [
    "print(r1_label_orig.dtype)"
   ],
   "metadata": {
    "collapsed": false,
    "pycharm": {
     "name": "#%%\n"
    }
   }
  },
  {
   "cell_type": "code",
   "execution_count": 86,
   "outputs": [],
   "source": [
    "nrrd.write('R1_label_orig.seg.nrrd',r1_label_orig)\n",
    "nrrd.write('R1_label_test.seg.nrrd',r1_label_test)"
   ],
   "metadata": {
    "collapsed": false,
    "pycharm": {
     "name": "#%%\n"
    }
   }
  }
 ]
}