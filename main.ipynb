{
 "nbformat": 4,
 "nbformat_minor": 0,
 "metadata": {
  "kernel_info": {
   "name": "azureml_py38_tensorflow"
  },
  "kernelspec": {
   "display_name": "Python 3 (ipykernel)",
   "language": "python",
   "name": "python3"
  },
  "language_info": {
   "codemirror_mode": {
    "name": "ipython",
    "version": 3
   },
   "file_extension": ".py",
   "mimetype": "text/x-python",
   "name": "python",
   "nbconvert_exporter": "python",
   "pygments_lexer": "ipython3",
   "version": "3.9.7"
  },
  "microsoft": {
   "host": {
    "AzureML": {
     "notebookHasBeenCompleted": true
    }
   }
  },
  "nteract": {
   "version": "nteract-front-end@1.0.0"
  },
  "colab": {
   "name": "main (1).ipynb",
   "provenance": [],
   "collapsed_sections": []
  },
  "accelerator": "GPU"
 },
 "cells": [
  {
   "cell_type": "code",
   "metadata": {
    "gather": {
     "logged": 1635980540292
    },
    "jupyter": {
     "outputs_hidden": false,
     "source_hidden": false
    },
    "nteract": {
     "transient": {
      "deleting": false
     }
    },
    "id": "vo77MIgCU3bW"
   },
   "source": [
    "from __future__ import division\n",
    "from glob import glob\n",
    "import tensorflow as tf\n",
    "from tensorflow import keras\n",
    "import random\n",
    "import nrrd\n",
    "import numpy as np\n",
    "import time\n",
    "from data_gen import CTA\n",
    "from tensorflow.python.client import device_lib\n",
    "from Networks import model_unet16, model_unet16csam, model_unet176, model_unet176csam, model_unet352\n",
    "import skimage\n",
    "import patchify\n",
    "from helper_funcs import *"
   ],
   "execution_count": 1,
   "outputs": []
  },
  {
   "cell_type": "markdown",
   "source": [
    "Config paths and mixed precision for reduced memory\n",
    "Load model"
   ],
   "metadata": {
    "collapsed": false
   }
  },
  {
   "cell_type": "code",
   "source": [
    "from tensorflow.compat.v1 import ConfigProto\n",
    "from tensorflow.compat.v1 import InteractiveSession\n",
    "\n",
    "config = ConfigProto()\n",
    "config.gpu_options.allow_growth = True\n",
    "session = InteractiveSession(config=config)"
   ],
   "metadata": {
    "id": "0zcH4AMACF9-"
   },
   "execution_count": 3,
   "outputs": [
    {
     "name": "stderr",
     "output_type": "stream",
     "text": [
      "C:\\Users\\bernh\\anaconda3\\envs\\tf_gpu\\lib\\site-packages\\tensorflow\\python\\client\\session.py:1766: UserWarning: An interactive session is already active. This can cause out-of-memory errors in some cases. You must explicitly call `InteractiveSession.close()` to release resources held by the other session(s).\n",
      "  warnings.warn('An interactive session is already active. This can '\n"
     ]
    }
   ]
  },
  {
   "cell_type": "code",
   "execution_count": 3,
   "outputs": [
    {
     "name": "stdout",
     "output_type": "stream",
     "text": [
      "Num GPUs Available:  1\n",
      "INFO:tensorflow:Mixed precision compatibility check (mixed_float16): OK\n",
      "Your GPU will likely run quickly with dtype policy mixed_float16 as it has compute capability of at least 7.0. Your GPU: NVIDIA GeForce RTX 2070, compute capability 7.5\n",
      "(None, 256, 256, 128, 1)\n",
      "Model: \"model\"\n",
      "______________________________________________________________________________________________________________________________________________________\n",
      "Layer (type)                                     Output Shape                     Param #           Connected to                                      \n",
      "======================================================================================================================================================\n",
      "input_1 (InputLayer)                             [(None, 256, 256, 128, 1)]       0                                                                   \n",
      "______________________________________________________________________________________________________________________________________________________\n",
      "conv3d (Conv3D)                                  (None, 256, 256, 128, 8)         224               input_1[0][0]                                     \n",
      "______________________________________________________________________________________________________________________________________________________\n",
      "batch_normalization (BatchNormalization)         (None, 256, 256, 128, 8)         32                conv3d[0][0]                                      \n",
      "______________________________________________________________________________________________________________________________________________________\n",
      "activation (Activation)                          (None, 256, 256, 128, 8)         0                 batch_normalization[0][0]                         \n",
      "______________________________________________________________________________________________________________________________________________________\n",
      "conv3d_1 (Conv3D)                                (None, 256, 256, 128, 8)         1736              activation[0][0]                                  \n",
      "______________________________________________________________________________________________________________________________________________________\n",
      "batch_normalization_1 (BatchNormalization)       (None, 256, 256, 128, 8)         32                conv3d_1[0][0]                                    \n",
      "______________________________________________________________________________________________________________________________________________________\n",
      "activation_1 (Activation)                        (None, 256, 256, 128, 8)         0                 batch_normalization_1[0][0]                       \n",
      "______________________________________________________________________________________________________________________________________________________\n",
      "max_pooling3d (MaxPooling3D)                     (None, 128, 128, 64, 8)          0                 activation_1[0][0]                                \n",
      "______________________________________________________________________________________________________________________________________________________\n",
      "conv3d_2 (Conv3D)                                (None, 128, 128, 64, 16)         3472              max_pooling3d[0][0]                               \n",
      "______________________________________________________________________________________________________________________________________________________\n",
      "batch_normalization_2 (BatchNormalization)       (None, 128, 128, 64, 16)         64                conv3d_2[0][0]                                    \n",
      "______________________________________________________________________________________________________________________________________________________\n",
      "activation_2 (Activation)                        (None, 128, 128, 64, 16)         0                 batch_normalization_2[0][0]                       \n",
      "______________________________________________________________________________________________________________________________________________________\n",
      "conv3d_3 (Conv3D)                                (None, 128, 128, 64, 16)         6928              activation_2[0][0]                                \n",
      "______________________________________________________________________________________________________________________________________________________\n",
      "batch_normalization_3 (BatchNormalization)       (None, 128, 128, 64, 16)         64                conv3d_3[0][0]                                    \n",
      "______________________________________________________________________________________________________________________________________________________\n",
      "activation_3 (Activation)                        (None, 128, 128, 64, 16)         0                 batch_normalization_3[0][0]                       \n",
      "______________________________________________________________________________________________________________________________________________________\n",
      "max_pooling3d_1 (MaxPooling3D)                   (None, 64, 64, 32, 16)           0                 activation_3[0][0]                                \n",
      "______________________________________________________________________________________________________________________________________________________\n",
      "conv3d_4 (Conv3D)                                (None, 64, 64, 32, 32)           13856             max_pooling3d_1[0][0]                             \n",
      "______________________________________________________________________________________________________________________________________________________\n",
      "batch_normalization_4 (BatchNormalization)       (None, 64, 64, 32, 32)           128               conv3d_4[0][0]                                    \n",
      "______________________________________________________________________________________________________________________________________________________\n",
      "activation_4 (Activation)                        (None, 64, 64, 32, 32)           0                 batch_normalization_4[0][0]                       \n",
      "______________________________________________________________________________________________________________________________________________________\n",
      "conv3d_5 (Conv3D)                                (None, 64, 64, 32, 32)           27680             activation_4[0][0]                                \n",
      "______________________________________________________________________________________________________________________________________________________\n",
      "batch_normalization_5 (BatchNormalization)       (None, 64, 64, 32, 32)           128               conv3d_5[0][0]                                    \n",
      "______________________________________________________________________________________________________________________________________________________\n",
      "activation_5 (Activation)                        (None, 64, 64, 32, 32)           0                 batch_normalization_5[0][0]                       \n",
      "______________________________________________________________________________________________________________________________________________________\n",
      "max_pooling3d_2 (MaxPooling3D)                   (None, 32, 32, 16, 32)           0                 activation_5[0][0]                                \n",
      "______________________________________________________________________________________________________________________________________________________\n",
      "conv3d_6 (Conv3D)                                (None, 32, 32, 16, 64)           55360             max_pooling3d_2[0][0]                             \n",
      "______________________________________________________________________________________________________________________________________________________\n",
      "batch_normalization_6 (BatchNormalization)       (None, 32, 32, 16, 64)           256               conv3d_6[0][0]                                    \n",
      "______________________________________________________________________________________________________________________________________________________\n",
      "activation_6 (Activation)                        (None, 32, 32, 16, 64)           0                 batch_normalization_6[0][0]                       \n",
      "______________________________________________________________________________________________________________________________________________________\n",
      "conv3d_7 (Conv3D)                                (None, 32, 32, 16, 64)           110656            activation_6[0][0]                                \n",
      "______________________________________________________________________________________________________________________________________________________\n",
      "batch_normalization_7 (BatchNormalization)       (None, 32, 32, 16, 64)           256               conv3d_7[0][0]                                    \n",
      "______________________________________________________________________________________________________________________________________________________\n",
      "activation_7 (Activation)                        (None, 32, 32, 16, 64)           0                 batch_normalization_7[0][0]                       \n",
      "______________________________________________________________________________________________________________________________________________________\n",
      "up_sampling3d (UpSampling3D)                     (None, 64, 64, 32, 64)           0                 activation_7[0][0]                                \n",
      "______________________________________________________________________________________________________________________________________________________\n",
      "concatenate (Concatenate)                        (None, 64, 64, 32, 96)           0                 up_sampling3d[0][0]                               \n",
      "                                                                                                    activation_5[0][0]                                \n",
      "______________________________________________________________________________________________________________________________________________________\n",
      "conv3d_8 (Conv3D)                                (None, 64, 64, 32, 32)           82976             concatenate[0][0]                                 \n",
      "______________________________________________________________________________________________________________________________________________________\n",
      "batch_normalization_8 (BatchNormalization)       (None, 64, 64, 32, 32)           128               conv3d_8[0][0]                                    \n",
      "______________________________________________________________________________________________________________________________________________________\n",
      "activation_8 (Activation)                        (None, 64, 64, 32, 32)           0                 batch_normalization_8[0][0]                       \n",
      "______________________________________________________________________________________________________________________________________________________\n",
      "conv3d_9 (Conv3D)                                (None, 64, 64, 32, 32)           27680             activation_8[0][0]                                \n",
      "______________________________________________________________________________________________________________________________________________________\n",
      "batch_normalization_9 (BatchNormalization)       (None, 64, 64, 32, 32)           128               conv3d_9[0][0]                                    \n",
      "______________________________________________________________________________________________________________________________________________________\n",
      "activation_9 (Activation)                        (None, 64, 64, 32, 32)           0                 batch_normalization_9[0][0]                       \n",
      "______________________________________________________________________________________________________________________________________________________\n",
      "up_sampling3d_1 (UpSampling3D)                   (None, 128, 128, 64, 32)         0                 activation_9[0][0]                                \n",
      "______________________________________________________________________________________________________________________________________________________\n",
      "concatenate_1 (Concatenate)                      (None, 128, 128, 64, 48)         0                 up_sampling3d_1[0][0]                             \n",
      "                                                                                                    activation_3[0][0]                                \n",
      "______________________________________________________________________________________________________________________________________________________\n",
      "conv3d_10 (Conv3D)                               (None, 128, 128, 64, 16)         20752             concatenate_1[0][0]                               \n",
      "______________________________________________________________________________________________________________________________________________________\n",
      "batch_normalization_10 (BatchNormalization)      (None, 128, 128, 64, 16)         64                conv3d_10[0][0]                                   \n",
      "______________________________________________________________________________________________________________________________________________________\n",
      "activation_10 (Activation)                       (None, 128, 128, 64, 16)         0                 batch_normalization_10[0][0]                      \n",
      "______________________________________________________________________________________________________________________________________________________\n",
      "conv3d_11 (Conv3D)                               (None, 128, 128, 64, 16)         6928              activation_10[0][0]                               \n",
      "______________________________________________________________________________________________________________________________________________________\n",
      "batch_normalization_11 (BatchNormalization)      (None, 128, 128, 64, 16)         64                conv3d_11[0][0]                                   \n",
      "______________________________________________________________________________________________________________________________________________________\n",
      "activation_11 (Activation)                       (None, 128, 128, 64, 16)         0                 batch_normalization_11[0][0]                      \n",
      "______________________________________________________________________________________________________________________________________________________\n",
      "up_sampling3d_2 (UpSampling3D)                   (None, 256, 256, 128, 16)        0                 activation_11[0][0]                               \n",
      "______________________________________________________________________________________________________________________________________________________\n",
      "concatenate_2 (Concatenate)                      (None, 256, 256, 128, 24)        0                 up_sampling3d_2[0][0]                             \n",
      "                                                                                                    activation_1[0][0]                                \n",
      "______________________________________________________________________________________________________________________________________________________\n",
      "conv3d_12 (Conv3D)                               (None, 256, 256, 128, 8)         5192              concatenate_2[0][0]                               \n",
      "______________________________________________________________________________________________________________________________________________________\n",
      "batch_normalization_12 (BatchNormalization)      (None, 256, 256, 128, 8)         32                conv3d_12[0][0]                                   \n",
      "______________________________________________________________________________________________________________________________________________________\n",
      "activation_12 (Activation)                       (None, 256, 256, 128, 8)         0                 batch_normalization_12[0][0]                      \n",
      "______________________________________________________________________________________________________________________________________________________\n",
      "conv3d_13 (Conv3D)                               (None, 256, 256, 128, 8)         1736              activation_12[0][0]                               \n",
      "______________________________________________________________________________________________________________________________________________________\n",
      "batch_normalization_13 (BatchNormalization)      (None, 256, 256, 128, 8)         32                conv3d_13[0][0]                                   \n",
      "______________________________________________________________________________________________________________________________________________________\n",
      "activation_13 (Activation)                       (None, 256, 256, 128, 8)         0                 batch_normalization_13[0][0]                      \n",
      "______________________________________________________________________________________________________________________________________________________\n",
      "conv3d_14 (Conv3D)                               (None, 256, 256, 128, 1)         9                 activation_13[0][0]                               \n",
      "______________________________________________________________________________________________________________________________________________________\n",
      "activation_14 (Activation)                       (None, 256, 256, 128, 1)         0                 conv3d_14[0][0]                                   \n",
      "======================================================================================================================================================\n",
      "Total params: 366,593\n",
      "Trainable params: 365,889\n",
      "Non-trainable params: 704\n",
      "______________________________________________________________________________________________________________________________________________________\n"
     ]
    }
   ],
   "source": [
    "print(\"Num GPUs Available: \", len(tf.config.list_physical_devices('GPU')))\n",
    "device_lib.list_local_devices()\n",
    "\n",
    "training_dir = \"./training_data/train_z128_iso_win_im/\"\n",
    "label_dir = \"./training_data/train_z128_iso_win_la/\"\n",
    "data_list =glob('{}/*.nrrd'.format(training_dir))\n",
    "label_list=glob('{}/*.nrrd'.format(label_dir))\n",
    "\n",
    "policy = keras.mixed_precision.Policy('mixed_float16')\n",
    "keras.mixed_precision.set_global_policy(policy)\n",
    "\n",
    "keras.backend.clear_session()\n",
    "\n",
    "img_size = (256, 256, 128)\n",
    "model = model_classic_unet_176.get_model(img_size)\n",
    "a=model.summary(line_length=150)\n",
    "\n"
   ],
   "metadata": {
    "collapsed": false,
    "pycharm": {
     "name": "#%%\n"
    }
   }
  },
  {
   "cell_type": "markdown",
   "source": [
    "\n"
   ],
   "metadata": {
    "collapsed": false
   }
  },
  {
   "cell_type": "markdown",
   "source": [
    "Split data into training and validation set\n",
    "Initialise sequence"
   ],
   "metadata": {
    "collapsed": false
   }
  },
  {
   "cell_type": "code",
   "execution_count": 4,
   "outputs": [],
   "source": [
    "val_samples = int(np.floor(len(data_list)*0.3))\n",
    "random.Random(7331).shuffle(data_list)\n",
    "random.Random(7331).shuffle(label_list)\n",
    "\n",
    "train_img_paths = data_list[:-val_samples]\n",
    "train_lab_paths = label_list[:-val_samples]\n",
    "\n",
    "val_img_paths = data_list[-val_samples:]\n",
    "val_lab_paths = label_list[-val_samples:]\n",
    "\n",
    "train_gen = CTA(train_img_paths, train_lab_paths, 1)\n",
    "valid_gen = CTA(val_img_paths, val_lab_paths, 1)"
   ],
   "metadata": {
    "collapsed": false,
    "pycharm": {
     "name": "#%%\n"
    }
   }
  },
  {
   "cell_type": "markdown",
   "source": [
    "Enable dynamic memory allocation"
   ],
   "metadata": {
    "collapsed": false
   }
  },
  {
   "cell_type": "markdown",
   "source": [
    "Compile model\n",
    "Add callback to check loss inside of epoch\n",
    "train model"
   ],
   "metadata": {
    "collapsed": false
   }
  },
  {
   "cell_type": "code",
   "metadata": {
    "jupyter": {
     "outputs_hidden": false,
     "source_hidden": false
    },
    "nteract": {
     "transient": {
      "deleting": false
     }
    },
    "scrolled": false,
    "colab": {
     "base_uri": "https://localhost:8080/"
    },
    "id": "FxFe6hDqU3bc",
    "outputId": "376caa2e-5f02-4a0f-dc64-f01c4ba267f8"
   },
   "source": [
    "model.compile(optimizer=tf.keras.optimizers.Adamax(learning_rate=0.001, epsilon=0.01), loss=[neg_dice_coef])\n",
    "epochs = 300\n",
    "\n",
    "callbacks = [\n",
    "    keras.callbacks.EarlyStopping(patience=20, verbose=1),\n",
    "    keras.callbacks.ReduceLROnPlateau(factor=0.1, patience=10, min_lr=0.00000001, verbose=1),\n",
    "    keras.callbacks.ModelCheckpoint(\"classic_unet_176.h5\", verbose=1, save_best_only=True)\n",
    "]\n",
    "start = time.time()\n",
    "history = model.fit(train_gen, epochs=epochs, validation_data=valid_gen, callbacks=callbacks,shuffle=True)\n",
    "end = time.time()\n",
    "print('Training time: ', end-start)"
   ],
   "execution_count": 5,
   "outputs": [
    {
     "name": "stdout",
     "output_type": "stream",
     "text": [
      "Epoch 1/300\n",
      "175/175 [==============================] - 225s 1s/step - loss: -88666.8438 - val_loss: -89421.3125\n",
      "\n",
      "Epoch 00001: val_loss improved from inf to -89421.31250, saving model to classic_unet_176.h5\n",
      "Epoch 2/300\n",
      "175/175 [==============================] - 184s 1s/step - loss: -96486.1406 - val_loss: -96276.9297\n",
      "\n",
      "Epoch 00002: val_loss improved from -89421.31250 to -96276.92969, saving model to classic_unet_176.h5\n",
      "Epoch 3/300\n",
      "175/175 [==============================] - 187s 1s/step - loss: -98369.5391 - val_loss: -98490.2422\n",
      "\n",
      "Epoch 00003: val_loss improved from -96276.92969 to -98490.24219, saving model to classic_unet_176.h5\n",
      "Epoch 4/300\n",
      "175/175 [==============================] - 185s 1s/step - loss: -99015.3828 - val_loss: -99095.6797\n",
      "\n",
      "Epoch 00004: val_loss improved from -98490.24219 to -99095.67969, saving model to classic_unet_176.h5\n",
      "Epoch 5/300\n",
      "175/175 [==============================] - 184s 1s/step - loss: -99299.3828 - val_loss: -99087.4688\n",
      "\n",
      "Epoch 00005: val_loss did not improve from -99095.67969\n",
      "Epoch 6/300\n",
      "175/175 [==============================] - 171s 977ms/step - loss: -99437.4844 - val_loss: -99467.1328\n",
      "\n",
      "Epoch 00006: val_loss improved from -99095.67969 to -99467.13281, saving model to classic_unet_176.h5\n",
      "Epoch 7/300\n",
      "175/175 [==============================] - 170s 970ms/step - loss: -99512.2266 - val_loss: -99357.1953\n",
      "\n",
      "Epoch 00007: val_loss did not improve from -99467.13281\n",
      "Epoch 8/300\n",
      "175/175 [==============================] - 175s 998ms/step - loss: -99586.8672 - val_loss: -99516.1172\n",
      "\n",
      "Epoch 00008: val_loss improved from -99467.13281 to -99516.11719, saving model to classic_unet_176.h5\n",
      "Epoch 9/300\n",
      "175/175 [==============================] - 168s 960ms/step - loss: -99631.6953 - val_loss: -99644.6250\n",
      "\n",
      "Epoch 00009: val_loss improved from -99516.11719 to -99644.62500, saving model to classic_unet_176.h5\n",
      "Epoch 10/300\n",
      "175/175 [==============================] - 168s 958ms/step - loss: -99659.3750 - val_loss: -99612.7812\n",
      "\n",
      "Epoch 00010: val_loss did not improve from -99644.62500\n",
      "Epoch 11/300\n",
      "175/175 [==============================] - 173s 988ms/step - loss: -99679.7734 - val_loss: -99496.3047\n",
      "\n",
      "Epoch 00011: val_loss did not improve from -99644.62500\n",
      "Epoch 12/300\n",
      "175/175 [==============================] - 177s 1s/step - loss: -99708.4219 - val_loss: -99707.2578\n",
      "\n",
      "Epoch 00012: val_loss improved from -99644.62500 to -99707.25781, saving model to classic_unet_176.h5\n",
      "Epoch 13/300\n",
      "175/175 [==============================] - 182s 1s/step - loss: -99732.8125 - val_loss: -99634.2031\n",
      "\n",
      "Epoch 00013: val_loss did not improve from -99707.25781\n",
      "Epoch 14/300\n",
      "175/175 [==============================] - 184s 1s/step - loss: -99752.5859 - val_loss: -99723.7969\n",
      "\n",
      "Epoch 00014: val_loss improved from -99707.25781 to -99723.79688, saving model to classic_unet_176.h5\n",
      "Epoch 15/300\n",
      "175/175 [==============================] - 187s 1s/step - loss: -99760.6875 - val_loss: -99745.1406\n",
      "\n",
      "Epoch 00015: val_loss improved from -99723.79688 to -99745.14062, saving model to classic_unet_176.h5\n",
      "Epoch 16/300\n",
      "175/175 [==============================] - 201s 1s/step - loss: -99772.3750 - val_loss: -99761.3750\n",
      "\n",
      "Epoch 00016: val_loss improved from -99745.14062 to -99761.37500, saving model to classic_unet_176.h5\n",
      "Epoch 17/300\n",
      "175/175 [==============================] - 190s 1s/step - loss: -99781.8984 - val_loss: -99610.6016\n",
      "\n",
      "Epoch 00017: val_loss did not improve from -99761.37500\n",
      "Epoch 18/300\n",
      "175/175 [==============================] - 204s 1s/step - loss: -99805.9453 - val_loss: -99776.8516\n",
      "\n",
      "Epoch 00018: val_loss improved from -99761.37500 to -99776.85156, saving model to classic_unet_176.h5\n",
      "Epoch 19/300\n",
      "175/175 [==============================] - 189s 1s/step - loss: -99805.4062 - val_loss: -99741.1172\n",
      "\n",
      "Epoch 00019: val_loss did not improve from -99776.85156\n",
      "Epoch 20/300\n",
      "175/175 [==============================] - 177s 1s/step - loss: -99818.3750 - val_loss: -99760.1719\n",
      "\n",
      "Epoch 00020: val_loss did not improve from -99776.85156\n",
      "Epoch 21/300\n",
      "175/175 [==============================] - 213s 1s/step - loss: -99825.7344 - val_loss: -99804.3750\n",
      "\n",
      "Epoch 00021: val_loss improved from -99776.85156 to -99804.37500, saving model to classic_unet_176.h5\n",
      "Epoch 22/300\n",
      "175/175 [==============================] - 213s 1s/step - loss: -99839.2812 - val_loss: -99813.4766\n",
      "\n",
      "Epoch 00022: val_loss improved from -99804.37500 to -99813.47656, saving model to classic_unet_176.h5\n",
      "Epoch 23/300\n",
      "175/175 [==============================] - 180s 1s/step - loss: -99840.2031 - val_loss: -99803.3438\n",
      "\n",
      "Epoch 00023: val_loss did not improve from -99813.47656\n",
      "Epoch 24/300\n",
      "175/175 [==============================] - 183s 1s/step - loss: -99847.2109 - val_loss: -99541.3125\n",
      "\n",
      "Epoch 00024: val_loss did not improve from -99813.47656\n",
      "Epoch 25/300\n",
      "175/175 [==============================] - 176s 1s/step - loss: -99857.7031 - val_loss: -99556.8359\n",
      "\n",
      "Epoch 00025: val_loss did not improve from -99813.47656\n",
      "Epoch 26/300\n",
      "175/175 [==============================] - 175s 999ms/step - loss: -99860.1484 - val_loss: -99769.4219\n",
      "\n",
      "Epoch 00026: val_loss did not improve from -99813.47656\n",
      "Epoch 27/300\n",
      "175/175 [==============================] - 176s 1s/step - loss: -99866.5703 - val_loss: -99475.5000\n",
      "\n",
      "Epoch 00027: val_loss did not improve from -99813.47656\n",
      "Epoch 28/300\n",
      "175/175 [==============================] - 176s 1s/step - loss: -99865.2109 - val_loss: -99804.8359\n",
      "\n",
      "Epoch 00028: val_loss did not improve from -99813.47656\n",
      "Epoch 29/300\n",
      "175/175 [==============================] - 176s 1s/step - loss: -99865.2031 - val_loss: -99760.0391\n",
      "\n",
      "Epoch 00029: val_loss did not improve from -99813.47656\n",
      "Epoch 30/300\n",
      "175/175 [==============================] - 179s 1s/step - loss: -99878.8594 - val_loss: -99694.3203\n",
      "\n",
      "Epoch 00030: val_loss did not improve from -99813.47656\n",
      "Epoch 31/300\n",
      "175/175 [==============================] - 178s 1s/step - loss: -99883.8047 - val_loss: -99795.3438\n",
      "\n",
      "Epoch 00031: val_loss did not improve from -99813.47656\n",
      "Epoch 32/300\n",
      "175/175 [==============================] - 176s 1s/step - loss: -99887.9219 - val_loss: -99801.6250\n",
      "\n",
      "Epoch 00032: ReduceLROnPlateau reducing learning rate to 0.00010000000474974513.\n",
      "\n",
      "Epoch 00032: val_loss did not improve from -99813.47656\n",
      "Epoch 33/300\n",
      "175/175 [==============================] - 178s 1s/step - loss: -99900.2656 - val_loss: -99818.6797\n",
      "\n",
      "Epoch 00033: val_loss improved from -99813.47656 to -99818.67969, saving model to classic_unet_176.h5\n",
      "Epoch 34/300\n",
      "175/175 [==============================] - 178s 1s/step - loss: -99903.2031 - val_loss: -99822.7812\n",
      "\n",
      "Epoch 00034: val_loss improved from -99818.67969 to -99822.78125, saving model to classic_unet_176.h5\n",
      "Epoch 35/300\n",
      "175/175 [==============================] - 181s 1s/step - loss: -99905.2031 - val_loss: -99804.8906\n",
      "\n",
      "Epoch 00035: val_loss did not improve from -99822.78125\n",
      "Epoch 36/300\n",
      "175/175 [==============================] - 172s 983ms/step - loss: -99906.5625 - val_loss: -99812.0234\n",
      "\n",
      "Epoch 00036: val_loss did not improve from -99822.78125\n",
      "Epoch 37/300\n",
      "175/175 [==============================] - 176s 1s/step - loss: -99907.9297 - val_loss: -99817.6016\n",
      "\n",
      "Epoch 00037: val_loss did not improve from -99822.78125\n",
      "Epoch 38/300\n",
      "175/175 [==============================] - 177s 1s/step - loss: -99908.9453 - val_loss: -99804.4453\n",
      "\n",
      "Epoch 00038: val_loss did not improve from -99822.78125\n",
      "Epoch 39/300\n",
      "175/175 [==============================] - 186s 1s/step - loss: -99910.6094 - val_loss: -99809.5547\n",
      "\n",
      "Epoch 00039: val_loss did not improve from -99822.78125\n",
      "Epoch 40/300\n",
      "175/175 [==============================] - 219s 1s/step - loss: -99911.9766 - val_loss: -99791.9766\n",
      "\n",
      "Epoch 00040: val_loss did not improve from -99822.78125\n",
      "Epoch 41/300\n",
      "175/175 [==============================] - 217s 1s/step - loss: -99913.2812 - val_loss: -99828.7812\n",
      "\n",
      "Epoch 00041: val_loss improved from -99822.78125 to -99828.78125, saving model to classic_unet_176.h5\n",
      "Epoch 42/300\n",
      "175/175 [==============================] - 216s 1s/step - loss: -99914.2734 - val_loss: -99812.3438\n",
      "\n",
      "Epoch 00042: val_loss did not improve from -99828.78125\n",
      "Epoch 43/300\n",
      "175/175 [==============================] - 179s 1s/step - loss: -99915.6250 - val_loss: -99803.6562\n",
      "\n",
      "Epoch 00043: val_loss did not improve from -99828.78125\n",
      "Epoch 44/300\n",
      "175/175 [==============================] - 172s 981ms/step - loss: -99916.7578 - val_loss: -99782.2891\n",
      "\n",
      "Epoch 00044: val_loss did not improve from -99828.78125\n",
      "Epoch 45/300\n",
      "175/175 [==============================] - 170s 969ms/step - loss: -99917.7578 - val_loss: -99807.2969\n",
      "\n",
      "Epoch 00045: val_loss did not improve from -99828.78125\n",
      "Epoch 46/300\n",
      "175/175 [==============================] - 167s 954ms/step - loss: -99918.9609 - val_loss: -99829.1406\n",
      "\n",
      "Epoch 00046: val_loss improved from -99828.78125 to -99829.14062, saving model to classic_unet_176.h5\n",
      "Epoch 47/300\n",
      "175/175 [==============================] - 167s 950ms/step - loss: -99919.9922 - val_loss: -99810.1797\n",
      "\n",
      "Epoch 00047: val_loss did not improve from -99829.14062\n",
      "Epoch 48/300\n",
      "175/175 [==============================] - 167s 953ms/step - loss: -99921.0312 - val_loss: -99793.4609\n",
      "\n",
      "Epoch 00048: val_loss did not improve from -99829.14062\n",
      "Epoch 49/300\n",
      "175/175 [==============================] - 167s 955ms/step - loss: -99921.6719 - val_loss: -99791.1953\n",
      "\n",
      "Epoch 00049: val_loss did not improve from -99829.14062\n",
      "Epoch 50/300\n",
      "175/175 [==============================] - 167s 952ms/step - loss: -99922.8359 - val_loss: -99806.5703\n",
      "\n",
      "Epoch 00050: val_loss did not improve from -99829.14062\n",
      "Epoch 51/300\n",
      "175/175 [==============================] - 167s 953ms/step - loss: -99923.6797 - val_loss: -99776.7969\n",
      "\n",
      "Epoch 00051: val_loss did not improve from -99829.14062\n",
      "Epoch 52/300\n",
      "175/175 [==============================] - 167s 952ms/step - loss: -99924.9375 - val_loss: -99779.0547\n",
      "\n",
      "Epoch 00052: val_loss did not improve from -99829.14062\n",
      "Epoch 53/300\n",
      "175/175 [==============================] - 167s 952ms/step - loss: -99925.9531 - val_loss: -99769.4609\n",
      "\n",
      "Epoch 00053: val_loss did not improve from -99829.14062\n",
      "Epoch 54/300\n",
      "175/175 [==============================] - 167s 951ms/step - loss: -99926.7344 - val_loss: -99791.2422\n",
      "\n",
      "Epoch 00054: val_loss did not improve from -99829.14062\n",
      "Epoch 55/300\n",
      "175/175 [==============================] - 167s 952ms/step - loss: -99927.8828 - val_loss: -99791.4062\n",
      "\n",
      "Epoch 00055: val_loss did not improve from -99829.14062\n",
      "Epoch 56/300\n",
      "175/175 [==============================] - 168s 958ms/step - loss: -99928.7734 - val_loss: -99772.9766\n",
      "\n",
      "Epoch 00056: ReduceLROnPlateau reducing learning rate to 1.0000000474974514e-05.\n",
      "\n",
      "Epoch 00056: val_loss did not improve from -99829.14062\n",
      "Epoch 57/300\n",
      "175/175 [==============================] - 171s 973ms/step - loss: -99930.5625 - val_loss: -99771.2188\n",
      "\n",
      "Epoch 00057: val_loss did not improve from -99829.14062\n",
      "Epoch 58/300\n",
      "175/175 [==============================] - 168s 958ms/step - loss: -99930.9062 - val_loss: -99776.3672\n",
      "\n",
      "Epoch 00058: val_loss did not improve from -99829.14062\n",
      "Epoch 59/300\n",
      "175/175 [==============================] - 167s 950ms/step - loss: -99931.1172 - val_loss: -99769.9453\n",
      "\n",
      "Epoch 00059: val_loss did not improve from -99829.14062\n",
      "Epoch 60/300\n",
      "175/175 [==============================] - 167s 950ms/step - loss: -99931.2344 - val_loss: -99777.2969\n",
      "\n",
      "Epoch 00060: val_loss did not improve from -99829.14062\n",
      "Epoch 61/300\n",
      "175/175 [==============================] - 172s 979ms/step - loss: -99931.3359 - val_loss: -99771.4766\n",
      "\n",
      "Epoch 00061: val_loss did not improve from -99829.14062\n",
      "Epoch 62/300\n",
      "175/175 [==============================] - 170s 970ms/step - loss: -99931.4766 - val_loss: -99779.5234\n",
      "\n",
      "Epoch 00062: val_loss did not improve from -99829.14062\n",
      "Epoch 63/300\n",
      "175/175 [==============================] - 171s 978ms/step - loss: -99931.6328 - val_loss: -99769.3438\n",
      "\n",
      "Epoch 00063: val_loss did not improve from -99829.14062\n",
      "Epoch 64/300\n",
      "175/175 [==============================] - 185s 1s/step - loss: -99931.7344 - val_loss: -99781.9297\n",
      "\n",
      "Epoch 00064: val_loss did not improve from -99829.14062\n",
      "Epoch 65/300\n",
      "175/175 [==============================] - 181s 1s/step - loss: -99931.8594 - val_loss: -99775.0859\n",
      "\n",
      "Epoch 00065: val_loss did not improve from -99829.14062\n",
      "Epoch 66/300\n",
      "175/175 [==============================] - 166s 949ms/step - loss: -99931.9766 - val_loss: -99781.0312\n",
      "\n",
      "Epoch 00066: ReduceLROnPlateau reducing learning rate to 1.0000000656873453e-06.\n",
      "\n",
      "Epoch 00066: val_loss did not improve from -99829.14062\n",
      "Epoch 00066: early stopping\n",
      "Training time:  11867.874955892563\n"
     ]
    }
   ]
  },
  {
   "cell_type": "code",
   "execution_count": 6,
   "outputs": [
    {
     "data": {
      "text/plain": "Text(0, 0.5, 'Dice loss')"
     },
     "execution_count": 6,
     "metadata": {},
     "output_type": "execute_result"
    },
    {
     "data": {
      "text/plain": "<Figure size 432x288 with 1 Axes>",
      "image/png": "[encoded data removed]"
     },
     "metadata": {
      "needs_background": "light"
     },
     "output_type": "display_data"
    }
   ],
   "source": [
    "import matplotlib.pyplot as plt\n",
    "plt.figure()\n",
    "plt.plot(history.history['val_loss'], label='Validation Dice Loss')\n",
    "plt.plot(history.history['loss'], label='Train Dice Loss')\n",
    "#plt.plot(batch_loss.losses)\n",
    "plt.legend()\n",
    "plt.xlabel('Iterations')\n",
    "plt.ylabel('Dice loss')"
   ],
   "metadata": {
    "collapsed": false,
    "pycharm": {
     "name": "#%%\n"
    }
   }
  },
  {
   "cell_type": "markdown",
   "source": [
    "Testing"
   ],
   "metadata": {
    "collapsed": false
   }
  },
  {
   "cell_type": "code",
   "execution_count": 80,
   "outputs": [
    {
     "name": "stdout",
     "output_type": "stream",
     "text": [
      "(5, 256, 256, 128, 1)\n",
      "1/1 [==============================] - 0s 53ms/step\n",
      "1/1 [==============================] - 0s 40ms/step\n",
      "1/1 [==============================] - 0s 39ms/step\n",
      "1/1 [==============================] - 0s 41ms/step\n",
      "1/1 [==============================] - 0s 40ms/step\n"
     ]
    }
   ],
   "source": [
    "filename = \"D3\"\n",
    "test_img, header = nrrd.read('./test_data/D3_resamp.nrrd')\n",
    "x, y, z = test_img.shape\n",
    "m_x = x//2\n",
    "m_y = y//2\n",
    "image = test_img[m_x-128:m_x+128,m_y-128:m_y+128,:]\n",
    "if filename[0] == 'D':\n",
    "    im_win = np.where(image<100,0, image)\n",
    "    im_win = np.where(image>700,0, im_win)\n",
    "elif filename[0] == 'K':\n",
    "    im_win = np.where(image<1100,0, image)\n",
    "    im_win = np.where(image>2000,0, im_win)\n",
    "else:\n",
    "    im_win = np.where(image<1100,0, image)\n",
    "    im_win = np.where(image>1350,0, im_win)\n",
    "\n",
    "image_norm = (im_win - np.min(im_win))/(np.max(im_win)-np.min(im_win))\n",
    "patch_shape =(256, 256, 128)\n",
    "image_pad = z_padding(image_norm)\n",
    "test_patches=patchify.patchify(image_pad, (256,256,128), step=128)\n",
    "pat_size = test_patches.shape\n",
    "test_patches = test_patches.squeeze()\n",
    "test_patches = np.expand_dims(test_patches, -1)\n",
    "pred_patches = np.empty(shape=test_patches.shape)\n",
    "pred_raw = np.empty(shape=test_patches.shape)\n",
    "print(test_patches.shape)\n",
    "for i in np.arange(test_patches.shape[0]):\n",
    "    pred = model.predict(np.expand_dims(test_patches[i,:,:,:,0],axis=0),batch_size=1, verbose=1)\n",
    "    pred_raw[i,:,:,:,0]=np.squeeze(pred)\n",
    "    pred = (pred > 0.005).astype(np.uint8)\n",
    "\n",
    "    pred = np.squeeze(pred)\n",
    "    pred_patches[i,:,:,:,0] =  pred"
   ],
   "metadata": {
    "collapsed": false,
    "pycharm": {
     "name": "#%%\n"
    }
   }
  },
  {
   "cell_type": "code",
   "execution_count": 81,
   "outputs": [
    {
     "name": "stdout",
     "output_type": "stream",
     "text": [
      "(1, 1, 5, 256, 256, 128)\n"
     ]
    }
   ],
   "source": [
    "pred_patches=pred_patches.squeeze()\n",
    "pred_patches = np.expand_dims(np.expand_dims(pred_patches, axis=0),axis=0)\n",
    "pred_patches_r = pred_raw.squeeze()\n",
    "pred_patches_r = np.expand_dims(np.expand_dims(pred_patches_r, axis=0), axis=0)\n",
    "print(pred_patches.shape)\n"
   ],
   "metadata": {
    "collapsed": false,
    "pycharm": {
     "name": "#%%\n"
    }
   }
  },
  {
   "cell_type": "markdown",
   "source": [
    "Reconstruct image from patches"
   ],
   "metadata": {
    "collapsed": false
   }
  },
  {
   "cell_type": "code",
   "execution_count": 82,
   "outputs": [],
   "source": [
    "reconstructed = patchify.unpatchify(pred_patches,image_pad.shape)\n",
    "recon_raw = patchify.unpatchify(pred_patches_r, image_pad.shape)"
   ],
   "metadata": {
    "collapsed": false,
    "pycharm": {
     "name": "#%%\n"
    }
   }
  },
  {
   "cell_type": "markdown",
   "source": [
    "Morphological operations"
   ],
   "metadata": {
    "collapsed": false
   }
  },
  {
   "cell_type": "code",
   "execution_count": null,
   "outputs": [],
   "source": [
    "from scipy import ndimage\n",
    "closed_once = ndimage.binary_closing(reconstructed, iterations=2).astype(int)"
   ],
   "metadata": {
    "collapsed": false,
    "pycharm": {
     "name": "#%%\n"
    }
   }
  },
  {
   "cell_type": "markdown",
   "source": [],
   "metadata": {
    "collapsed": false
   }
  },
  {
   "cell_type": "markdown",
   "source": [
    "Connected components"
   ],
   "metadata": {
    "collapsed": false
   }
  },
  {
   "cell_type": "code",
   "execution_count": 87,
   "outputs": [],
   "source": [
    "import cc3d\n",
    "import nrrd\n",
    "import numpy as np\n",
    "labels_out, N = cc3d.connected_components(closed_once, return_N=True)\n",
    "aorta_label = aorta_id(labels_out)\n",
    "labels_big = labels_out * (labels_out == aorta_label)\n",
    "nrrd.write('D3_win_unet_176.seg.nrrd', labels_big)"
   ],
   "metadata": {
    "collapsed": false,
    "pycharm": {
     "name": "#%%\n"
    }
   }
  }
 ]
}