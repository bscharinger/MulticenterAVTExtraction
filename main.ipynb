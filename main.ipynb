{
 "nbformat": 4,
 "nbformat_minor": 0,
 "metadata": {
  "kernel_info": {
   "name": "azureml_py38_tensorflow"
  },
  "kernelspec": {
   "display_name": "Python 3 (ipykernel)",
   "language": "python",
   "name": "python3"
  },
  "language_info": {
   "codemirror_mode": {
    "name": "ipython",
    "version": 3
   },
   "file_extension": ".py",
   "mimetype": "text/x-python",
   "name": "python",
   "nbconvert_exporter": "python",
   "pygments_lexer": "ipython3",
   "version": "3.9.7"
  },
  "microsoft": {
   "host": {
    "AzureML": {
     "notebookHasBeenCompleted": true
    }
   }
  },
  "nteract": {
   "version": "nteract-front-end@1.0.0"
  },
  "colab": {
   "name": "main (1).ipynb",
   "provenance": [],
   "collapsed_sections": []
  },
  "accelerator": "GPU"
 },
 "cells": [
  {
   "cell_type": "code",
   "metadata": {
    "gather": {
     "logged": 1635980540292
    },
    "jupyter": {
     "outputs_hidden": false,
     "source_hidden": false
    },
    "nteract": {
     "transient": {
      "deleting": false
     }
    },
    "id": "vo77MIgCU3bW"
   },
   "source": [
    "from __future__ import division\n",
    "from glob import glob\n",
    "import tensorflow as tf\n",
    "from tensorflow import keras\n",
    "import random\n",
    "import nrrd\n",
    "import numpy as np\n",
    "import time\n",
    "import helper_funcs\n",
    "from data_gen import CTA\n",
    "from tensorflow.python.client import device_lib\n",
    "from Networks import model_unet_2\n",
    "from helper_funcs import dice_coef_loss\n",
    "import skimage\n",
    "import patchify"
   ],
   "execution_count": 4,
   "outputs": []
  },
  {
   "cell_type": "markdown",
   "source": [
    "Config paths and mixed precision for reduced memory\n",
    "Load model"
   ],
   "metadata": {
    "collapsed": false
   }
  },
  {
   "cell_type": "code",
   "metadata": {
    "colab": {
     "base_uri": "https://localhost:8080/"
    },
    "id": "7ECBhMooU3bY",
    "outputId": "9e2cc2b4-34f9-4eca-9437-20698b5638a7"
   },
   "source": [
    "print(\"Num GPUs Available: \", len(tf.config.list_physical_devices('GPU')))\n",
    "device_lib.list_local_devices()\n",
    "\n",
    "training_dir = \"./training_data/train_cyl_grey_im/\"\n",
    "label_dir = \"./training_data/train_cyl_grey_la/\"\n",
    "data_list =glob('{}/*.nrrd'.format(training_dir))\n",
    "label_list=glob('{}/*.nrrd'.format(label_dir))\n",
    "\n",
    "policy = keras.mixed_precision.Policy('mixed_float16')\n",
    "keras.mixed_precision.set_global_policy(policy)\n",
    "\n",
    "keras.backend.clear_session()\n",
    "\n",
    "img_size = (512, 512, 40)\n",
    "model = model_unet_2.get_model(img_size)\n",
    "a=model.summary(line_length=150)\n",
    "\n"
   ],
   "execution_count": 6,
   "outputs": [
    {
     "name": "stdout",
     "output_type": "stream",
     "text": [
      "Num GPUs Available:  1\n",
      "(None, 512, 512, 40, 1)\n",
      "Model: \"model\"\n",
      "______________________________________________________________________________________________________________________________________________________\n",
      "Layer (type)                                     Output Shape                     Param #           Connected to                                      \n",
      "======================================================================================================================================================\n",
      "input_1 (InputLayer)                             [(None, 512, 512, 40, 1)]        0                                                                   \n",
      "______________________________________________________________________________________________________________________________________________________\n",
      "conv3d (Conv3D)                                  (None, 512, 512, 40, 16)         448               input_1[0][0]                                     \n",
      "______________________________________________________________________________________________________________________________________________________\n",
      "batch_normalization (BatchNormalization)         (None, 512, 512, 40, 16)         64                conv3d[0][0]                                      \n",
      "______________________________________________________________________________________________________________________________________________________\n",
      "activation (Activation)                          (None, 512, 512, 40, 16)         0                 batch_normalization[0][0]                         \n",
      "______________________________________________________________________________________________________________________________________________________\n",
      "conv3d_1 (Conv3D)                                (None, 512, 512, 40, 16)         6928              activation[0][0]                                  \n",
      "______________________________________________________________________________________________________________________________________________________\n",
      "batch_normalization_1 (BatchNormalization)       (None, 512, 512, 40, 16)         64                conv3d_1[0][0]                                    \n",
      "______________________________________________________________________________________________________________________________________________________\n",
      "activation_1 (Activation)                        (None, 512, 512, 40, 16)         0                 batch_normalization_1[0][0]                       \n",
      "______________________________________________________________________________________________________________________________________________________\n",
      "max_pooling3d (MaxPooling3D)                     (None, 256, 256, 20, 16)         0                 activation_1[0][0]                                \n",
      "______________________________________________________________________________________________________________________________________________________\n",
      "conv3d_2 (Conv3D)                                (None, 256, 256, 20, 16)         6928              max_pooling3d[0][0]                               \n",
      "______________________________________________________________________________________________________________________________________________________\n",
      "batch_normalization_2 (BatchNormalization)       (None, 256, 256, 20, 16)         64                conv3d_2[0][0]                                    \n",
      "______________________________________________________________________________________________________________________________________________________\n",
      "activation_2 (Activation)                        (None, 256, 256, 20, 16)         0                 batch_normalization_2[0][0]                       \n",
      "______________________________________________________________________________________________________________________________________________________\n",
      "conv3d_3 (Conv3D)                                (None, 256, 256, 20, 16)         6928              activation_2[0][0]                                \n",
      "______________________________________________________________________________________________________________________________________________________\n",
      "batch_normalization_3 (BatchNormalization)       (None, 256, 256, 20, 16)         64                conv3d_3[0][0]                                    \n",
      "______________________________________________________________________________________________________________________________________________________\n",
      "activation_3 (Activation)                        (None, 256, 256, 20, 16)         0                 batch_normalization_3[0][0]                       \n",
      "______________________________________________________________________________________________________________________________________________________\n",
      "max_pooling3d_1 (MaxPooling3D)                   (None, 128, 128, 10, 16)         0                 activation_3[0][0]                                \n",
      "______________________________________________________________________________________________________________________________________________________\n",
      "conv3d_4 (Conv3D)                                (None, 128, 128, 10, 16)         6928              max_pooling3d_1[0][0]                             \n",
      "______________________________________________________________________________________________________________________________________________________\n",
      "batch_normalization_4 (BatchNormalization)       (None, 128, 128, 10, 16)         64                conv3d_4[0][0]                                    \n",
      "______________________________________________________________________________________________________________________________________________________\n",
      "activation_4 (Activation)                        (None, 128, 128, 10, 16)         0                 batch_normalization_4[0][0]                       \n",
      "______________________________________________________________________________________________________________________________________________________\n",
      "conv3d_5 (Conv3D)                                (None, 128, 128, 10, 16)         6928              activation_4[0][0]                                \n",
      "______________________________________________________________________________________________________________________________________________________\n",
      "batch_normalization_5 (BatchNormalization)       (None, 128, 128, 10, 16)         64                conv3d_5[0][0]                                    \n",
      "______________________________________________________________________________________________________________________________________________________\n",
      "activation_5 (Activation)                        (None, 128, 128, 10, 16)         0                 batch_normalization_5[0][0]                       \n",
      "______________________________________________________________________________________________________________________________________________________\n",
      "max_pooling3d_2 (MaxPooling3D)                   (None, 64, 64, 5, 16)            0                 activation_5[0][0]                                \n",
      "______________________________________________________________________________________________________________________________________________________\n",
      "conv3d_6 (Conv3D)                                (None, 64, 64, 5, 16)            6928              max_pooling3d_2[0][0]                             \n",
      "______________________________________________________________________________________________________________________________________________________\n",
      "batch_normalization_6 (BatchNormalization)       (None, 64, 64, 5, 16)            64                conv3d_6[0][0]                                    \n",
      "______________________________________________________________________________________________________________________________________________________\n",
      "activation_6 (Activation)                        (None, 64, 64, 5, 16)            0                 batch_normalization_6[0][0]                       \n",
      "______________________________________________________________________________________________________________________________________________________\n",
      "conv3d_7 (Conv3D)                                (None, 64, 64, 5, 16)            6928              activation_6[0][0]                                \n",
      "______________________________________________________________________________________________________________________________________________________\n",
      "batch_normalization_7 (BatchNormalization)       (None, 64, 64, 5, 16)            64                conv3d_7[0][0]                                    \n",
      "______________________________________________________________________________________________________________________________________________________\n",
      "activation_7 (Activation)                        (None, 64, 64, 5, 16)            0                 batch_normalization_7[0][0]                       \n",
      "______________________________________________________________________________________________________________________________________________________\n",
      "up_sampling3d (UpSampling3D)                     (None, 128, 128, 10, 16)         0                 activation_7[0][0]                                \n",
      "______________________________________________________________________________________________________________________________________________________\n",
      "concatenate (Concatenate)                        (None, 128, 128, 10, 32)         0                 up_sampling3d[0][0]                               \n",
      "                                                                                                    activation_5[0][0]                                \n",
      "______________________________________________________________________________________________________________________________________________________\n",
      "conv3d_8 (Conv3D)                                (None, 128, 128, 10, 16)         13840             concatenate[0][0]                                 \n",
      "______________________________________________________________________________________________________________________________________________________\n",
      "batch_normalization_8 (BatchNormalization)       (None, 128, 128, 10, 16)         64                conv3d_8[0][0]                                    \n",
      "______________________________________________________________________________________________________________________________________________________\n",
      "activation_8 (Activation)                        (None, 128, 128, 10, 16)         0                 batch_normalization_8[0][0]                       \n",
      "______________________________________________________________________________________________________________________________________________________\n",
      "conv3d_9 (Conv3D)                                (None, 128, 128, 10, 16)         6928              activation_8[0][0]                                \n",
      "______________________________________________________________________________________________________________________________________________________\n",
      "batch_normalization_9 (BatchNormalization)       (None, 128, 128, 10, 16)         64                conv3d_9[0][0]                                    \n",
      "______________________________________________________________________________________________________________________________________________________\n",
      "activation_9 (Activation)                        (None, 128, 128, 10, 16)         0                 batch_normalization_9[0][0]                       \n",
      "______________________________________________________________________________________________________________________________________________________\n",
      "up_sampling3d_1 (UpSampling3D)                   (None, 256, 256, 20, 16)         0                 activation_9[0][0]                                \n",
      "______________________________________________________________________________________________________________________________________________________\n",
      "concatenate_1 (Concatenate)                      (None, 256, 256, 20, 32)         0                 up_sampling3d_1[0][0]                             \n",
      "                                                                                                    activation_3[0][0]                                \n",
      "______________________________________________________________________________________________________________________________________________________\n",
      "conv3d_10 (Conv3D)                               (None, 256, 256, 20, 16)         13840             concatenate_1[0][0]                               \n",
      "______________________________________________________________________________________________________________________________________________________\n",
      "batch_normalization_10 (BatchNormalization)      (None, 256, 256, 20, 16)         64                conv3d_10[0][0]                                   \n",
      "______________________________________________________________________________________________________________________________________________________\n",
      "activation_10 (Activation)                       (None, 256, 256, 20, 16)         0                 batch_normalization_10[0][0]                      \n",
      "______________________________________________________________________________________________________________________________________________________\n",
      "conv3d_11 (Conv3D)                               (None, 256, 256, 20, 16)         6928              activation_10[0][0]                               \n",
      "______________________________________________________________________________________________________________________________________________________\n",
      "batch_normalization_11 (BatchNormalization)      (None, 256, 256, 20, 16)         64                conv3d_11[0][0]                                   \n",
      "______________________________________________________________________________________________________________________________________________________\n",
      "activation_11 (Activation)                       (None, 256, 256, 20, 16)         0                 batch_normalization_11[0][0]                      \n",
      "______________________________________________________________________________________________________________________________________________________\n",
      "up_sampling3d_2 (UpSampling3D)                   (None, 512, 512, 40, 16)         0                 activation_11[0][0]                               \n",
      "______________________________________________________________________________________________________________________________________________________\n",
      "concatenate_2 (Concatenate)                      (None, 512, 512, 40, 32)         0                 up_sampling3d_2[0][0]                             \n",
      "                                                                                                    activation_1[0][0]                                \n",
      "______________________________________________________________________________________________________________________________________________________\n",
      "conv3d_12 (Conv3D)                               (None, 512, 512, 40, 16)         13840             concatenate_2[0][0]                               \n",
      "______________________________________________________________________________________________________________________________________________________\n",
      "batch_normalization_12 (BatchNormalization)      (None, 512, 512, 40, 16)         64                conv3d_12[0][0]                                   \n",
      "______________________________________________________________________________________________________________________________________________________\n",
      "activation_12 (Activation)                       (None, 512, 512, 40, 16)         0                 batch_normalization_12[0][0]                      \n",
      "______________________________________________________________________________________________________________________________________________________\n",
      "conv3d_13 (Conv3D)                               (None, 512, 512, 40, 16)         6928              activation_12[0][0]                               \n",
      "______________________________________________________________________________________________________________________________________________________\n",
      "batch_normalization_13 (BatchNormalization)      (None, 512, 512, 40, 16)         64                conv3d_13[0][0]                                   \n",
      "______________________________________________________________________________________________________________________________________________________\n",
      "activation_13 (Activation)                       (None, 512, 512, 40, 16)         0                 batch_normalization_13[0][0]                      \n",
      "______________________________________________________________________________________________________________________________________________________\n",
      "conv3d_14 (Conv3D)                               (None, 512, 512, 40, 1)          17                activation_13[0][0]                               \n",
      "______________________________________________________________________________________________________________________________________________________\n",
      "activation_14 (Activation)                       (None, 512, 512, 40, 1)          0                 conv3d_14[0][0]                                   \n",
      "======================================================================================================================================================\n",
      "Total params: 112,161\n",
      "Trainable params: 111,713\n",
      "Non-trainable params: 448\n",
      "______________________________________________________________________________________________________________________________________________________\n"
     ]
    }
   ]
  },
  {
   "cell_type": "markdown",
   "source": [
    "\n"
   ],
   "metadata": {
    "collapsed": false,
    "pycharm": {
     "name": "#%% md\n"
    }
   }
  },
  {
   "cell_type": "markdown",
   "source": [
    "Split data into training and validation set\n",
    "Initialise sequence"
   ],
   "metadata": {
    "collapsed": false
   }
  },
  {
   "cell_type": "code",
   "metadata": {
    "gather": {
     "logged": 1633709498961
    },
    "jupyter": {
     "outputs_hidden": false,
     "source_hidden": false
    },
    "nteract": {
     "transient": {
      "deleting": false
     }
    },
    "scrolled": true,
    "id": "UJWnfZpZU3bb"
   },
   "source": [
    "val_samples = int(np.floor(len(data_list)*0.2))\n",
    "random.Random(7331).shuffle(data_list)\n",
    "random.Random(7331).shuffle(label_list)\n",
    "\n",
    "train_img_paths = data_list[:-val_samples]\n",
    "train_lab_paths = label_list[:-val_samples]\n",
    "\n",
    "val_img_paths = data_list[-val_samples:]\n",
    "val_lab_paths = label_list[-val_samples:]\n",
    "\n",
    "train_gen = CTA(train_img_paths, train_lab_paths,1)\n",
    "valid_gen = CTA(val_img_paths, val_lab_paths,1)"
   ],
   "execution_count": 7,
   "outputs": []
  },
  {
   "cell_type": "markdown",
   "source": [
    "Enable dynamic memory allocation"
   ],
   "metadata": {
    "collapsed": false
   }
  },
  {
   "cell_type": "code",
   "source": [
    "from tensorflow.compat.v1 import ConfigProto\n",
    "from tensorflow.compat.v1 import InteractiveSession\n",
    "\n",
    "config = ConfigProto()\n",
    "config.gpu_options.per_process_gpu_memory_fraction = 0.8\n",
    "config.gpu_options.allow_growth = True\n",
    "session = InteractiveSession(config=config)"
   ],
   "metadata": {
    "id": "0zcH4AMACF9-"
   },
   "execution_count": 8,
   "outputs": []
  },
  {
   "cell_type": "markdown",
   "source": [
    "Compile model\n",
    "Add callback to check loss inside of epoch\n",
    "train model"
   ],
   "metadata": {
    "collapsed": false
   }
  },
  {
   "cell_type": "code",
   "metadata": {
    "jupyter": {
     "outputs_hidden": false,
     "source_hidden": false
    },
    "nteract": {
     "transient": {
      "deleting": false
     }
    },
    "scrolled": false,
    "colab": {
     "base_uri": "https://localhost:8080/"
    },
    "id": "FxFe6hDqU3bc",
    "outputId": "376caa2e-5f02-4a0f-dc64-f01c4ba267f8"
   },
   "source": [
    "model.compile(optimizer=tf.keras.optimizers.Adam(learning_rate=0.001, epsilon=0.01), loss=[dice_coef_loss], metrics=[tf.keras.losses.BinaryCrossentropy()])\n",
    "epochs = 200\n",
    "\n",
    "class BatchHistories(keras.callbacks.Callback):\n",
    "\n",
    "    def on_train_begin(self,logs={}):\n",
    "        self.losses = []\n",
    "\n",
    "    def on_batch_end(self, batch, logs={}):\n",
    "        self.losses.append(logs.get('loss'))\n",
    "batch_loss = BatchHistories()\n",
    "\n",
    "callbacks = [\n",
    "    keras.callbacks.EarlyStopping(patience=10, verbose=1),\n",
    "    keras.callbacks.ReduceLROnPlateau(factor=0.1, patience=5, min_lr=0.000001, verbose=1),\n",
    "    keras.callbacks.ModelCheckpoint(\"unet2_toy_train_z40_grey.h5\", verbose=1, save_best_only=True),\n",
    "    batch_loss\n",
    "]\n",
    "start = time.time()\n",
    "history = model.fit(train_gen, epochs=epochs, validation_data=valid_gen, callbacks=callbacks,shuffle=True)\n",
    "end = time.time()\n",
    "print('Training time: ', end-start)"
   ],
   "execution_count": 10,
   "outputs": [
    {
     "name": "stdout",
     "output_type": "stream",
     "text": [
      "Epoch 1/200\n",
      "806/806 [==============================] - 1018s 1s/step - loss: 0.0517 - binary_crossentropy: 0.3114 - val_loss: 0.0180 - val_binary_crossentropy: 0.1759\n",
      "\n",
      "Epoch 00001: val_loss improved from inf to 0.01799, saving model to unet2_toy_train_z40_grey.h5\n",
      "Epoch 2/200\n",
      "806/806 [==============================] - 929s 1s/step - loss: 0.0087 - binary_crossentropy: 0.0989 - val_loss: 0.0015 - val_binary_crossentropy: 0.0380\n",
      "\n",
      "Epoch 00002: val_loss improved from 0.01799 to 0.00148, saving model to unet2_toy_train_z40_grey.h5\n",
      "Epoch 3/200\n",
      "806/806 [==============================] - 926s 1s/step - loss: 8.8603e-04 - binary_crossentropy: 0.0286 - val_loss: 6.1031e-04 - val_binary_crossentropy: 0.0236\n",
      "\n",
      "Epoch 00003: val_loss improved from 0.00148 to 0.00061, saving model to unet2_toy_train_z40_grey.h5\n",
      "Epoch 4/200\n",
      "806/806 [==============================] - 917s 1s/step - loss: 4.5929e-04 - binary_crossentropy: 0.0201 - val_loss: 3.6143e-04 - val_binary_crossentropy: 0.0177\n",
      "\n",
      "Epoch 00004: val_loss improved from 0.00061 to 0.00036, saving model to unet2_toy_train_z40_grey.h5\n",
      "Epoch 5/200\n",
      "806/806 [==============================] - 919s 1s/step - loss: 2.9756e-04 - binary_crossentropy: 0.0157 - val_loss: 2.4403e-04 - val_binary_crossentropy: 0.0142\n",
      "\n",
      "Epoch 00005: val_loss improved from 0.00036 to 0.00024, saving model to unet2_toy_train_z40_grey.h5\n",
      "Epoch 6/200\n",
      "806/806 [==============================] - 936s 1s/step - loss: 2.1585e-04 - binary_crossentropy: 0.0131 - val_loss: 1.8539e-04 - val_binary_crossentropy: 0.0121\n",
      "\n",
      "Epoch 00006: val_loss improved from 0.00024 to 0.00019, saving model to unet2_toy_train_z40_grey.h5\n",
      "Epoch 7/200\n",
      "806/806 [==============================] - 923s 1s/step - loss: 1.6804e-04 - binary_crossentropy: 0.0112 - val_loss: 1.4564e-04 - val_binary_crossentropy: 0.0104\n",
      "\n",
      "Epoch 00007: val_loss improved from 0.00019 to 0.00015, saving model to unet2_toy_train_z40_grey.h5\n",
      "Epoch 8/200\n",
      "806/806 [==============================] - 936s 1s/step - loss: 1.3770e-04 - binary_crossentropy: 0.0099 - val_loss: 1.2105e-04 - val_binary_crossentropy: 0.0093\n",
      "\n",
      "Epoch 00008: val_loss improved from 0.00015 to 0.00012, saving model to unet2_toy_train_z40_grey.h5\n",
      "Epoch 9/200\n",
      "806/806 [==============================] - 946s 1s/step - loss: 1.1776e-04 - binary_crossentropy: 0.0089 - val_loss: 1.0498e-04 - val_binary_crossentropy: 0.0084\n",
      "\n",
      "Epoch 00009: val_loss improved from 0.00012 to 0.00010, saving model to unet2_toy_train_z40_grey.h5\n",
      "Epoch 10/200\n",
      "806/806 [==============================] - 933s 1s/step - loss: 1.0360e-04 - binary_crossentropy: 0.0082 - val_loss: 9.2181e-05 - val_binary_crossentropy: 0.0077\n",
      "\n",
      "Epoch 00010: val_loss improved from 0.00010 to 0.00009, saving model to unet2_toy_train_z40_grey.h5\n",
      "Epoch 11/200\n",
      "806/806 [==============================] - 931s 1s/step - loss: 9.3195e-05 - binary_crossentropy: 0.0076 - val_loss: 8.5040e-05 - val_binary_crossentropy: 0.0073\n",
      "\n",
      "Epoch 00011: val_loss improved from 0.00009 to 0.00009, saving model to unet2_toy_train_z40_grey.h5\n",
      "Epoch 12/200\n",
      "806/806 [==============================] - 1147s 1s/step - loss: 8.4996e-05 - binary_crossentropy: 0.0071 - val_loss: 7.7253e-05 - val_binary_crossentropy: 0.0068\n",
      "\n",
      "Epoch 00012: val_loss improved from 0.00009 to 0.00008, saving model to unet2_toy_train_z40_grey.h5\n",
      "Epoch 13/200\n",
      "806/806 [==============================] - 1521s 2s/step - loss: 7.8413e-05 - binary_crossentropy: 0.0067 - val_loss: 6.9975e-05 - val_binary_crossentropy: 0.0064\n",
      "\n",
      "Epoch 00013: ReduceLROnPlateau reducing learning rate to 0.00010000000474974513.\n",
      "\n",
      "Epoch 00013: val_loss improved from 0.00008 to 0.00007, saving model to unet2_toy_train_z40_grey.h5\n",
      "Epoch 14/200\n",
      "806/806 [==============================] - 1539s 2s/step - loss: 7.5205e-05 - binary_crossentropy: 0.0065 - val_loss: 7.0057e-05 - val_binary_crossentropy: 0.0064\n",
      "\n",
      "Epoch 00014: val_loss did not improve from 0.00007\n",
      "Epoch 15/200\n",
      "806/806 [==============================] - 1539s 2s/step - loss: 7.4557e-05 - binary_crossentropy: 0.0064 - val_loss: 6.9587e-05 - val_binary_crossentropy: 0.0064\n",
      "\n",
      "Epoch 00015: val_loss improved from 0.00007 to 0.00007, saving model to unet2_toy_train_z40_grey.h5\n",
      "Epoch 16/200\n",
      "806/806 [==============================] - 1539s 2s/step - loss: 7.4087e-05 - binary_crossentropy: 0.0064 - val_loss: 6.9165e-05 - val_binary_crossentropy: 0.0063\n",
      "\n",
      "Epoch 00016: val_loss improved from 0.00007 to 0.00007, saving model to unet2_toy_train_z40_grey.h5\n",
      "Epoch 17/200\n",
      "806/806 [==============================] - 1541s 2s/step - loss: 7.3623e-05 - binary_crossentropy: 0.0064 - val_loss: 6.8748e-05 - val_binary_crossentropy: 0.0063\n",
      "\n",
      "Epoch 00017: val_loss improved from 0.00007 to 0.00007, saving model to unet2_toy_train_z40_grey.h5\n",
      "Epoch 18/200\n",
      "806/806 [==============================] - 1520s 2s/step - loss: 7.3153e-05 - binary_crossentropy: 0.0063 - val_loss: 6.8202e-05 - val_binary_crossentropy: 0.0063\n",
      "\n",
      "Epoch 00018: ReduceLROnPlateau reducing learning rate to 1.0000000474974514e-05.\n",
      "\n",
      "Epoch 00018: val_loss improved from 0.00007 to 0.00007, saving model to unet2_toy_train_z40_grey.h5\n",
      "Epoch 19/200\n",
      "806/806 [==============================] - 1516s 2s/step - loss: 7.2897e-05 - binary_crossentropy: 0.0063 - val_loss: 6.8222e-05 - val_binary_crossentropy: 0.0063\n",
      "\n",
      "Epoch 00019: val_loss did not improve from 0.00007\n",
      "Epoch 20/200\n",
      "806/806 [==============================] - 1539s 2s/step - loss: 7.2872e-05 - binary_crossentropy: 0.0063 - val_loss: 6.8237e-05 - val_binary_crossentropy: 0.0063\n",
      "\n",
      "Epoch 00020: val_loss did not improve from 0.00007\n",
      "Epoch 21/200\n",
      "806/806 [==============================] - 1539s 2s/step - loss: 7.2826e-05 - binary_crossentropy: 0.0063 - val_loss: 6.8113e-05 - val_binary_crossentropy: 0.0063\n",
      "\n",
      "Epoch 00021: val_loss improved from 0.00007 to 0.00007, saving model to unet2_toy_train_z40_grey.h5\n",
      "Epoch 22/200\n",
      "806/806 [==============================] - 1540s 2s/step - loss: 7.2795e-05 - binary_crossentropy: 0.0063 - val_loss: 6.8170e-05 - val_binary_crossentropy: 0.0063\n",
      "\n",
      "Epoch 00022: val_loss did not improve from 0.00007\n",
      "Epoch 23/200\n",
      "806/806 [==============================] - 1538s 2s/step - loss: 7.2773e-05 - binary_crossentropy: 0.0063 - val_loss: 6.8118e-05 - val_binary_crossentropy: 0.0063\n",
      "\n",
      "Epoch 00023: ReduceLROnPlateau reducing learning rate to 1.0000000656873453e-06.\n",
      "\n",
      "Epoch 00023: val_loss did not improve from 0.00007\n",
      "Epoch 24/200\n",
      "806/806 [==============================] - 1537s 2s/step - loss: 7.2763e-05 - binary_crossentropy: 0.0063 - val_loss: 6.8190e-05 - val_binary_crossentropy: 0.0063\n",
      "\n",
      "Epoch 00024: val_loss did not improve from 0.00007\n",
      "Epoch 25/200\n",
      "806/806 [==============================] - 1539s 2s/step - loss: 7.2763e-05 - binary_crossentropy: 0.0063 - val_loss: 6.8110e-05 - val_binary_crossentropy: 0.0063\n",
      "\n",
      "Epoch 00025: val_loss improved from 0.00007 to 0.00007, saving model to unet2_toy_train_z40_grey.h5\n",
      "Epoch 26/200\n",
      "806/806 [==============================] - 1538s 2s/step - loss: 7.2762e-05 - binary_crossentropy: 0.0063 - val_loss: 6.8181e-05 - val_binary_crossentropy: 0.0063\n",
      "\n",
      "Epoch 00026: val_loss did not improve from 0.00007\n",
      "Epoch 27/200\n",
      "806/806 [==============================] - 1539s 2s/step - loss: 7.2762e-05 - binary_crossentropy: 0.0063 - val_loss: 6.8105e-05 - val_binary_crossentropy: 0.0063\n",
      "\n",
      "Epoch 00027: val_loss improved from 0.00007 to 0.00007, saving model to unet2_toy_train_z40_grey.h5\n",
      "Epoch 28/200\n",
      "806/806 [==============================] - 1537s 2s/step - loss: 7.2762e-05 - binary_crossentropy: 0.0063 - val_loss: 6.8070e-05 - val_binary_crossentropy: 0.0063\n",
      "\n",
      "Epoch 00028: ReduceLROnPlateau reducing learning rate to 1e-06.\n",
      "\n",
      "Epoch 00028: val_loss improved from 0.00007 to 0.00007, saving model to unet2_toy_train_z40_grey.h5\n",
      "Epoch 29/200\n",
      "806/806 [==============================] - 1557s 2s/step - loss: 7.2762e-05 - binary_crossentropy: 0.0063 - val_loss: 6.8116e-05 - val_binary_crossentropy: 0.0063\n",
      "\n",
      "Epoch 00029: val_loss did not improve from 0.00007\n",
      "Epoch 30/200\n",
      "806/806 [==============================] - 1514s 2s/step - loss: 7.2761e-05 - binary_crossentropy: 0.0063 - val_loss: 6.8149e-05 - val_binary_crossentropy: 0.0063\n",
      "\n",
      "Epoch 00030: val_loss did not improve from 0.00007\n",
      "Epoch 31/200\n",
      "806/806 [==============================] - 1538s 2s/step - loss: 7.2761e-05 - binary_crossentropy: 0.0063 - val_loss: 6.8158e-05 - val_binary_crossentropy: 0.0063\n",
      "\n",
      "Epoch 00031: val_loss did not improve from 0.00007\n",
      "Epoch 32/200\n",
      "806/806 [==============================] - 1537s 2s/step - loss: 7.2762e-05 - binary_crossentropy: 0.0063 - val_loss: 6.8214e-05 - val_binary_crossentropy: 0.0063\n",
      "\n",
      "Epoch 00032: val_loss did not improve from 0.00007\n",
      "Epoch 33/200\n",
      "806/806 [==============================] - 1540s 2s/step - loss: 7.2762e-05 - binary_crossentropy: 0.0063 - val_loss: 6.8165e-05 - val_binary_crossentropy: 0.0063\n",
      "\n",
      "Epoch 00033: val_loss did not improve from 0.00007\n",
      "Epoch 34/200\n",
      "806/806 [==============================] - 1539s 2s/step - loss: 7.2762e-05 - binary_crossentropy: 0.0063 - val_loss: 6.8206e-05 - val_binary_crossentropy: 0.0063\n",
      "\n",
      "Epoch 00034: val_loss did not improve from 0.00007\n",
      "Epoch 35/200\n",
      "806/806 [==============================] - 1538s 2s/step - loss: 7.2762e-05 - binary_crossentropy: 0.0063 - val_loss: 6.8172e-05 - val_binary_crossentropy: 0.0063\n",
      "\n",
      "Epoch 00035: val_loss did not improve from 0.00007\n",
      "Epoch 36/200\n",
      "806/806 [==============================] - 1536s 2s/step - loss: 7.2762e-05 - binary_crossentropy: 0.0063 - val_loss: 6.8110e-05 - val_binary_crossentropy: 0.0063\n",
      "\n",
      "Epoch 00036: val_loss did not improve from 0.00007\n",
      "Epoch 37/200\n",
      "806/806 [==============================] - 1538s 2s/step - loss: 7.2761e-05 - binary_crossentropy: 0.0063 - val_loss: 6.8187e-05 - val_binary_crossentropy: 0.0063\n",
      "\n",
      "Epoch 00037: val_loss did not improve from 0.00007\n",
      "Epoch 38/200\n",
      "806/806 [==============================] - 1540s 2s/step - loss: 7.2761e-05 - binary_crossentropy: 0.0063 - val_loss: 6.8149e-05 - val_binary_crossentropy: 0.0063\n",
      "\n",
      "Epoch 00038: val_loss did not improve from 0.00007\n",
      "Epoch 00038: early stopping\n",
      "Training time:  51403.73484945297\n"
     ]
    }
   ]
  },
  {
   "cell_type": "code",
   "execution_count": 7,
   "outputs": [
    {
     "name": "stdout",
     "output_type": "stream",
     "text": [
      "INFO:tensorflow:Assets written to: Model_pretrained_cyl_z40_new\\assets\n"
     ]
    }
   ],
   "source": [
    "model.save('Model_pretrained_cyl_z40_new')\n",
    "model.save('Model_pretrained_cyl_z40_new.h5')"
   ],
   "metadata": {
    "collapsed": false,
    "pycharm": {
     "name": "#%%\n"
    }
   }
  },
  {
   "cell_type": "code",
   "execution_count": 12,
   "outputs": [
    {
     "data": {
      "text/plain": "Text(0, 0.5, 'Dice loss')"
     },
     "execution_count": 12,
     "metadata": {},
     "output_type": "execute_result"
    },
    {
     "data": {
      "text/plain": "<Figure size 432x288 with 1 Axes>",
      "image/png": "[encoded data removed]"
     },
     "metadata": {
      "needs_background": "light"
     },
     "output_type": "display_data"
    }
   ],
   "source": [
    "import matplotlib.pyplot as plt\n",
    "plt.figure()\n",
    "plt.plot(history.history['val_loss'], label='Validation Dice Loss')\n",
    "plt.plot(history.history['loss'], label='Train Dice Loss')\n",
    "#plt.plot(batch_loss.losses)\n",
    "plt.legend()\n",
    "plt.xlabel('Iterations')\n",
    "plt.ylabel('Dice loss')"
   ],
   "metadata": {
    "collapsed": false,
    "pycharm": {
     "name": "#%%\n"
    }
   }
  },
  {
   "cell_type": "markdown",
   "source": [
    "Transfer learning begin"
   ],
   "metadata": {
    "collapsed": false
   }
  },
  {
   "cell_type": "code",
   "execution_count": 13,
   "outputs": [],
   "source": [
    "training_dir = \"./training_data/train_patch_z40_dnep_im\"\n",
    "label_dir = \"./training_data/train_patch_z40_dnep_la\"\n",
    "data_list =glob('{}/*.nrrd'.format(training_dir))\n",
    "label_list=glob('{}/*.nrrd'.format(label_dir))\n",
    "val_samples = int(np.floor(len(data_list)*0.2))\n",
    "random.Random(7331).shuffle(data_list)\n",
    "random.Random(7331).shuffle(label_list)\n",
    "\n",
    "train_img_paths = data_list[:-val_samples]\n",
    "train_lab_paths = label_list[:-val_samples]\n",
    "\n",
    "val_img_paths = data_list[-val_samples:]\n",
    "val_lab_paths = label_list[-val_samples:]\n",
    "\n",
    "train_gen = CTA(train_img_paths, train_lab_paths,1)\n",
    "valid_gen = CTA(val_img_paths, val_lab_paths,1)"
   ],
   "metadata": {
    "collapsed": false,
    "pycharm": {
     "name": "#%%\n"
    }
   }
  },
  {
   "cell_type": "markdown",
   "source": [
    "Load model for transferlearning\n",
    "Freeze down path\n",
    "compile model"
   ],
   "metadata": {
    "collapsed": false
   }
  },
  {
   "cell_type": "code",
   "execution_count": 34,
   "outputs": [],
   "source": [
    "model_pret = keras.models.load_model('unet2_toy_train_z40_grey.h5', compile=False)\n",
    "for layer in model_pret.layers[:23]:\n",
    "\tlayer.trainable = False\n",
    "model_pret.compile(optimizer=tf.keras.optimizers.Adam(learning_rate=0.001, epsilon=0.01), loss=[dice_coef_loss], metrics=[tf.keras.losses.BinaryCrossentropy()])\n",
    "epochs = 200"
   ],
   "metadata": {
    "collapsed": false,
    "pycharm": {
     "name": "#%%\n"
    }
   }
  },
  {
   "cell_type": "markdown",
   "source": [
    "Transfer learning"
   ],
   "metadata": {
    "collapsed": false
   }
  },
  {
   "cell_type": "code",
   "execution_count": 35,
   "outputs": [
    {
     "name": "stdout",
     "output_type": "stream",
     "text": [
      "Epoch 1/200\n",
      "372/372 [==============================] - 414s 1s/step - loss: 0.0025 - binary_crossentropy: 0.0313 - val_loss: 0.0019 - val_binary_crossentropy: 0.0267\n",
      "\n",
      "Epoch 00001: val_loss improved from inf to 0.00195, saving model to unet2_train_z40_grey_normal_lr.h5\n",
      "Epoch 2/200\n",
      "372/372 [==============================] - 388s 1s/step - loss: 0.0020 - binary_crossentropy: 0.0272 - val_loss: 0.0019 - val_binary_crossentropy: 0.0249\n",
      "\n",
      "Epoch 00002: val_loss improved from 0.00195 to 0.00186, saving model to unet2_train_z40_grey_normal_lr.h5\n",
      "Epoch 3/200\n",
      "372/372 [==============================] - 386s 1s/step - loss: 0.0019 - binary_crossentropy: 0.0254 - val_loss: 0.0018 - val_binary_crossentropy: 0.0237\n",
      "\n",
      "Epoch 00003: val_loss improved from 0.00186 to 0.00182, saving model to unet2_train_z40_grey_normal_lr.h5\n",
      "Epoch 4/200\n",
      "372/372 [==============================] - 388s 1s/step - loss: 0.0019 - binary_crossentropy: 0.0242 - val_loss: 0.0018 - val_binary_crossentropy: 0.0226\n",
      "\n",
      "Epoch 00004: val_loss improved from 0.00182 to 0.00179, saving model to unet2_train_z40_grey_normal_lr.h5\n",
      "Epoch 5/200\n",
      "372/372 [==============================] - 388s 1s/step - loss: 0.0019 - binary_crossentropy: 0.0235 - val_loss: 0.0018 - val_binary_crossentropy: 0.0218\n",
      "\n",
      "Epoch 00005: val_loss improved from 0.00179 to 0.00178, saving model to unet2_train_z40_grey_normal_lr.h5\n",
      "Epoch 6/200\n",
      "372/372 [==============================] - 387s 1s/step - loss: 0.0019 - binary_crossentropy: 0.0227 - val_loss: 0.0018 - val_binary_crossentropy: 0.0212\n",
      "\n",
      "Epoch 00006: val_loss improved from 0.00178 to 0.00176, saving model to unet2_train_z40_grey_normal_lr.h5\n",
      "Epoch 7/200\n",
      "372/372 [==============================] - 388s 1s/step - loss: 0.0018 - binary_crossentropy: 0.0221 - val_loss: 0.0018 - val_binary_crossentropy: 0.0209\n",
      "\n",
      "Epoch 00007: val_loss improved from 0.00176 to 0.00175, saving model to unet2_train_z40_grey_normal_lr.h5\n",
      "Epoch 8/200\n",
      "372/372 [==============================] - 388s 1s/step - loss: 0.0018 - binary_crossentropy: 0.0218 - val_loss: 0.0017 - val_binary_crossentropy: 0.0205\n",
      "\n",
      "Epoch 00008: val_loss improved from 0.00175 to 0.00175, saving model to unet2_train_z40_grey_normal_lr.h5\n",
      "Epoch 9/200\n",
      "372/372 [==============================] - 388s 1s/step - loss: 0.0018 - binary_crossentropy: 0.0214 - val_loss: 0.0017 - val_binary_crossentropy: 0.0201\n",
      "\n",
      "Epoch 00009: val_loss improved from 0.00175 to 0.00174, saving model to unet2_train_z40_grey_normal_lr.h5\n",
      "Epoch 10/200\n",
      "372/372 [==============================] - 392s 1s/step - loss: 0.0018 - binary_crossentropy: 0.0211 - val_loss: 0.0017 - val_binary_crossentropy: 0.0199\n",
      "\n",
      "Epoch 00010: val_loss improved from 0.00174 to 0.00174, saving model to unet2_train_z40_grey_normal_lr.h5\n",
      "Epoch 11/200\n",
      "372/372 [==============================] - 379s 1s/step - loss: 0.0018 - binary_crossentropy: 0.0208 - val_loss: 0.0017 - val_binary_crossentropy: 0.0198\n",
      "\n",
      "Epoch 00011: val_loss improved from 0.00174 to 0.00174, saving model to unet2_train_z40_grey_normal_lr.h5\n",
      "Epoch 12/200\n",
      "372/372 [==============================] - 380s 1s/step - loss: 0.0018 - binary_crossentropy: 0.0206 - val_loss: 0.0018 - val_binary_crossentropy: 0.0196\n",
      "\n",
      "Epoch 00012: val_loss did not improve from 0.00174\n",
      "Epoch 13/200\n",
      "372/372 [==============================] - 380s 1s/step - loss: 0.0018 - binary_crossentropy: 0.0203 - val_loss: 0.0018 - val_binary_crossentropy: 0.0193\n",
      "\n",
      "Epoch 00013: ReduceLROnPlateau reducing learning rate to 0.00010000000474974513.\n",
      "\n",
      "Epoch 00013: val_loss did not improve from 0.00174\n",
      "Epoch 14/200\n",
      "372/372 [==============================] - 380s 1s/step - loss: 0.0018 - binary_crossentropy: 0.0202 - val_loss: 0.0017 - val_binary_crossentropy: 0.0192\n",
      "\n",
      "Epoch 00014: val_loss did not improve from 0.00174\n",
      "Epoch 15/200\n",
      "372/372 [==============================] - 388s 1s/step - loss: 0.0018 - binary_crossentropy: 0.0201 - val_loss: 0.0017 - val_binary_crossentropy: 0.0192\n",
      "\n",
      "Epoch 00015: val_loss did not improve from 0.00174\n",
      "Epoch 16/200\n",
      "372/372 [==============================] - 487s 1s/step - loss: 0.0018 - binary_crossentropy: 0.0201 - val_loss: 0.0017 - val_binary_crossentropy: 0.0193\n",
      "\n",
      "Epoch 00016: val_loss did not improve from 0.00174\n",
      "Epoch 17/200\n",
      "372/372 [==============================] - 585s 2s/step - loss: 0.0018 - binary_crossentropy: 0.0201 - val_loss: 0.0018 - val_binary_crossentropy: 0.0193\n",
      "\n",
      "Epoch 00017: val_loss did not improve from 0.00174\n",
      "Epoch 18/200\n",
      "372/372 [==============================] - 550s 1s/step - loss: 0.0018 - binary_crossentropy: 0.0201 - val_loss: 0.0017 - val_binary_crossentropy: 0.0192\n",
      "\n",
      "Epoch 00018: val_loss did not improve from 0.00174\n",
      "Epoch 19/200\n",
      "372/372 [==============================] - 499s 1s/step - loss: 0.0018 - binary_crossentropy: 0.0201 - val_loss: 0.0017 - val_binary_crossentropy: 0.0192\n",
      "\n",
      "Epoch 00019: val_loss did not improve from 0.00174\n",
      "Epoch 20/200\n",
      "372/372 [==============================] - 501s 1s/step - loss: 0.0018 - binary_crossentropy: 0.0201 - val_loss: 0.0017 - val_binary_crossentropy: 0.0192\n",
      "\n",
      "Epoch 00020: val_loss did not improve from 0.00174\n",
      "Epoch 21/200\n",
      "372/372 [==============================] - 468s 1s/step - loss: 0.0018 - binary_crossentropy: 0.0200 - val_loss: 0.0017 - val_binary_crossentropy: 0.0191\n",
      "\n",
      "Epoch 00021: val_loss did not improve from 0.00174\n",
      "Epoch 22/200\n",
      "372/372 [==============================] - 464s 1s/step - loss: 0.0018 - binary_crossentropy: 0.0200 - val_loss: 0.0018 - val_binary_crossentropy: 0.0193\n",
      "\n",
      "Epoch 00022: val_loss did not improve from 0.00174\n",
      "Epoch 23/200\n",
      "372/372 [==============================] - 451s 1s/step - loss: 0.0018 - binary_crossentropy: 0.0200 - val_loss: 0.0017 - val_binary_crossentropy: 0.0191\n",
      "\n",
      "Epoch 00023: ReduceLROnPlateau reducing learning rate to 1.0000000474974514e-05.\n",
      "\n",
      "Epoch 00023: val_loss did not improve from 0.00174\n",
      "Epoch 24/200\n",
      "372/372 [==============================] - 448s 1s/step - loss: 0.0018 - binary_crossentropy: 0.0200 - val_loss: 0.0018 - val_binary_crossentropy: 0.0193\n",
      "\n",
      "Epoch 00024: val_loss did not improve from 0.00174\n",
      "Epoch 25/200\n",
      "372/372 [==============================] - 450s 1s/step - loss: 0.0018 - binary_crossentropy: 0.0200 - val_loss: 0.0017 - val_binary_crossentropy: 0.0191\n",
      "\n",
      "Epoch 00025: val_loss improved from 0.00174 to 0.00174, saving model to unet2_train_z40_grey_normal_lr.h5\n",
      "Epoch 26/200\n",
      "372/372 [==============================] - 448s 1s/step - loss: 0.0018 - binary_crossentropy: 0.0200 - val_loss: 0.0017 - val_binary_crossentropy: 0.0191\n",
      "\n",
      "Epoch 00026: val_loss did not improve from 0.00174\n",
      "Epoch 27/200\n",
      "372/372 [==============================] - 450s 1s/step - loss: 0.0018 - binary_crossentropy: 0.0200 - val_loss: 0.0017 - val_binary_crossentropy: 0.0191\n",
      "\n",
      "Epoch 00027: val_loss did not improve from 0.00174\n",
      "Epoch 28/200\n",
      "372/372 [==============================] - 440s 1s/step - loss: 0.0018 - binary_crossentropy: 0.0200 - val_loss: 0.0017 - val_binary_crossentropy: 0.0191\n",
      "\n",
      "Epoch 00028: val_loss did not improve from 0.00174\n",
      "Epoch 29/200\n",
      "372/372 [==============================] - 433s 1s/step - loss: 0.0018 - binary_crossentropy: 0.0200 - val_loss: 0.0017 - val_binary_crossentropy: 0.0191\n",
      "\n",
      "Epoch 00029: val_loss did not improve from 0.00174\n",
      "Epoch 30/200\n",
      "372/372 [==============================] - 416s 1s/step - loss: 0.0018 - binary_crossentropy: 0.0200 - val_loss: 0.0018 - val_binary_crossentropy: 0.0192\n",
      "\n",
      "Epoch 00030: val_loss did not improve from 0.00174\n",
      "Epoch 31/200\n",
      "372/372 [==============================] - 407s 1s/step - loss: 0.0018 - binary_crossentropy: 0.0200 - val_loss: 0.0018 - val_binary_crossentropy: 0.0192\n",
      "\n",
      "Epoch 00031: val_loss did not improve from 0.00174\n",
      "Epoch 32/200\n",
      "372/372 [==============================] - 404s 1s/step - loss: 0.0018 - binary_crossentropy: 0.0200 - val_loss: 0.0018 - val_binary_crossentropy: 0.0192\n",
      "\n",
      "Epoch 00032: val_loss did not improve from 0.00174\n",
      "Epoch 33/200\n",
      "372/372 [==============================] - 398s 1s/step - loss: 0.0018 - binary_crossentropy: 0.0200 - val_loss: 0.0018 - val_binary_crossentropy: 0.0192\n",
      "\n",
      "Epoch 00033: ReduceLROnPlateau reducing learning rate to 1.0000000656873453e-06.\n",
      "\n",
      "Epoch 00033: val_loss did not improve from 0.00174\n",
      "Epoch 34/200\n",
      "372/372 [==============================] - 396s 1s/step - loss: 0.0018 - binary_crossentropy: 0.0200 - val_loss: 0.0017 - val_binary_crossentropy: 0.0191\n",
      "\n",
      "Epoch 00034: val_loss did not improve from 0.00174\n",
      "Epoch 35/200\n",
      "372/372 [==============================] - 394s 1s/step - loss: 0.0018 - binary_crossentropy: 0.0200 - val_loss: 0.0018 - val_binary_crossentropy: 0.0192\n",
      "\n",
      "Epoch 00035: val_loss did not improve from 0.00174\n",
      "Epoch 36/200\n",
      "372/372 [==============================] - 395s 1s/step - loss: 0.0018 - binary_crossentropy: 0.0200 - val_loss: 0.0018 - val_binary_crossentropy: 0.0192\n",
      "\n",
      "Epoch 00036: val_loss did not improve from 0.00174\n",
      "Epoch 37/200\n",
      "372/372 [==============================] - 394s 1s/step - loss: 0.0018 - binary_crossentropy: 0.0200 - val_loss: 0.0018 - val_binary_crossentropy: 0.0193\n",
      "\n",
      "Epoch 00037: val_loss did not improve from 0.00174\n",
      "Epoch 38/200\n",
      "372/372 [==============================] - 393s 1s/step - loss: 0.0018 - binary_crossentropy: 0.0200 - val_loss: 0.0017 - val_binary_crossentropy: 0.0191\n",
      "\n",
      "Epoch 00038: val_loss did not improve from 0.00174\n",
      "Epoch 39/200\n",
      "372/372 [==============================] - 391s 1s/step - loss: 0.0018 - binary_crossentropy: 0.0200 - val_loss: 0.0017 - val_binary_crossentropy: 0.0191\n",
      "\n",
      "Epoch 00039: val_loss did not improve from 0.00174\n",
      "Epoch 40/200\n",
      "372/372 [==============================] - 392s 1s/step - loss: 0.0018 - binary_crossentropy: 0.0200 - val_loss: 0.0017 - val_binary_crossentropy: 0.0191\n",
      "\n",
      "Epoch 00040: val_loss did not improve from 0.00174\n",
      "Epoch 41/200\n",
      "372/372 [==============================] - 390s 1s/step - loss: 0.0018 - binary_crossentropy: 0.0200 - val_loss: 0.0017 - val_binary_crossentropy: 0.0191\n",
      "\n",
      "Epoch 00041: val_loss did not improve from 0.00174\n",
      "Epoch 42/200\n",
      "372/372 [==============================] - 389s 1s/step - loss: 0.0018 - binary_crossentropy: 0.0200 - val_loss: 0.0017 - val_binary_crossentropy: 0.0191\n",
      "\n",
      "Epoch 00042: val_loss did not improve from 0.00174\n",
      "Epoch 43/200\n",
      "372/372 [==============================] - 389s 1s/step - loss: 0.0018 - binary_crossentropy: 0.0200 - val_loss: 0.0018 - val_binary_crossentropy: 0.0194\n",
      "\n",
      "Epoch 00043: ReduceLROnPlateau reducing learning rate to 1.0000001111620805e-07.\n",
      "\n",
      "Epoch 00043: val_loss did not improve from 0.00174\n",
      "Epoch 44/200\n",
      "372/372 [==============================] - 388s 1s/step - loss: 0.0018 - binary_crossentropy: 0.0200 - val_loss: 0.0018 - val_binary_crossentropy: 0.0193\n",
      "\n",
      "Epoch 00044: val_loss did not improve from 0.00174\n",
      "Epoch 45/200\n",
      "372/372 [==============================] - 387s 1s/step - loss: 0.0018 - binary_crossentropy: 0.0200 - val_loss: 0.0017 - val_binary_crossentropy: 0.0191\n",
      "\n",
      "Epoch 00045: val_loss did not improve from 0.00174\n",
      "Epoch 00045: early stopping\n",
      "Training time:  18816.93893623352\n"
     ]
    }
   ],
   "source": [
    "\n",
    "\n",
    "class BatchHistories(keras.callbacks.Callback):\n",
    "\n",
    "    def on_train_begin(self,logs={}):\n",
    "        self.losses = []\n",
    "\n",
    "    def on_batch_end(self, batch, logs={}):\n",
    "        self.losses.append(logs.get('loss'))\n",
    "batch_loss_fine = BatchHistories()\n",
    "\n",
    "callbacks = [\n",
    "    keras.callbacks.EarlyStopping(patience=20, verbose=1),\n",
    "    keras.callbacks.ReduceLROnPlateau(factor=0.1, patience=10, min_lr=0.00000001, verbose=1),\n",
    "    keras.callbacks.ModelCheckpoint(\"unet2_train_z40_grey_normal_lr.h5\", verbose=1, save_best_only=True),\n",
    "    batch_loss_fine\n",
    "]\n",
    "start = time.time()\n",
    "history_fine = model_pret.fit(train_gen, epochs=epochs, validation_data=valid_gen, callbacks=callbacks,shuffle=True)\n",
    "end = time.time()\n",
    "print('Training time: ', end-start)"
   ],
   "metadata": {
    "collapsed": false,
    "pycharm": {
     "name": "#%%\n"
    }
   }
  },
  {
   "cell_type": "code",
   "execution_count": 31,
   "outputs": [],
   "source": [
    "model_done = keras.models.load_model('unet2_toy_train_z40_grey.h5', compile=False)"
   ],
   "metadata": {
    "collapsed": false,
    "pycharm": {
     "name": "#%%\n"
    }
   }
  },
  {
   "cell_type": "markdown",
   "source": [
    "Testing"
   ],
   "metadata": {
    "collapsed": false
   }
  },
  {
   "cell_type": "code",
   "execution_count": 18,
   "outputs": [],
   "source": [
    "\n",
    "def z_padding(input):\n",
    "    if input.shape[:2] == (512,512):\n",
    "        pass\n",
    "    else:\n",
    "        input=input[:512,:512,:]\n",
    "    z_size = 40-input.shape[2]%40\n",
    "    pad = np.zeros(input.shape[0:2]+ (z_size,))\n",
    "    return np.append(input, pad, axis=-1)"
   ],
   "metadata": {
    "collapsed": false,
    "pycharm": {
     "name": "#%%\n"
    }
   }
  },
  {
   "cell_type": "code",
   "execution_count": 20,
   "outputs": [
    {
     "name": "stdout",
     "output_type": "stream",
     "text": [
      "(29, 512, 512, 40, 1)\n",
      "1/1 [==============================] - 0s 468ms/step\n",
      "1/1 [==============================] - 0s 38ms/step\n",
      "1/1 [==============================] - 0s 38ms/step\n",
      "1/1 [==============================] - 0s 39ms/step\n",
      "1/1 [==============================] - 0s 39ms/step\n",
      "1/1 [==============================] - 0s 41ms/step\n",
      "1/1 [==============================] - 0s 39ms/step\n",
      "1/1 [==============================] - 0s 38ms/step\n",
      "1/1 [==============================] - 0s 42ms/step\n",
      "1/1 [==============================] - 0s 39ms/step\n",
      "1/1 [==============================] - 0s 39ms/step\n",
      "1/1 [==============================] - 0s 39ms/step\n",
      "1/1 [==============================] - 0s 38ms/step\n",
      "1/1 [==============================] - 0s 39ms/step\n",
      "1/1 [==============================] - 0s 38ms/step\n",
      "1/1 [==============================] - 0s 39ms/step\n",
      "1/1 [==============================] - 0s 38ms/step\n",
      "1/1 [==============================] - 0s 38ms/step\n",
      "1/1 [==============================] - 0s 39ms/step\n",
      "1/1 [==============================] - 0s 39ms/step\n",
      "1/1 [==============================] - 0s 43ms/step\n",
      "1/1 [==============================] - 0s 38ms/step\n",
      "1/1 [==============================] - 0s 38ms/step\n",
      "1/1 [==============================] - 0s 40ms/step\n",
      "1/1 [==============================] - 0s 40ms/step\n",
      "1/1 [==============================] - 0s 39ms/step\n",
      "1/1 [==============================] - 0s 39ms/step\n",
      "1/1 [==============================] - 0s 38ms/step\n",
      "1/1 [==============================] - 0s 42ms/step\n"
     ]
    }
   ],
   "source": [
    "import ndpatch\n",
    "from scipy import ndimage\n",
    "test_img, header = nrrd.read('./test_data/R3.nrrd')\n",
    "im_deno = ndimage.median_filter(test_img, size=2)\n",
    "img_ad_eq = skimage.exposure.equalize_adapthist(im_deno, clip_limit=0.03)\n",
    "\n",
    "\n",
    "image_norm = (img_ad_eq - np.min(img_ad_eq))/(np.max(img_ad_eq)-np.min(img_ad_eq))\n",
    "patch_shape =(512, 512, 40)\n",
    "image_pad = z_padding(image_norm)\n",
    "test_patches=patchify.patchify(image_pad, (512,512,40), step=40)\n",
    "pat_size = test_patches.shape\n",
    "test_patches = test_patches.squeeze()\n",
    "test_patches = np.expand_dims(test_patches, -1)\n",
    "pred_patches = np.empty(shape=test_patches.shape)\n",
    "print(test_patches.shape)\n",
    "for i in np.arange(test_patches.shape[0]):\n",
    "    pred = model_pret.predict(np.expand_dims(test_patches[i,:,:,:,0],axis=0),batch_size=1, verbose=1)\n",
    "    pred = (pred > 0.05).astype(np.uint8)\n",
    "    pred = np.squeeze(pred)\n",
    "    pred_patches[i,:,:,:,0] =  pred\n",
    "#\n",
    "#predictions = model.predict(test_patches)"
   ],
   "metadata": {
    "collapsed": false,
    "pycharm": {
     "name": "#%%\n"
    }
   }
  },
  {
   "cell_type": "code",
   "execution_count": 21,
   "outputs": [
    {
     "name": "stdout",
     "output_type": "stream",
     "text": [
      "(1, 1, 29, 512, 512, 40)\n"
     ]
    }
   ],
   "source": [
    "pred_patches=pred_patches.squeeze()\n",
    "pred_patches = np.expand_dims(np.expand_dims(pred_patches, axis=0),axis=0)\n",
    "print(pred_patches.shape)\n"
   ],
   "metadata": {
    "collapsed": false,
    "pycharm": {
     "name": "#%%\n"
    }
   }
  },
  {
   "cell_type": "markdown",
   "source": [
    "Reconstruct image from patches"
   ],
   "metadata": {
    "collapsed": false
   }
  },
  {
   "cell_type": "code",
   "execution_count": 22,
   "outputs": [],
   "source": [
    "reconstructed = patchify.unpatchify(pred_patches,image_pad.shape)"
   ],
   "metadata": {
    "collapsed": false,
    "pycharm": {
     "name": "#%%\n"
    }
   }
  },
  {
   "cell_type": "markdown",
   "source": [
    "Morphological operations"
   ],
   "metadata": {
    "collapsed": false
   }
  },
  {
   "cell_type": "code",
   "execution_count": 24,
   "outputs": [],
   "source": [
    "from scipy import ndimage\n",
    "recon_opened = ndimage.binary_opening(reconstructed, iterations=5).astype(int)\n",
    "recon_closed = ndimage.binary_closing(reconstructed, iterations=10).astype(int)\n",
    "recon_co = ndimage.binary_opening(recon_closed, iterations=5).astype(int)\n",
    "recon_oc = ndimage.binary_closing(recon_closed, iterations=10).astype(int)"
   ],
   "metadata": {
    "collapsed": false,
    "pycharm": {
     "name": "#%%\n"
    }
   }
  },
  {
   "cell_type": "markdown",
   "source": [],
   "metadata": {
    "collapsed": false
   }
  },
  {
   "cell_type": "markdown",
   "source": [
    "Connected components"
   ],
   "metadata": {
    "collapsed": false
   }
  },
  {
   "cell_type": "code",
   "execution_count": 25,
   "outputs": [],
   "source": [
    "def aorta_id(labels_out):\n",
    "\tlabels_out=labels_out.reshape((1,-1))\n",
    "\tlabels_out=labels_out[0,:]\n",
    "\tlabel=np.unique(labels_out)\n",
    "\thist, bin_edges=np.histogram(labels_out,bins=label)\n",
    "\thist=np.ndarray.tolist(hist)\n",
    "\thist_=hist\n",
    "\thist_=np.array(hist_)\n",
    "\thist.sort(reverse = True)\n",
    "\tidx=(hist_==hist[1])\n",
    "\tidx=idx+1-1\n",
    "\tidx_=np.sum(idx*label[0:len(idx)])\n",
    "\tprint('idx',idx_)\n",
    "\treturn idx_"
   ],
   "metadata": {
    "collapsed": false,
    "pycharm": {
     "name": "#%%\n"
    }
   }
  },
  {
   "cell_type": "code",
   "execution_count": 26,
   "outputs": [],
   "source": [
    "import cc3d\n",
    "import nrrd\n",
    "import numpy as np\n",
    "labels_out, N = cc3d.connected_components(recon_oc, return_N=True)"
   ],
   "metadata": {
    "collapsed": false,
    "pycharm": {
     "name": "#%%\n"
    }
   }
  },
  {
   "cell_type": "code",
   "execution_count": 27,
   "outputs": [
    {
     "name": "stdout",
     "output_type": "stream",
     "text": [
      "idx 143\n"
     ]
    }
   ],
   "source": [
    "aorta_label = skull_id(labels_out)"
   ],
   "metadata": {
    "collapsed": false,
    "pycharm": {
     "name": "#%%\n"
    }
   }
  },
  {
   "cell_type": "code",
   "execution_count": 28,
   "outputs": [],
   "source": [
    "labels_big = labels_out * (labels_out == aorta_label)"
   ],
   "metadata": {
    "collapsed": false,
    "pycharm": {
     "name": "#%%\n"
    }
   }
  },
  {
   "cell_type": "code",
   "execution_count": 29,
   "outputs": [],
   "source": [
    "nrrd.write('R3_pred_z40_cc_t005_pretrained.seg.nrrd', labels_big)"
   ],
   "metadata": {
    "collapsed": false,
    "pycharm": {
     "name": "#%%\n"
    }
   }
  },
  {
   "cell_type": "code",
   "execution_count": 30,
   "outputs": [],
   "source": [
    "nrrd.write('R3_oc_pred_z40_cc_t005_pretrained.seg.nrrd', recon_oc)\n",
    "nrrd.write('R3_co_pred_z40_cc_t005_pretrained.seg.nrrd', recon_co)\n",
    "nrrd.write('R3_re_pred_z40_cc_t005_pretrained.seg.nrrd', reconstructed)"
   ],
   "metadata": {
    "collapsed": false,
    "pycharm": {
     "name": "#%%\n"
    }
   }
  },
  {
   "cell_type": "code",
   "execution_count": 12,
   "outputs": [],
   "source": [
    "pred = predict('toy_test', model)\n",
    "pred = np.squeeze(pred)\n",
    "#np.squeeze(pred)\n",
    "pred = (pred > 0.2).astype(np.uint8)"
   ],
   "metadata": {
    "collapsed": false,
    "pycharm": {
     "name": "#%%\n"
    }
   }
  },
  {
   "cell_type": "code",
   "execution_count": 4,
   "outputs": [],
   "source": [
    "test_denoised = ndimage.median_filter(test, size=2)"
   ],
   "metadata": {
    "collapsed": false,
    "pycharm": {
     "name": "#%%\n"
    }
   }
  }
 ]
}