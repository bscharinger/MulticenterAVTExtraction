{
 "cells": [
  {
   "cell_type": "code",
   "execution_count": 1,
   "metadata": {
    "collapsed": true
   },
   "outputs": [],
   "source": [
    "import nrrd\n",
    "import numpy as np\n",
    "import ndpatch\n",
    "from glob import glob\n",
    "import skimage\n",
    "import os\n",
    "from scipy import ndimage\n",
    "import edt\n",
    "import patchify"
   ]
  },
  {
   "cell_type": "code",
   "execution_count": 2,
   "outputs": [],
   "source": [
    "def z_padding(input):\n",
    "    if input.shape[:2] == (512,512):\n",
    "        pass\n",
    "    else:\n",
    "        input=input[:512,:512,:]\n",
    "    z_size = 40-input.shape[2]%40\n",
    "    pad = np.zeros(input.shape[0:2]+ (z_size,))\n",
    "    return np.append(input, pad, axis=-1)\n",
    "\n",
    "def gen_train_patches(train_dir, label_dir, out_im, out_la):\n",
    "    overlap = 4\n",
    "    data_list = glob('{}/*.nrrd'.format(train_dir))\n",
    "    label_list = glob('{}/*.nrrd'.format(label_dir))\n",
    "\n",
    "    for i, path in enumerate(data_list):\n",
    "        filename = os.path.basename(path).split('.')[0]\n",
    "        image, header = nrrd.read(path)\n",
    "        im_deno = ndimage.median_filter(image, size=3)\n",
    "        image_norm = (im_deno - np.min(im_deno))/(np.max(im_deno)-np.min(im_deno))\n",
    "        img_ad_eq = skimage.exposure.equalize_adapthist(image_norm, clip_limit=0.03)\n",
    "        label, head_l = nrrd.read(label_list[i])\n",
    "        im_padded = z_padding(img_ad_eq)\n",
    "        la_padded = z_padding(label)\n",
    "        #rdm_la = edt.edt(la_padded, black_border=True)\n",
    "        j=0\n",
    "        patches_im=patchify.patchify(im_padded, (512,512,40), step=40).squeeze()\n",
    "        patches_la=patchify.patchify(la_padded, (512,512,40), step=40).squeeze()\n",
    "        for j in np.arange(patches_im.shape[0]):\n",
    "            filename_im = out_im + filename + '_' + str(j)\n",
    "            filename_la = out_la + filename + '_' + str(j)\n",
    "            if float(np.max(patches_la[j,:,:,:])) == float(0):\n",
    "                pass\n",
    "            else:\n",
    "                nrrd.write(filename_im + '.nrrd', patches_im[j,:,:,:])\n",
    "                nrrd.write(filename_la + '.seg.nrrd', patches_la[j,:,:,:])"
   ],
   "metadata": {
    "collapsed": false,
    "pycharm": {
     "name": "#%%\n"
    }
   }
  },
  {
   "cell_type": "code",
   "execution_count": 3,
   "outputs": [],
   "source": [
    "train_dir = './training'\n",
    "label_dir = './ground'\n",
    "out_im = './train_patch_z40_dnep_im/'\n",
    "out_la = './train_patch_z40_dnep_la/'\n",
    "\n",
    "gen_train_patches(train_dir, label_dir, out_im, out_la)"
   ],
   "metadata": {
    "collapsed": false,
    "pycharm": {
     "name": "#%%\n"
    }
   }
  },
  {
   "cell_type": "code",
   "execution_count": 61,
   "outputs": [],
   "source": [
    "import patchify\n",
    "import numpy as np\n",
    "import nrrd\n",
    "import tensorflow as tf\n",
    "data, h = nrrd.read('./training/D1.nrrd')\n"
   ],
   "metadata": {
    "collapsed": false,
    "pycharm": {
     "name": "#%%\n"
    }
   }
  },
  {
   "cell_type": "code",
   "execution_count": 62,
   "outputs": [
    {
     "name": "stdout",
     "output_type": "stream",
     "text": [
      "(1, 1, 8, 512, 512, 32)\n",
      "(8, 512, 512, 32)\n"
     ]
    }
   ],
   "source": [
    "data_z = z_padding(data).astype('int16')\n",
    "patches = patchify.patchify(data_z, (512,512,48), step=32)\n",
    "print(patches.shape)\n",
    "patches = patches.squeeze()\n",
    "print(patches.shape)"
   ],
   "metadata": {
    "collapsed": false,
    "pycharm": {
     "name": "#%%\n"
    }
   }
  },
  {
   "cell_type": "code",
   "execution_count": 58,
   "outputs": [],
   "source": [
    "nrrd.write('padding_cut.nrrd', data_z)"
   ],
   "metadata": {
    "collapsed": false,
    "pycharm": {
     "name": "#%%\n"
    }
   }
  },
  {
   "cell_type": "code",
   "execution_count": 1,
   "outputs": [],
   "source": [
    "import numpy as np\n",
    "import nrrd\n",
    "data,h =nrrd.read('./train_patch_z32_pad_im/D1_7.nrrd')"
   ],
   "metadata": {
    "collapsed": false,
    "pycharm": {
     "name": "#%%\n"
    }
   }
  },
  {
   "cell_type": "code",
   "execution_count": 4,
   "outputs": [],
   "source": [
    "image, h = nrrd.read('./test/R1.nrrd')\n",
    "im_deno = ndimage.median_filter(image, size=2)\n",
    "image_norm = (im_deno - np.min(im_deno))/(np.max(im_deno)-np.min(im_deno))\n",
    "img_ad_eq = skimage.exposure.equalize_adapthist(image_norm, clip_limit=0.03)"
   ],
   "metadata": {
    "collapsed": false,
    "pycharm": {
     "name": "#%%\n"
    }
   }
  },
  {
   "cell_type": "code",
   "execution_count": null,
   "outputs": [],
   "source": [
    "import time\n",
    "start = time.time()\n",
    "im_frangi = skimage.filters.frangi(img_ad_eq, sigmas=(1,5,10))\n",
    "end = time.time()\n",
    "print('frangi filter time: ',(end-start))"
   ],
   "metadata": {
    "collapsed": false,
    "pycharm": {
     "name": "#%%\n",
     "is_executing": true
    }
   }
  },
  {
   "cell_type": "code",
   "execution_count": null,
   "outputs": [],
   "source": [
    "import itk\n",
    "import time\n",
    "start = time.time()\n",
    "image, h = nrrd.read('./test/R1.nrrd')\n",
    "im_deno = ndimage.median_filter(image, size=2)\n",
    "image_norm = (im_deno - np.min(im_deno))/(np.max(im_deno)-np.min(im_deno))\n",
    "img_ad_eq = skimage.exposure.equalize_adapthist(image_norm, clip_limit=0.03)\n",
    "input = itk.GetImageFromArray(img_ad_eq)\n",
    "hessian_img = itk.hessian_recursive_gaussian_image_filter(input, sigma=1.0)\n",
    "vesselness_filter = itk.Hessian3DToVesselnessMeasureImageFilter[itk.ctype(\"float\")].New()\n",
    "vesselness_filter.SetInput(hessian_img)\n",
    "vesselness_filter.SetAlpha1(5)\n",
    "vesselness_filter.SetAlpha2(0.1)\n",
    "output = itk.GetArrayFromImage(vesselness_filter)\n",
    "print(np.max(output))\n",
    "print(np.min(output))\n",
    "\n",
    "nrrd.write('vessel_test_5_01_s1.nrrd', output)\n",
    "end = time.time()\n",
    "print('time: ', end-start)"
   ],
   "metadata": {
    "collapsed": false,
    "pycharm": {
     "name": "#%%\n",
     "is_executing": true
    }
   }
  },
  {
   "cell_type": "code",
   "execution_count": 11,
   "outputs": [
    {
     "name": "stdout",
     "output_type": "stream",
     "text": [
      "time:  0.0\n"
     ]
    }
   ],
   "source": [
    "import time\n",
    "start = time.time()\n",
    "vesselness_filter = itk.Hessian3DToVesselnessMeasureImageFilter[itk.ctype(\"float\")].New()\n",
    "vesselness_filter.SetInput(hessian_img)\n",
    "vesselness_filter.SetAlpha1(0.5)\n",
    "vesselness_filter.SetAlpha2(2.0)\n",
    "output = itk.GetArrayFromImage(vesselness_filter)\n",
    "print(np.max(output))\n",
    "print(np.min(output))\n",
    "nrrd.write('vessel_test_05_2.nrrd', output)\n",
    "end = time.time()\n",
    "print('time: ', end-start)\n"
   ],
   "metadata": {
    "collapsed": false,
    "pycharm": {
     "name": "#%%\n"
    }
   }
  },
  {
   "cell_type": "code",
   "execution_count": 12,
   "outputs": [],
   "source": [
    "start = time.time()\n",
    "vesselness_filter.SetInput(hessian_img)\n",
    "vesselness_filter.SetAlpha1(0.5)\n",
    "vesselness_filter.SetAlpha2(2.0)\n",
    "end = time.time()"
   ],
   "metadata": {
    "collapsed": false,
    "pycharm": {
     "name": "#%%\n"
    }
   }
  },
  {
   "cell_type": "code",
   "execution_count": 13,
   "outputs": [
    {
     "name": "stdout",
     "output_type": "stream",
     "text": [
      "909.08215\n",
      "0.0\n"
     ]
    }
   ],
   "source": [
    "output = itk.GetArrayFromImage(vesselness_filter)\n",
    "print(np.max(output))\n",
    "print(np.min(output))"
   ],
   "metadata": {
    "collapsed": false,
    "pycharm": {
     "name": "#%%\n"
    }
   }
  },
  {
   "cell_type": "code",
   "execution_count": 14,
   "outputs": [],
   "source": [
    "nrrd.write('vessel_test.nrrd', output)"
   ],
   "metadata": {
    "collapsed": false,
    "pycharm": {
     "name": "#%%\n"
    }
   }
  }
 ],
 "metadata": {
  "kernelspec": {
   "display_name": "Python 3",
   "language": "python",
   "name": "python3"
  },
  "language_info": {
   "codemirror_mode": {
    "name": "ipython",
    "version": 2
   },
   "file_extension": ".py",
   "mimetype": "text/x-python",
   "name": "python",
   "nbconvert_exporter": "python",
   "pygments_lexer": "ipython2",
   "version": "2.7.6"
  }
 },
 "nbformat": 4,
 "nbformat_minor": 0
}