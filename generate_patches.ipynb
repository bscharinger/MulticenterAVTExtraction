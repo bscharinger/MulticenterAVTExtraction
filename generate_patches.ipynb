{
 "cells": [
  {
   "cell_type": "code",
   "execution_count": 8,
   "metadata": {
    "collapsed": true
   },
   "outputs": [],
   "source": [
    "import nrrd\n",
    "import numpy as np\n",
    "import ndpatch\n",
    "from glob import glob\n",
    "import skimage\n",
    "import os\n",
    "from scipy import ndimage\n",
    "import edt\n",
    "import patchify"
   ]
  },
  {
   "cell_type": "code",
   "execution_count": 3,
   "outputs": [],
   "source": [
    "def z_padding(input):\n",
    "    if input.shape[:2] == (256,256):\n",
    "        pass\n",
    "    else:\n",
    "        input=input[:256,:256,:]\n",
    "    z_size = 128-input.shape[2]%128\n",
    "    pad = np.zeros(input.shape[0:2]+ (z_size,))\n",
    "    return np.append(input, pad, axis=-1)\n",
    "\n",
    "def padding(array, shape):\n",
    "    \"\"\"\n",
    "    :param array: numpy array\n",
    "    :param xx: desired height\n",
    "    :param yy: desirex width\n",
    "    :return: padded array\n",
    "    \"\"\"\n",
    "    xx, yy, zz = shape\n",
    "    he, wi, de = array.shape\n",
    "    print(array.shape)\n",
    "    a = (xx - he) // 2\n",
    "    aa = xx - a - he\n",
    "    print(a, aa)\n",
    "    b = (yy - wi) // 2\n",
    "    bb = yy - b - wi\n",
    "    print(b, bb)\n",
    "\n",
    "    return np.pad(array, pad_width=((a, aa), (b, bb), (0, 0)), mode='constant')\n",
    "\n",
    "def gen_train_patches(train_dir, label_dir, out_im, out_la):\n",
    "\n",
    "    data_list = glob('{}/*.nrrd'.format(train_dir))\n",
    "    label_list = glob('{}/*.nrrd'.format(label_dir))\n",
    "\n",
    "    for i, path in enumerate(data_list):\n",
    "        print('Processing Image ', i+1 ,'/',len(data_list))\n",
    "        filename = os.path.basename(path).split('.')[0]\n",
    "        image, header = nrrd.read(path)\n",
    "        label, head_l = nrrd.read(label_list[i])\n",
    "        x, y, z = image.shape\n",
    "        if x<256 and y<256:\n",
    "            image = padding(image, (256,256,z))\n",
    "            label = padding(label, (256,256,z))\n",
    "        else:\n",
    "            pass\n",
    "        x, y, z = image.shape\n",
    "        m_x = x//2\n",
    "        m_y = y//2\n",
    "        image = image[m_x-128:m_x+128,m_y-128:m_y+128,:]\n",
    "        label = label[m_x-128:m_x+128,m_y-128:m_y+128,:]\n",
    "        if filename[0] == 'D':\n",
    "            im_win = np.where(image<200,0, image)\n",
    "            im_win = np.where(image>500,0,im_win)\n",
    "        else:\n",
    "            im_win = np.where(image<1100,0, image)\n",
    "            im_win = np.where(image>1350,0,im_win)\n",
    "        image_norm = (im_win - np.min(im_win))/(np.max(im_win)-np.min(im_win))\n",
    "        im_padded = z_padding(image_norm)\n",
    "        la_padded = z_padding(label)\n",
    "        #rdm_la = edt.edt(la_padded, black_border=True)\n",
    "        j=0\n",
    "        patches_im=patchify.patchify(im_padded, (256,256,128), step=128).squeeze()\n",
    "        patches_la=patchify.patchify(la_padded, (256,256,128), step=128).squeeze()\n",
    "        for j in np.arange(patches_im.shape[0]):\n",
    "            filename_im = out_im + filename + '_' + str(j)\n",
    "            filename_la = out_la + filename + '_' + str(j)\n",
    "            if float(np.max(patches_la[j,:,:,:])) == float(0):\n",
    "                pass\n",
    "            else:\n",
    "                nrrd.write(filename_im + '.nrrd', patches_im[j,:,:,:])\n",
    "                nrrd.write(filename_la + '.seg.nrrd', patches_la[j,:,:,:])"
   ],
   "metadata": {
    "collapsed": false,
    "pycharm": {
     "name": "#%%\n"
    }
   }
  },
  {
   "cell_type": "code",
   "execution_count": 14,
   "outputs": [],
   "source": [
    "def z_padding(input):\n",
    "    if input.shape[:2] == (256,256):\n",
    "        pass\n",
    "    else:\n",
    "        input=input[:256,:256,:]\n",
    "    z_size = 128-input.shape[2]%128\n",
    "    pad = np.zeros(input.shape[0:2]+ (z_size,))\n",
    "    return np.append(input, pad, axis=-1)\n",
    "\n",
    "def padding(array, shape):\n",
    "    \"\"\"\n",
    "    :param array: numpy array\n",
    "    :param xx: desired height\n",
    "    :param yy: desirex width\n",
    "    :return: padded array\n",
    "    \"\"\"\n",
    "    xx, yy, zz = shape\n",
    "    he, wi, de = array.shape\n",
    "    print(array.shape)\n",
    "    a = (xx - he) // 2\n",
    "    aa = xx - a - he\n",
    "    print(a, aa)\n",
    "    b = (yy - wi) // 2\n",
    "    bb = yy - b - wi\n",
    "    print(b, bb)\n",
    "\n",
    "    return np.pad(array, pad_width=((a, aa), (b, bb), (0, 0)), mode='constant')\n",
    "\n",
    "def gen_train_patches_test(label_dir, out_la):\n",
    "\n",
    "\n",
    "    label_list = glob('{}/*.nrrd'.format(label_dir))\n",
    "\n",
    "    for i, path in enumerate(label_list):\n",
    "        print('Processing Image ', i+1 ,'/',len(label_list))\n",
    "        filename = os.path.basename(path).split('.')[0]\n",
    "        label, head_l = nrrd.read(label_list[i])\n",
    "        x, y, z = label.shape\n",
    "        m_x = x//2\n",
    "        m_y = y//2\n",
    "        label = label[m_x-128:m_x+128,m_y-128:m_y+128,:]\n",
    "        la_padded = z_padding(label)\n",
    "        print(la_padded.shape)\n",
    "        filename_la = out_la + filename + '_cropped'\n",
    "        if float(np.max(la_padded)) == float(0):\n",
    "            pass\n",
    "        else:\n",
    "            nrrd.write(filename_la + '.seg.nrrd', la_padded)"
   ],
   "metadata": {
    "collapsed": false,
    "pycharm": {
     "name": "#%%\n"
    }
   }
  },
  {
   "cell_type": "code",
   "execution_count": 6,
   "outputs": [
    {
     "name": "stdout",
     "output_type": "stream",
     "text": [
      "Processing Image  1 / 50\n",
      "Processing Image  2 / 50\n",
      "Processing Image  3 / 50\n",
      "Processing Image  4 / 50\n",
      "Processing Image  5 / 50\n",
      "Processing Image  6 / 50\n",
      "Processing Image  7 / 50\n",
      "Processing Image  8 / 50\n",
      "Processing Image  9 / 50\n",
      "Processing Image  10 / 50\n",
      "Processing Image  11 / 50\n",
      "Processing Image  12 / 50\n",
      "Processing Image  13 / 50\n",
      "Processing Image  14 / 50\n",
      "Processing Image  15 / 50\n",
      "Processing Image  16 / 50\n",
      "Processing Image  17 / 50\n",
      "Processing Image  18 / 50\n",
      "Processing Image  19 / 50\n",
      "Processing Image  20 / 50\n",
      "Processing Image  21 / 50\n",
      "Processing Image  22 / 50\n",
      "Processing Image  23 / 50\n",
      "Processing Image  24 / 50\n",
      "Processing Image  25 / 50\n",
      "Processing Image  26 / 50\n",
      "(224, 224, 297)\n",
      "16 16\n",
      "16 16\n",
      "(224, 224, 297)\n",
      "16 16\n",
      "16 16\n",
      "Processing Image  27 / 50\n",
      "Processing Image  28 / 50\n",
      "Processing Image  29 / 50\n",
      "Processing Image  30 / 50\n",
      "Processing Image  31 / 50\n",
      "Processing Image  32 / 50\n",
      "Processing Image  33 / 50\n",
      "Processing Image  34 / 50\n",
      "Processing Image  35 / 50\n",
      "Processing Image  36 / 50\n",
      "Processing Image  37 / 50\n",
      "Processing Image  38 / 50\n",
      "Processing Image  39 / 50\n",
      "Processing Image  40 / 50\n",
      "Processing Image  41 / 50\n",
      "Processing Image  42 / 50\n",
      "Processing Image  43 / 50\n",
      "Processing Image  44 / 50\n",
      "Processing Image  45 / 50\n",
      "Processing Image  46 / 50\n",
      "Processing Image  47 / 50\n",
      "Processing Image  48 / 50\n",
      "Processing Image  49 / 50\n",
      "Processing Image  50 / 50\n"
     ]
    }
   ],
   "source": [
    "train_dir = './training_data/resampled_train/'\n",
    "label_dir = './training_data/resampled_ground/'\n",
    "out_im = './training_data/train_z128_iso_win_im/'\n",
    "out_la = \"./training_data/train_z128_iso_win_la/\"\n",
    "\n",
    "gen_train_patches(train_dir, label_dir, out_im, out_la)"
   ],
   "metadata": {
    "collapsed": false,
    "pycharm": {
     "name": "#%%\n"
    }
   }
  },
  {
   "cell_type": "code",
   "execution_count": 61,
   "outputs": [],
   "source": [
    "import patchify\n",
    "import numpy as np\n",
    "import nrrd\n",
    "import tensorflow as tf\n",
    "data, h = nrrd.read('./training/D1.nrrd')\n"
   ],
   "metadata": {
    "collapsed": false,
    "pycharm": {
     "name": "#%%\n"
    }
   }
  },
  {
   "cell_type": "code",
   "execution_count": 62,
   "outputs": [
    {
     "name": "stdout",
     "output_type": "stream",
     "text": [
      "(1, 1, 8, 512, 512, 32)\n",
      "(8, 512, 512, 32)\n"
     ]
    }
   ],
   "source": [
    "data_z = z_padding(data).astype('int16')\n",
    "patches = patchify.patchify(data_z, (512,512,48), step=32)\n",
    "print(patches.shape)\n",
    "patches = patches.squeeze()\n",
    "print(patches.shape)"
   ],
   "metadata": {
    "collapsed": false,
    "pycharm": {
     "name": "#%%\n"
    }
   }
  },
  {
   "cell_type": "code",
   "execution_count": 58,
   "outputs": [],
   "source": [
    "nrrd.write('padding_cut.nrrd', data_z)"
   ],
   "metadata": {
    "collapsed": false,
    "pycharm": {
     "name": "#%%\n"
    }
   }
  },
  {
   "cell_type": "code",
   "execution_count": 1,
   "outputs": [],
   "source": [
    "import numpy as np\n",
    "import nrrd\n",
    "data,h =nrrd.read('./train_patch_z32_pad_im/D1_7.nrrd')"
   ],
   "metadata": {
    "collapsed": false,
    "pycharm": {
     "name": "#%%\n"
    }
   }
  },
  {
   "cell_type": "code",
   "execution_count": 4,
   "outputs": [],
   "source": [
    "image, h = nrrd.read('./test/R1.nrrd')\n",
    "im_deno = ndimage.median_filter(image, size=2)\n",
    "image_norm = (im_deno - np.min(im_deno))/(np.max(im_deno)-np.min(im_deno))\n",
    "img_ad_eq = skimage.exposure.equalize_adapthist(image_norm, clip_limit=0.03)"
   ],
   "metadata": {
    "collapsed": false,
    "pycharm": {
     "name": "#%%\n"
    }
   }
  },
  {
   "cell_type": "code",
   "execution_count": null,
   "outputs": [],
   "source": [
    "import time\n",
    "start = time.time()\n",
    "im_frangi = skimage.filters.frangi(img_ad_eq, sigmas=(1,5,10))\n",
    "end = time.time()\n",
    "print('frangi filter time: ',(end-start))"
   ],
   "metadata": {
    "collapsed": false,
    "pycharm": {
     "name": "#%%\n"
    }
   }
  },
  {
   "cell_type": "code",
   "execution_count": null,
   "outputs": [],
   "source": [
    "import itk\n",
    "import time\n",
    "start = time.time()\n",
    "image, h = nrrd.read('./test/R1.nrrd')\n",
    "im_deno = ndimage.median_filter(image, size=2)\n",
    "image_norm = (im_deno - np.min(im_deno))/(np.max(im_deno)-np.min(im_deno))\n",
    "img_ad_eq = skimage.exposure.equalize_adapthist(image_norm, clip_limit=0.03)\n",
    "input = itk.GetImageFromArray(img_ad_eq)\n",
    "hessian_img = itk.hessian_recursive_gaussian_image_filter(input, sigma=1.0)\n",
    "vesselness_filter = itk.Hessian3DToVesselnessMeasureImageFilter[itk.ctype(\"float\")].New()\n",
    "vesselness_filter.SetInput(hessian_img)\n",
    "vesselness_filter.SetAlpha1(5)\n",
    "vesselness_filter.SetAlpha2(0.1)\n",
    "output = itk.GetArrayFromImage(vesselness_filter)\n",
    "print(np.max(output))\n",
    "print(np.min(output))\n",
    "\n",
    "nrrd.write('vessel_test_5_01_s1.nrrd', output)\n",
    "end = time.time()\n",
    "print('time: ', end-start)"
   ],
   "metadata": {
    "collapsed": false,
    "pycharm": {
     "name": "#%%\n"
    }
   }
  },
  {
   "cell_type": "code",
   "execution_count": 11,
   "outputs": [
    {
     "name": "stdout",
     "output_type": "stream",
     "text": [
      "time:  0.0\n"
     ]
    }
   ],
   "source": [
    "import time\n",
    "start = time.time()\n",
    "vesselness_filter = itk.Hessian3DToVesselnessMeasureImageFilter[itk.ctype(\"float\")].New()\n",
    "vesselness_filter.SetInput(hessian_img)\n",
    "vesselness_filter.SetAlpha1(0.5)\n",
    "vesselness_filter.SetAlpha2(2.0)\n",
    "output = itk.GetArrayFromImage(vesselness_filter)\n",
    "print(np.max(output))\n",
    "print(np.min(output))\n",
    "nrrd.write('vessel_test_05_2.nrrd', output)\n",
    "end = time.time()\n",
    "print('time: ', end-start)\n"
   ],
   "metadata": {
    "collapsed": false,
    "pycharm": {
     "name": "#%%\n"
    }
   }
  },
  {
   "cell_type": "code",
   "execution_count": 12,
   "outputs": [],
   "source": [
    "start = time.time()\n",
    "vesselness_filter.SetInput(hessian_img)\n",
    "vesselness_filter.SetAlpha1(0.5)\n",
    "vesselness_filter.SetAlpha2(2.0)\n",
    "end = time.time()"
   ],
   "metadata": {
    "collapsed": false,
    "pycharm": {
     "name": "#%%\n"
    }
   }
  },
  {
   "cell_type": "code",
   "execution_count": 13,
   "outputs": [
    {
     "name": "stdout",
     "output_type": "stream",
     "text": [
      "909.08215\n",
      "0.0\n"
     ]
    }
   ],
   "source": [
    "output = itk.GetArrayFromImage(vesselness_filter)\n",
    "print(np.max(output))\n",
    "print(np.min(output))"
   ],
   "metadata": {
    "collapsed": false,
    "pycharm": {
     "name": "#%%\n"
    }
   }
  },
  {
   "cell_type": "code",
   "execution_count": 7,
   "outputs": [],
   "source": [
    "train_dir = './training_data/train_z128_iso_im'\n",
    "label_dir = './training_data/resampled_ground'\n",
    "data_list = glob('{}/*.nrrd'.format(train_dir))\n",
    "label_list = glob('{}/*.nrrd'.format(label_dir))"
   ],
   "metadata": {
    "collapsed": false,
    "pycharm": {
     "name": "#%%\n"
    }
   }
  },
  {
   "cell_type": "code",
   "execution_count": null,
   "outputs": [],
   "source": [],
   "metadata": {
    "collapsed": false,
    "pycharm": {
     "name": "#%%\n"
    }
   }
  },
  {
   "cell_type": "code",
   "execution_count": 20,
   "outputs": [],
   "source": [],
   "metadata": {
    "collapsed": false,
    "pycharm": {
     "name": "#%%\n"
    }
   }
  },
  {
   "cell_type": "code",
   "execution_count": 9,
   "outputs": [
    {
     "name": "stdout",
     "output_type": "stream",
     "text": [
      "File:  ./training_data/train_z128_iso_im\\D10_resamp_0.nrrd Im dims:  (256, 256, 128)\n",
      "is nan:  False\n",
      "File:  ./training_data/train_z128_iso_im\\D10_resamp_1.nrrd Im dims:  (256, 256, 128)\n",
      "is nan:  False\n",
      "File:  ./training_data/train_z128_iso_im\\D10_resamp_2.nrrd Im dims:  (256, 256, 128)\n",
      "is nan:  False\n",
      "File:  ./training_data/train_z128_iso_im\\D10_resamp_3.nrrd Im dims:  (256, 256, 128)\n",
      "is nan:  False\n",
      "File:  ./training_data/train_z128_iso_im\\D11_resamp_0.nrrd Im dims:  (256, 256, 128)\n",
      "is nan:  False\n",
      "File:  ./training_data/train_z128_iso_im\\D11_resamp_1.nrrd Im dims:  (256, 256, 128)\n",
      "is nan:  False\n",
      "File:  ./training_data/train_z128_iso_im\\D11_resamp_2.nrrd Im dims:  (256, 256, 128)\n",
      "is nan:  False\n",
      "File:  ./training_data/train_z128_iso_im\\D12_resamp_0.nrrd Im dims:  (256, 256, 128)\n",
      "is nan:  False\n",
      "File:  ./training_data/train_z128_iso_im\\D12_resamp_1.nrrd Im dims:  (256, 256, 128)\n",
      "is nan:  False\n",
      "File:  ./training_data/train_z128_iso_im\\D12_resamp_2.nrrd Im dims:  (256, 256, 128)\n",
      "is nan:  False\n",
      "File:  ./training_data/train_z128_iso_im\\D13_resamp_0.nrrd Im dims:  (256, 256, 128)\n",
      "is nan:  False\n",
      "File:  ./training_data/train_z128_iso_im\\D13_resamp_1.nrrd Im dims:  (256, 256, 128)\n",
      "is nan:  False\n",
      "File:  ./training_data/train_z128_iso_im\\D13_resamp_2.nrrd Im dims:  (256, 256, 128)\n",
      "is nan:  False\n",
      "File:  ./training_data/train_z128_iso_im\\D14_resamp_0.nrrd Im dims:  (256, 256, 128)\n",
      "is nan:  False\n",
      "File:  ./training_data/train_z128_iso_im\\D14_resamp_1.nrrd Im dims:  (256, 256, 128)\n",
      "is nan:  False\n",
      "File:  ./training_data/train_z128_iso_im\\D14_resamp_2.nrrd Im dims:  (256, 256, 128)\n",
      "is nan:  False\n",
      "File:  ./training_data/train_z128_iso_im\\D15_resamp_0.nrrd Im dims:  (256, 256, 128)\n",
      "is nan:  False\n",
      "File:  ./training_data/train_z128_iso_im\\D15_resamp_1.nrrd Im dims:  (256, 256, 128)\n",
      "is nan:  False\n",
      "File:  ./training_data/train_z128_iso_im\\D15_resamp_2.nrrd Im dims:  (256, 256, 128)\n",
      "is nan:  False\n",
      "File:  ./training_data/train_z128_iso_im\\D16_resamp_0.nrrd Im dims:  (256, 256, 128)\n",
      "is nan:  False\n",
      "File:  ./training_data/train_z128_iso_im\\D16_resamp_1.nrrd Im dims:  (256, 256, 128)\n",
      "is nan:  False\n",
      "File:  ./training_data/train_z128_iso_im\\D16_resamp_2.nrrd Im dims:  (256, 256, 128)\n",
      "is nan:  False\n",
      "File:  ./training_data/train_z128_iso_im\\D17_resamp_0.nrrd Im dims:  (256, 256, 128)\n",
      "is nan:  False\n",
      "File:  ./training_data/train_z128_iso_im\\D17_resamp_1.nrrd Im dims:  (256, 256, 128)\n",
      "is nan:  False\n",
      "File:  ./training_data/train_z128_iso_im\\D17_resamp_2.nrrd Im dims:  (256, 256, 128)\n",
      "is nan:  False\n",
      "File:  ./training_data/train_z128_iso_im\\D18_resamp_0.nrrd Im dims:  (256, 256, 128)\n",
      "is nan:  False\n",
      "File:  ./training_data/train_z128_iso_im\\D18_resamp_1.nrrd Im dims:  (256, 256, 128)\n",
      "is nan:  False\n",
      "File:  ./training_data/train_z128_iso_im\\D18_resamp_2.nrrd Im dims:  (256, 256, 128)\n",
      "is nan:  False\n",
      "File:  ./training_data/train_z128_iso_im\\D2_resamp_0.nrrd Im dims:  (256, 256, 128)\n",
      "is nan:  False\n",
      "File:  ./training_data/train_z128_iso_im\\D2_resamp_1.nrrd Im dims:  (256, 256, 128)\n",
      "is nan:  False\n",
      "File:  ./training_data/train_z128_iso_im\\D2_resamp_2.nrrd Im dims:  (256, 256, 128)\n",
      "is nan:  False\n",
      "File:  ./training_data/train_z128_iso_im\\D4_resamp_0.nrrd Im dims:  (256, 256, 128)\n",
      "is nan:  False\n",
      "File:  ./training_data/train_z128_iso_im\\D4_resamp_1.nrrd Im dims:  (256, 256, 128)\n",
      "is nan:  False\n",
      "File:  ./training_data/train_z128_iso_im\\D4_resamp_2.nrrd Im dims:  (256, 256, 128)\n",
      "is nan:  False\n",
      "File:  ./training_data/train_z128_iso_im\\D4_resamp_3.nrrd Im dims:  (256, 256, 128)\n",
      "is nan:  False\n",
      "File:  ./training_data/train_z128_iso_im\\D5_resamp_0.nrrd Im dims:  (256, 256, 128)\n",
      "is nan:  False\n",
      "File:  ./training_data/train_z128_iso_im\\D5_resamp_1.nrrd Im dims:  (256, 256, 128)\n",
      "is nan:  False\n",
      "File:  ./training_data/train_z128_iso_im\\D5_resamp_2.nrrd Im dims:  (256, 256, 128)\n",
      "is nan:  False\n",
      "File:  ./training_data/train_z128_iso_im\\D6_resamp_0.nrrd Im dims:  (256, 256, 128)\n",
      "is nan:  False\n",
      "File:  ./training_data/train_z128_iso_im\\D6_resamp_1.nrrd Im dims:  (256, 256, 128)\n",
      "is nan:  False\n",
      "File:  ./training_data/train_z128_iso_im\\D6_resamp_2.nrrd Im dims:  (256, 256, 128)\n",
      "is nan:  False\n",
      "File:  ./training_data/train_z128_iso_im\\D7_resamp_0.nrrd Im dims:  (256, 256, 128)\n",
      "is nan:  False\n",
      "File:  ./training_data/train_z128_iso_im\\D7_resamp_1.nrrd Im dims:  (256, 256, 128)\n",
      "is nan:  False\n",
      "File:  ./training_data/train_z128_iso_im\\D7_resamp_2.nrrd Im dims:  (256, 256, 128)\n",
      "is nan:  False\n",
      "File:  ./training_data/train_z128_iso_im\\D8_resamp_0.nrrd Im dims:  (256, 256, 128)\n",
      "is nan:  False\n",
      "File:  ./training_data/train_z128_iso_im\\D8_resamp_1.nrrd Im dims:  (256, 256, 128)\n",
      "is nan:  False\n",
      "File:  ./training_data/train_z128_iso_im\\D8_resamp_2.nrrd Im dims:  (256, 256, 128)\n",
      "is nan:  False\n",
      "File:  ./training_data/train_z128_iso_im\\D9_resamp_0.nrrd Im dims:  (256, 256, 128)\n",
      "is nan:  False\n",
      "File:  ./training_data/train_z128_iso_im\\D9_resamp_1.nrrd Im dims:  (256, 256, 128)\n",
      "is nan:  False\n",
      "File:  ./training_data/train_z128_iso_im\\D9_resamp_2.nrrd Im dims:  (256, 256, 128)\n",
      "is nan:  False\n",
      "File:  ./training_data/train_z128_iso_im\\K10_resamp_0.nrrd Im dims:  (256, 256, 128)\n",
      "is nan:  False\n",
      "File:  ./training_data/train_z128_iso_im\\K10_resamp_1.nrrd Im dims:  (256, 256, 128)\n",
      "is nan:  False\n",
      "File:  ./training_data/train_z128_iso_im\\K10_resamp_2.nrrd Im dims:  (256, 256, 128)\n",
      "is nan:  False\n",
      "File:  ./training_data/train_z128_iso_im\\K10_resamp_3.nrrd Im dims:  (256, 256, 128)\n",
      "is nan:  False\n",
      "File:  ./training_data/train_z128_iso_im\\K10_resamp_4.nrrd Im dims:  (256, 256, 128)\n",
      "is nan:  False\n",
      "File:  ./training_data/train_z128_iso_im\\K11_resamp_0.nrrd Im dims:  (256, 256, 128)\n",
      "is nan:  False\n",
      "File:  ./training_data/train_z128_iso_im\\K11_resamp_1.nrrd Im dims:  (256, 256, 128)\n",
      "is nan:  False\n",
      "File:  ./training_data/train_z128_iso_im\\K11_resamp_2.nrrd Im dims:  (256, 256, 128)\n",
      "is nan:  False\n",
      "File:  ./training_data/train_z128_iso_im\\K11_resamp_3.nrrd Im dims:  (256, 256, 128)\n",
      "is nan:  False\n",
      "File:  ./training_data/train_z128_iso_im\\K11_resamp_4.nrrd Im dims:  (256, 256, 128)\n",
      "is nan:  False\n",
      "File:  ./training_data/train_z128_iso_im\\K12_resamp_0.nrrd Im dims:  (256, 256, 128)\n",
      "is nan:  False\n",
      "File:  ./training_data/train_z128_iso_im\\K12_resamp_1.nrrd Im dims:  (256, 256, 128)\n",
      "is nan:  False\n",
      "File:  ./training_data/train_z128_iso_im\\K12_resamp_2.nrrd Im dims:  (256, 256, 128)\n",
      "is nan:  False\n",
      "File:  ./training_data/train_z128_iso_im\\K12_resamp_3.nrrd Im dims:  (256, 256, 128)\n",
      "is nan:  False\n",
      "File:  ./training_data/train_z128_iso_im\\K12_resamp_4.nrrd Im dims:  (256, 256, 128)\n",
      "is nan:  False\n",
      "File:  ./training_data/train_z128_iso_im\\K13_resamp_0.nrrd Im dims:  (256, 256, 128)\n",
      "is nan:  False\n",
      "File:  ./training_data/train_z128_iso_im\\K13_resamp_1.nrrd Im dims:  (256, 256, 128)\n",
      "is nan:  False\n",
      "File:  ./training_data/train_z128_iso_im\\K13_resamp_2.nrrd Im dims:  (256, 256, 128)\n",
      "is nan:  False\n",
      "File:  ./training_data/train_z128_iso_im\\K13_resamp_3.nrrd Im dims:  (256, 256, 128)\n",
      "is nan:  False\n",
      "File:  ./training_data/train_z128_iso_im\\K13_resamp_4.nrrd Im dims:  (256, 256, 128)\n",
      "is nan:  False\n",
      "File:  ./training_data/train_z128_iso_im\\K14_resamp_0.nrrd Im dims:  (256, 256, 128)\n",
      "is nan:  False\n",
      "File:  ./training_data/train_z128_iso_im\\K14_resamp_1.nrrd Im dims:  (256, 256, 128)\n",
      "is nan:  False\n",
      "File:  ./training_data/train_z128_iso_im\\K14_resamp_2.nrrd Im dims:  (256, 256, 128)\n",
      "is nan:  False\n",
      "File:  ./training_data/train_z128_iso_im\\K14_resamp_3.nrrd Im dims:  (256, 256, 128)\n",
      "is nan:  False\n",
      "File:  ./training_data/train_z128_iso_im\\K14_resamp_4.nrrd Im dims:  (256, 256, 128)\n",
      "is nan:  False\n",
      "File:  ./training_data/train_z128_iso_im\\K15_resamp_0.nrrd Im dims:  (256, 256, 128)\n",
      "is nan:  False\n",
      "File:  ./training_data/train_z128_iso_im\\K15_resamp_1.nrrd Im dims:  (256, 256, 128)\n",
      "is nan:  False\n",
      "File:  ./training_data/train_z128_iso_im\\K15_resamp_2.nrrd Im dims:  (256, 256, 128)\n",
      "is nan:  False\n",
      "File:  ./training_data/train_z128_iso_im\\K15_resamp_3.nrrd Im dims:  (256, 256, 128)\n",
      "is nan:  False\n",
      "File:  ./training_data/train_z128_iso_im\\K15_resamp_4.nrrd Im dims:  (256, 256, 128)\n",
      "is nan:  False\n",
      "File:  ./training_data/train_z128_iso_im\\K16_resamp_0.nrrd Im dims:  (256, 256, 128)\n",
      "is nan:  False\n",
      "File:  ./training_data/train_z128_iso_im\\K16_resamp_1.nrrd Im dims:  (256, 256, 128)\n",
      "is nan:  False\n",
      "File:  ./training_data/train_z128_iso_im\\K16_resamp_2.nrrd Im dims:  (256, 256, 128)\n",
      "is nan:  False\n",
      "File:  ./training_data/train_z128_iso_im\\K16_resamp_3.nrrd Im dims:  (256, 256, 128)\n",
      "is nan:  False\n",
      "File:  ./training_data/train_z128_iso_im\\K16_resamp_4.nrrd Im dims:  (256, 256, 128)\n",
      "is nan:  False\n",
      "File:  ./training_data/train_z128_iso_im\\K17_resamp_0.nrrd Im dims:  (256, 256, 128)\n",
      "is nan:  False\n",
      "File:  ./training_data/train_z128_iso_im\\K17_resamp_1.nrrd Im dims:  (256, 256, 128)\n",
      "is nan:  False\n",
      "File:  ./training_data/train_z128_iso_im\\K17_resamp_2.nrrd Im dims:  (256, 256, 128)\n",
      "is nan:  False\n",
      "File:  ./training_data/train_z128_iso_im\\K17_resamp_3.nrrd Im dims:  (256, 256, 128)\n",
      "is nan:  False\n",
      "File:  ./training_data/train_z128_iso_im\\K17_resamp_4.nrrd Im dims:  (256, 256, 128)\n",
      "is nan:  False\n",
      "File:  ./training_data/train_z128_iso_im\\K18_resamp_0.nrrd Im dims:  (256, 256, 128)\n",
      "is nan:  False\n",
      "File:  ./training_data/train_z128_iso_im\\K18_resamp_1.nrrd Im dims:  (256, 256, 128)\n",
      "is nan:  False\n",
      "File:  ./training_data/train_z128_iso_im\\K18_resamp_2.nrrd Im dims:  (256, 256, 128)\n",
      "is nan:  False\n",
      "File:  ./training_data/train_z128_iso_im\\K18_resamp_3.nrrd Im dims:  (256, 256, 128)\n",
      "is nan:  False\n",
      "File:  ./training_data/train_z128_iso_im\\K18_resamp_4.nrrd Im dims:  (256, 256, 128)\n",
      "is nan:  False\n",
      "File:  ./training_data/train_z128_iso_im\\K19_resamp_0.nrrd Im dims:  (256, 256, 128)\n",
      "is nan:  False\n",
      "File:  ./training_data/train_z128_iso_im\\K19_resamp_1.nrrd Im dims:  (256, 256, 128)\n",
      "is nan:  False\n",
      "File:  ./training_data/train_z128_iso_im\\K20_resamp_0.nrrd Im dims:  (256, 256, 128)\n",
      "is nan:  False\n",
      "File:  ./training_data/train_z128_iso_im\\K20_resamp_1.nrrd Im dims:  (256, 256, 128)\n",
      "is nan:  False\n",
      "File:  ./training_data/train_z128_iso_im\\K20_resamp_2.nrrd Im dims:  (256, 256, 128)\n",
      "is nan:  False\n",
      "File:  ./training_data/train_z128_iso_im\\K2_resamp_0.nrrd Im dims:  (256, 256, 128)\n",
      "is nan:  False\n",
      "File:  ./training_data/train_z128_iso_im\\K2_resamp_1.nrrd Im dims:  (256, 256, 128)\n",
      "is nan:  False\n",
      "File:  ./training_data/train_z128_iso_im\\K2_resamp_2.nrrd Im dims:  (256, 256, 128)\n",
      "is nan:  False\n",
      "File:  ./training_data/train_z128_iso_im\\K2_resamp_3.nrrd Im dims:  (256, 256, 128)\n",
      "is nan:  False\n",
      "File:  ./training_data/train_z128_iso_im\\K2_resamp_4.nrrd Im dims:  (256, 256, 128)\n",
      "is nan:  False\n",
      "File:  ./training_data/train_z128_iso_im\\K4_resamp_0.nrrd Im dims:  (256, 256, 128)\n",
      "is nan:  False\n",
      "File:  ./training_data/train_z128_iso_im\\K4_resamp_1.nrrd Im dims:  (256, 256, 128)\n",
      "is nan:  False\n",
      "File:  ./training_data/train_z128_iso_im\\K4_resamp_2.nrrd Im dims:  (256, 256, 128)\n",
      "is nan:  False\n",
      "File:  ./training_data/train_z128_iso_im\\K4_resamp_3.nrrd Im dims:  (256, 256, 128)\n",
      "is nan:  False\n",
      "File:  ./training_data/train_z128_iso_im\\K4_resamp_4.nrrd Im dims:  (256, 256, 128)\n",
      "is nan:  False\n",
      "File:  ./training_data/train_z128_iso_im\\K5_resamp_0.nrrd Im dims:  (256, 256, 128)\n",
      "is nan:  False\n",
      "File:  ./training_data/train_z128_iso_im\\K5_resamp_1.nrrd Im dims:  (256, 256, 128)\n",
      "is nan:  False\n",
      "File:  ./training_data/train_z128_iso_im\\K5_resamp_2.nrrd Im dims:  (256, 256, 128)\n",
      "is nan:  False\n",
      "File:  ./training_data/train_z128_iso_im\\K5_resamp_3.nrrd Im dims:  (256, 256, 128)\n",
      "is nan:  False\n",
      "File:  ./training_data/train_z128_iso_im\\K5_resamp_4.nrrd Im dims:  (256, 256, 128)\n",
      "is nan:  False\n",
      "File:  ./training_data/train_z128_iso_im\\K6_resamp_0.nrrd Im dims:  (256, 256, 128)\n",
      "is nan:  False\n",
      "File:  ./training_data/train_z128_iso_im\\K6_resamp_1.nrrd Im dims:  (256, 256, 128)\n",
      "is nan:  False\n",
      "File:  ./training_data/train_z128_iso_im\\K6_resamp_2.nrrd Im dims:  (256, 256, 128)\n",
      "is nan:  False\n",
      "File:  ./training_data/train_z128_iso_im\\K6_resamp_3.nrrd Im dims:  (256, 256, 128)\n",
      "is nan:  False\n",
      "File:  ./training_data/train_z128_iso_im\\K6_resamp_4.nrrd Im dims:  (256, 256, 128)\n",
      "is nan:  False\n",
      "File:  ./training_data/train_z128_iso_im\\K7_resamp_0.nrrd Im dims:  (256, 256, 128)\n",
      "is nan:  False\n",
      "File:  ./training_data/train_z128_iso_im\\K7_resamp_1.nrrd Im dims:  (256, 256, 128)\n",
      "is nan:  False\n",
      "File:  ./training_data/train_z128_iso_im\\K7_resamp_2.nrrd Im dims:  (256, 256, 128)\n",
      "is nan:  False\n",
      "File:  ./training_data/train_z128_iso_im\\K7_resamp_3.nrrd Im dims:  (256, 256, 128)\n",
      "is nan:  False\n",
      "File:  ./training_data/train_z128_iso_im\\K7_resamp_4.nrrd Im dims:  (256, 256, 128)\n",
      "is nan:  False\n",
      "File:  ./training_data/train_z128_iso_im\\K8_resamp_0.nrrd Im dims:  (256, 256, 128)\n",
      "is nan:  False\n",
      "File:  ./training_data/train_z128_iso_im\\K8_resamp_1.nrrd Im dims:  (256, 256, 128)\n",
      "is nan:  False\n",
      "File:  ./training_data/train_z128_iso_im\\K8_resamp_2.nrrd Im dims:  (256, 256, 128)\n",
      "is nan:  False\n",
      "File:  ./training_data/train_z128_iso_im\\K8_resamp_3.nrrd Im dims:  (256, 256, 128)\n",
      "is nan:  False\n",
      "File:  ./training_data/train_z128_iso_im\\K8_resamp_4.nrrd Im dims:  (256, 256, 128)\n",
      "is nan:  False\n",
      "File:  ./training_data/train_z128_iso_im\\K9_resamp_0.nrrd Im dims:  (256, 256, 128)\n",
      "is nan:  False\n",
      "File:  ./training_data/train_z128_iso_im\\K9_resamp_1.nrrd Im dims:  (256, 256, 128)\n",
      "is nan:  False\n",
      "File:  ./training_data/train_z128_iso_im\\K9_resamp_2.nrrd Im dims:  (256, 256, 128)\n",
      "is nan:  False\n",
      "File:  ./training_data/train_z128_iso_im\\K9_resamp_3.nrrd Im dims:  (256, 256, 128)\n",
      "is nan:  False\n",
      "File:  ./training_data/train_z128_iso_im\\K9_resamp_4.nrrd Im dims:  (256, 256, 128)\n",
      "is nan:  False\n",
      "File:  ./training_data/train_z128_iso_im\\R10_resamp_0.nrrd Im dims:  (256, 256, 128)\n",
      "is nan:  False\n",
      "File:  ./training_data/train_z128_iso_im\\R10_resamp_1.nrrd Im dims:  (256, 256, 128)\n",
      "is nan:  False\n",
      "File:  ./training_data/train_z128_iso_im\\R10_resamp_2.nrrd Im dims:  (256, 256, 128)\n",
      "is nan:  False\n",
      "File:  ./training_data/train_z128_iso_im\\R10_resamp_3.nrrd Im dims:  (256, 256, 128)\n",
      "is nan:  False\n",
      "File:  ./training_data/train_z128_iso_im\\R10_resamp_4.nrrd Im dims:  (256, 256, 128)\n",
      "is nan:  False\n",
      "File:  ./training_data/train_z128_iso_im\\R11_resamp_0.nrrd Im dims:  (256, 256, 128)\n",
      "is nan:  False\n",
      "File:  ./training_data/train_z128_iso_im\\R11_resamp_1.nrrd Im dims:  (256, 256, 128)\n",
      "is nan:  False\n",
      "File:  ./training_data/train_z128_iso_im\\R11_resamp_2.nrrd Im dims:  (256, 256, 128)\n",
      "is nan:  False\n",
      "File:  ./training_data/train_z128_iso_im\\R11_resamp_3.nrrd Im dims:  (256, 256, 128)\n",
      "is nan:  False\n",
      "File:  ./training_data/train_z128_iso_im\\R11_resamp_4.nrrd Im dims:  (256, 256, 128)\n",
      "is nan:  False\n",
      "File:  ./training_data/train_z128_iso_im\\R12_resamp_0.nrrd Im dims:  (256, 256, 128)\n",
      "is nan:  False\n",
      "File:  ./training_data/train_z128_iso_im\\R12_resamp_1.nrrd Im dims:  (256, 256, 128)\n",
      "is nan:  False\n",
      "File:  ./training_data/train_z128_iso_im\\R12_resamp_2.nrrd Im dims:  (256, 256, 128)\n",
      "is nan:  False\n",
      "File:  ./training_data/train_z128_iso_im\\R12_resamp_3.nrrd Im dims:  (256, 256, 128)\n",
      "is nan:  False\n",
      "File:  ./training_data/train_z128_iso_im\\R12_resamp_4.nrrd Im dims:  (256, 256, 128)\n",
      "is nan:  False\n",
      "File:  ./training_data/train_z128_iso_im\\R13_resamp_0.nrrd Im dims:  (256, 256, 128)\n",
      "is nan:  False\n",
      "File:  ./training_data/train_z128_iso_im\\R13_resamp_1.nrrd Im dims:  (256, 256, 128)\n",
      "is nan:  False\n",
      "File:  ./training_data/train_z128_iso_im\\R13_resamp_2.nrrd Im dims:  (256, 256, 128)\n",
      "is nan:  False\n",
      "File:  ./training_data/train_z128_iso_im\\R13_resamp_3.nrrd Im dims:  (256, 256, 128)\n",
      "is nan:  False\n",
      "File:  ./training_data/train_z128_iso_im\\R13_resamp_4.nrrd Im dims:  (256, 256, 128)\n",
      "is nan:  False\n",
      "File:  ./training_data/train_z128_iso_im\\R14_resamp_0.nrrd Im dims:  (256, 256, 128)\n",
      "is nan:  False\n",
      "File:  ./training_data/train_z128_iso_im\\R14_resamp_1.nrrd Im dims:  (256, 256, 128)\n",
      "is nan:  False\n",
      "File:  ./training_data/train_z128_iso_im\\R14_resamp_2.nrrd Im dims:  (256, 256, 128)\n",
      "is nan:  False\n",
      "File:  ./training_data/train_z128_iso_im\\R14_resamp_3.nrrd Im dims:  (256, 256, 128)\n",
      "is nan:  False\n",
      "File:  ./training_data/train_z128_iso_im\\R14_resamp_4.nrrd Im dims:  (256, 256, 128)\n",
      "is nan:  False\n",
      "File:  ./training_data/train_z128_iso_im\\R14_resamp_5.nrrd Im dims:  (256, 256, 128)\n",
      "is nan:  False\n",
      "File:  ./training_data/train_z128_iso_im\\R15_resamp_1.nrrd Im dims:  (256, 256, 128)\n",
      "is nan:  False\n",
      "File:  ./training_data/train_z128_iso_im\\R15_resamp_2.nrrd Im dims:  (256, 256, 128)\n",
      "is nan:  False\n",
      "File:  ./training_data/train_z128_iso_im\\R15_resamp_3.nrrd Im dims:  (256, 256, 128)\n",
      "is nan:  False\n",
      "File:  ./training_data/train_z128_iso_im\\R15_resamp_4.nrrd Im dims:  (256, 256, 128)\n",
      "is nan:  False\n",
      "File:  ./training_data/train_z128_iso_im\\R15_resamp_5.nrrd Im dims:  (256, 256, 128)\n",
      "is nan:  False\n",
      "File:  ./training_data/train_z128_iso_im\\R16_resamp_2.nrrd Im dims:  (256, 256, 128)\n",
      "is nan:  False\n",
      "File:  ./training_data/train_z128_iso_im\\R16_resamp_3.nrrd Im dims:  (256, 256, 128)\n",
      "is nan:  False\n",
      "File:  ./training_data/train_z128_iso_im\\R16_resamp_4.nrrd Im dims:  (256, 256, 128)\n",
      "is nan:  False\n",
      "File:  ./training_data/train_z128_iso_im\\R16_resamp_5.nrrd Im dims:  (256, 256, 128)\n",
      "is nan:  False\n",
      "File:  ./training_data/train_z128_iso_im\\R16_resamp_6.nrrd Im dims:  (256, 256, 128)\n",
      "is nan:  False\n",
      "File:  ./training_data/train_z128_iso_im\\R17_resamp_0.nrrd Im dims:  (256, 256, 128)\n",
      "is nan:  False\n",
      "File:  ./training_data/train_z128_iso_im\\R17_resamp_1.nrrd Im dims:  (256, 256, 128)\n",
      "is nan:  False\n",
      "File:  ./training_data/train_z128_iso_im\\R17_resamp_2.nrrd Im dims:  (256, 256, 128)\n",
      "is nan:  False\n",
      "File:  ./training_data/train_z128_iso_im\\R17_resamp_3.nrrd Im dims:  (256, 256, 128)\n",
      "is nan:  False\n",
      "File:  ./training_data/train_z128_iso_im\\R17_resamp_4.nrrd Im dims:  (256, 256, 128)\n",
      "is nan:  False\n",
      "File:  ./training_data/train_z128_iso_im\\R18_resamp_1.nrrd Im dims:  (256, 256, 128)\n",
      "is nan:  False\n",
      "File:  ./training_data/train_z128_iso_im\\R18_resamp_2.nrrd Im dims:  (256, 256, 128)\n",
      "is nan:  False\n",
      "File:  ./training_data/train_z128_iso_im\\R18_resamp_3.nrrd Im dims:  (256, 256, 128)\n",
      "is nan:  False\n",
      "File:  ./training_data/train_z128_iso_im\\R18_resamp_4.nrrd Im dims:  (256, 256, 128)\n",
      "is nan:  False\n",
      "File:  ./training_data/train_z128_iso_im\\R2_resamp_0.nrrd Im dims:  (256, 256, 128)\n",
      "is nan:  False\n",
      "File:  ./training_data/train_z128_iso_im\\R2_resamp_1.nrrd Im dims:  (256, 256, 128)\n",
      "is nan:  False\n",
      "File:  ./training_data/train_z128_iso_im\\R2_resamp_2.nrrd Im dims:  (256, 256, 128)\n",
      "is nan:  False\n",
      "File:  ./training_data/train_z128_iso_im\\R2_resamp_3.nrrd Im dims:  (256, 256, 128)\n",
      "is nan:  False\n",
      "File:  ./training_data/train_z128_iso_im\\R2_resamp_4.nrrd Im dims:  (256, 256, 128)\n",
      "is nan:  False\n",
      "File:  ./training_data/train_z128_iso_im\\R4_resamp_0.nrrd Im dims:  (256, 256, 128)\n",
      "is nan:  False\n",
      "File:  ./training_data/train_z128_iso_im\\R4_resamp_1.nrrd Im dims:  (256, 256, 128)\n",
      "is nan:  False\n",
      "File:  ./training_data/train_z128_iso_im\\R4_resamp_2.nrrd Im dims:  (256, 256, 128)\n",
      "is nan:  False\n",
      "File:  ./training_data/train_z128_iso_im\\R4_resamp_3.nrrd Im dims:  (256, 256, 128)\n",
      "is nan:  False\n",
      "File:  ./training_data/train_z128_iso_im\\R4_resamp_4.nrrd Im dims:  (256, 256, 128)\n",
      "is nan:  False\n",
      "File:  ./training_data/train_z128_iso_im\\R5_resamp_0.nrrd Im dims:  (256, 256, 128)\n",
      "is nan:  False\n",
      "File:  ./training_data/train_z128_iso_im\\R5_resamp_1.nrrd Im dims:  (256, 256, 128)\n",
      "is nan:  False\n",
      "File:  ./training_data/train_z128_iso_im\\R5_resamp_2.nrrd Im dims:  (256, 256, 128)\n",
      "is nan:  False\n",
      "File:  ./training_data/train_z128_iso_im\\R5_resamp_3.nrrd Im dims:  (256, 256, 128)\n",
      "is nan:  False\n",
      "File:  ./training_data/train_z128_iso_im\\R5_resamp_4.nrrd Im dims:  (256, 256, 128)\n",
      "is nan:  False\n",
      "File:  ./training_data/train_z128_iso_im\\R6_resamp_0.nrrd Im dims:  (256, 256, 128)\n",
      "is nan:  False\n",
      "File:  ./training_data/train_z128_iso_im\\R6_resamp_1.nrrd Im dims:  (256, 256, 128)\n",
      "is nan:  False\n",
      "File:  ./training_data/train_z128_iso_im\\R6_resamp_2.nrrd Im dims:  (256, 256, 128)\n",
      "is nan:  False\n",
      "File:  ./training_data/train_z128_iso_im\\R6_resamp_3.nrrd Im dims:  (256, 256, 128)\n",
      "is nan:  False\n",
      "File:  ./training_data/train_z128_iso_im\\R6_resamp_4.nrrd Im dims:  (256, 256, 128)\n",
      "is nan:  False\n",
      "File:  ./training_data/train_z128_iso_im\\R7_resamp_0.nrrd Im dims:  (256, 256, 128)\n",
      "is nan:  False\n",
      "File:  ./training_data/train_z128_iso_im\\R7_resamp_1.nrrd Im dims:  (256, 256, 128)\n",
      "is nan:  False\n",
      "File:  ./training_data/train_z128_iso_im\\R7_resamp_2.nrrd Im dims:  (256, 256, 128)\n",
      "is nan:  False\n",
      "File:  ./training_data/train_z128_iso_im\\R7_resamp_3.nrrd Im dims:  (256, 256, 128)\n",
      "is nan:  False\n",
      "File:  ./training_data/train_z128_iso_im\\R7_resamp_4.nrrd Im dims:  (256, 256, 128)\n",
      "is nan:  False\n",
      "File:  ./training_data/train_z128_iso_im\\R8_resamp_0.nrrd Im dims:  (256, 256, 128)\n",
      "is nan:  False\n",
      "File:  ./training_data/train_z128_iso_im\\R8_resamp_1.nrrd Im dims:  (256, 256, 128)\n",
      "is nan:  False\n",
      "File:  ./training_data/train_z128_iso_im\\R8_resamp_2.nrrd Im dims:  (256, 256, 128)\n",
      "is nan:  False\n",
      "File:  ./training_data/train_z128_iso_im\\R8_resamp_3.nrrd Im dims:  (256, 256, 128)\n",
      "is nan:  False\n",
      "File:  ./training_data/train_z128_iso_im\\R8_resamp_4.nrrd Im dims:  (256, 256, 128)\n",
      "is nan:  False\n",
      "File:  ./training_data/train_z128_iso_im\\R9_resamp_0.nrrd Im dims:  (256, 256, 128)\n",
      "is nan:  False\n",
      "File:  ./training_data/train_z128_iso_im\\R9_resamp_1.nrrd Im dims:  (256, 256, 128)\n",
      "is nan:  False\n",
      "File:  ./training_data/train_z128_iso_im\\R9_resamp_2.nrrd Im dims:  (256, 256, 128)\n",
      "is nan:  False\n",
      "File:  ./training_data/train_z128_iso_im\\R9_resamp_3.nrrd Im dims:  (256, 256, 128)\n",
      "is nan:  False\n",
      "File:  ./training_data/train_z128_iso_im\\R9_resamp_4.nrrd Im dims:  (256, 256, 128)\n",
      "is nan:  False\n"
     ]
    }
   ],
   "source": [
    "count=0\n",
    "for i, path in enumerate(data_list):\n",
    "    image, header = nrrd.read(path)\n",
    "    print('File: ' ,data_list[i], 'Im dims: ', image.shape)\n",
    "    print('is nan: ', np.isnan(np.sum(image)) )\n"
   ],
   "metadata": {
    "collapsed": false,
    "pycharm": {
     "name": "#%%\n"
    }
   }
  },
  {
   "cell_type": "code",
   "execution_count": 16,
   "outputs": [],
   "source": [
    "image, h = nrrd.read('./training_data/resampled_train/K19_resamp.nrrd')\n",
    "label, hl =nrrd.read('./training_data/resampled_ground/K19_resamp.seg.nrrd')"
   ],
   "metadata": {
    "collapsed": false,
    "pycharm": {
     "name": "#%%\n"
    }
   }
  },
  {
   "cell_type": "code",
   "execution_count": 17,
   "outputs": [
    {
     "name": "stdout",
     "output_type": "stream",
     "text": [
      "(224, 224, 297)\n",
      "(224, 224, 297)\n",
      "16 16\n",
      "16 16\n",
      "(224, 224, 297)\n",
      "16 16\n",
      "16 16\n"
     ]
    }
   ],
   "source": [
    "x, y, z = image.shape\n",
    "print(label.shape)\n",
    "pad_im = padding(image, (256,256,z))\n",
    "pad_la = padding(label, (256,256,z))"
   ],
   "metadata": {
    "collapsed": false,
    "pycharm": {
     "name": "#%%\n"
    }
   }
  },
  {
   "cell_type": "code",
   "execution_count": 18,
   "outputs": [
    {
     "name": "stdout",
     "output_type": "stream",
     "text": [
      "(256, 256, 297)\n"
     ]
    }
   ],
   "source": [
    "print(pad_la.shape)"
   ],
   "metadata": {
    "collapsed": false,
    "pycharm": {
     "name": "#%%\n"
    }
   }
  },
  {
   "cell_type": "code",
   "execution_count": 24,
   "outputs": [],
   "source": [
    "nrrd.write('test_pad.nrrd', pad_im)"
   ],
   "metadata": {
    "collapsed": false,
    "pycharm": {
     "name": "#%%\n"
    }
   }
  },
  {
   "cell_type": "code",
   "execution_count": 18,
   "outputs": [],
   "source": [
    "x,y,z = image.shape\n",
    "m_x = x//2\n",
    "m_y = y//2\n",
    "arr = image[m_x-128:m_x+128,m_y-128:m_y+128,:]\n",
    "arr_l = label[m_x-128:m_x+128,m_y-128:m_y+128,:]\n",
    "nrrd.write('test_crop.nrrd',arr)\n",
    "nrrd.write('test_crop.seg.nrrd', arr_l)"
   ],
   "metadata": {
    "collapsed": false,
    "pycharm": {
     "name": "#%%\n"
    }
   }
  },
  {
   "cell_type": "code",
   "execution_count": 22,
   "outputs": [],
   "source": [
    "image, h = nrrd.read('training_data/resampled_train/K13_resamp.nrrd')\n",
    "#img_eq = skimage.exposure.equalize_adapthist(image, clip_limit=0.03)\n",
    "#im_norm = (image - np.min(image))/(np.max(image)-np.min(image))\n",
    "#im_norm = np.subtract(im_norm, 0.4, where=(im_norm!=0))\n",
    "im_win = np.where(image<1100,0, image)\n",
    "im_win = np.where(image>2000,0,im_win)\n",
    "nrrd.write('K13_win.nrrd', im_win)"
   ],
   "metadata": {
    "collapsed": false,
    "pycharm": {
     "name": "#%%\n"
    }
   }
  },
  {
   "cell_type": "code",
   "execution_count": null,
   "outputs": [],
   "source": [],
   "metadata": {
    "collapsed": false,
    "pycharm": {
     "name": "#%%\n"
    }
   }
  }
 ],
 "metadata": {
  "kernelspec": {
   "display_name": "Python 3",
   "language": "python",
   "name": "python3"
  },
  "language_info": {
   "codemirror_mode": {
    "name": "ipython",
    "version": 2
   },
   "file_extension": ".py",
   "mimetype": "text/x-python",
   "name": "python",
   "nbconvert_exporter": "python",
   "pygments_lexer": "ipython2",
   "version": "2.7.6"
  }
 },
 "nbformat": 4,
 "nbformat_minor": 0
}